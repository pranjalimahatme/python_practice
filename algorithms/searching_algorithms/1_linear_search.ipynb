{
 "cells": [
  {
   "cell_type": "markdown",
   "id": "b744aa04-d4b7-42e0-96b8-fd50d7425168",
   "metadata": {},
   "source": [
    "# Linear Search Algorithm"
   ]
  },
  {
   "cell_type": "code",
   "execution_count": 22,
   "id": "fe69dd32-3165-4f8e-9403-859533201753",
   "metadata": {},
   "outputs": [],
   "source": [
    "def linear_search(arr, target):\n",
    "    for i in range(len(arr)):\n",
    "        if arr[i] == target:\n",
    "            return 1\n",
    "    return -1"
   ]
  },
  {
   "cell_type": "code",
   "execution_count": 27,
   "id": "f1c202aa-1990-4ab6-968c-785dfb3120de",
   "metadata": {},
   "outputs": [
    {
     "name": "stdout",
     "output_type": "stream",
     "text": [
      "5 is in the list.\n"
     ]
    }
   ],
   "source": [
    "if __name__ == \"__main__\":\n",
    "    arr = [1, 34, 5, 6, 8, 10, -2]\n",
    "    target = 5\n",
    "    result = linear_search(arr, target)\n",
    "\n",
    "    if result == 1:\n",
    "        print(f\"{target} is in the list.\")\n",
    "    else:\n",
    "        print(f\"{target} is not in the list.\")"
   ]
  }
 ],
 "metadata": {
  "kernelspec": {
   "display_name": "Python 3 (ipykernel)",
   "language": "python",
   "name": "python3"
  },
  "language_info": {
   "codemirror_mode": {
    "name": "ipython",
    "version": 3
   },
   "file_extension": ".py",
   "mimetype": "text/x-python",
   "name": "python",
   "nbconvert_exporter": "python",
   "pygments_lexer": "ipython3",
   "version": "3.11.7"
  }
 },
 "nbformat": 4,
 "nbformat_minor": 5
}
