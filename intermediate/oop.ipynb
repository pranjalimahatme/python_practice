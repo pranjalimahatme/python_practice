{
 "cells": [
  {
   "cell_type": "markdown",
   "id": "96cfdc76-8c19-4ce1-a2dd-92398b459ffc",
   "metadata": {},
   "source": [
    "# OOP"
   ]
  },
  {
   "cell_type": "markdown",
   "id": "a0ba306c-ffb8-432d-8827-81739537bed3",
   "metadata": {},
   "source": [
    "## 1. Class and Object"
   ]
  },
  {
   "cell_type": "code",
   "execution_count": 20,
   "id": "9b40b050-9c0c-42f8-9502-b1703545d1ce",
   "metadata": {},
   "outputs": [
    {
     "name": "stdout",
     "output_type": "stream",
     "text": [
      "Name: Alice, Age: 20.\n",
      "Name: Alice, Age: 20.\n"
     ]
    }
   ],
   "source": [
    "# Q1. Create a Person class with attributes name and age, and a method display() that prints them.\n",
    "\n",
    "class Person():\n",
    "    def __init__ (self, name, age):\n",
    "        self.name = name\n",
    "        self.age = age\n",
    "        \n",
    "    def display(self):\n",
    "        print(f\"Name: {self.name}, Age: {self.age}.\")\n",
    "\n",
    "person1 = Person(\"Alice\", 20)\n",
    "person1.display()\n",
    "\n",
    "print(f\"Name: {person1.name}, Age: {person1.age}.\")"
   ]
  },
  {
   "cell_type": "code",
   "execution_count": 25,
   "id": "7407db68-1499-48e4-92a7-fc3cf23d7e7e",
   "metadata": {},
   "outputs": [
    {
     "name": "stdout",
     "output_type": "stream",
     "text": [
      "Brand: Toyota, Model: Corolla, Year: 2020.\n",
      "Brand: Honda, Model: Civic, Year: 2022.\n"
     ]
    }
   ],
   "source": [
    "# Q2. Create a Car class with attributes brand, model, and year.\n",
    "# Add a method car_info() that prints car details in one line.\n",
    "# Then, create multiple car objects and call the method.\n",
    "\n",
    "class Car():\n",
    "    def __init__(self, brand, model, year):\n",
    "        self.brand = brand\n",
    "        self.model = model\n",
    "        self.year = year\n",
    "        \n",
    "    def car_info(self):\n",
    "        print(f\"Brand: {self.brand}, Model: {self.model}, Year: {self.year}.\")\n",
    "\n",
    "car1 = Car(\"Toyota\", \"Corolla\", 2020)\n",
    "car2 = Car(\"Honda\", \"Civic\", 2022)\n",
    "\n",
    "car1.car_info()\n",
    "car2.car_info()"
   ]
  },
  {
   "cell_type": "code",
   "execution_count": 33,
   "id": "9c5a2f1b-529a-4f89-aa6e-bb78d1541164",
   "metadata": {},
   "outputs": [
    {
     "name": "stdout",
     "output_type": "stream",
     "text": [
      "<__main__.Furniture object at 0x0000025D8B4BCA50>\n",
      "Chair\n",
      "Wood\n"
     ]
    }
   ],
   "source": [
    "# 3. Instance variables vs Class Variables\n",
    "class Furniture:\n",
    "    material = \"Wood\" \n",
    "    \n",
    "    def __init__(self, type):\n",
    "        self.type = type\n",
    "\n",
    "f1 = Furniture(\"Chair\")\n",
    "print(f1)\n",
    "print(f1.type)\n",
    "\n",
    "print(Furniture.material)"
   ]
  },
  {
   "cell_type": "code",
   "execution_count": 49,
   "id": "b9a93c6a-21dd-45cb-9045-39b5f308dad7",
   "metadata": {},
   "outputs": [
    {
     "name": "stdout",
     "output_type": "stream",
     "text": [
      "Total no. of objects:  1\n",
      "Total no. of objects:  2\n",
      "Total no. of objects:  3\n",
      "Total no. of objects:  4\n"
     ]
    }
   ],
   "source": [
    "# class variables vs instance variables\n",
    "\n",
    "'''\n",
    "Create a class Counter with a class variable count and an instance variable name.\n",
    "Increment count each time an object is created and print how many objects exist.\n",
    "'''\n",
    "class Counter:\n",
    "    count = 0\n",
    "    def __init__(self, name):\n",
    "        self.name = name\n",
    "        Counter.count += 1\n",
    "        print(\"Total no. of objects: \", Counter.count)\n",
    "\n",
    "obj1 = Counter('a')\n",
    "obj2 = Counter('b')\n",
    "obj3 = Counter('c')\n",
    "obj4 = Counter('d')"
   ]
  },
  {
   "cell_type": "markdown",
   "id": "54dd79bb-ab2f-463c-97c1-fd066a9e2c0e",
   "metadata": {},
   "source": [
    "## 2. Types of Methods"
   ]
  },
  {
   "cell_type": "code",
   "execution_count": 1,
   "id": "838e8fe4-df19-46f5-952f-10b53c1b09c4",
   "metadata": {},
   "outputs": [
    {
     "name": "stdout",
     "output_type": "stream",
     "text": [
      "Name: Alex, Grade: A.\n",
      "Name: Bob, Grade: B.\n",
      "\n",
      "School name: ABC School.\n",
      "Updated School name: XYZ School.\n",
      "\n",
      "This is a Student class.\n",
      "\n"
     ]
    }
   ],
   "source": [
    "#Q3. Create a class Student with a class variable school = \"ABC School\".\n",
    "# Add an instance method display() that prints name and grade.\n",
    "# Add a class method change_school() to modify school name.\n",
    "# Add a static method info() that prints “This is a Student class”.\n",
    "\n",
    "class Student:\n",
    "    school = \"ABC School\"\n",
    "    \n",
    "    def __init__(self, name, grade):\n",
    "        self.name = name\n",
    "        self.grade = grade\n",
    "        \n",
    "    def display(self):\n",
    "        print(f\"Name: {self.name}, Grade: {self.grade}.\")\n",
    "\n",
    "    @classmethod\n",
    "    def change_school(cls, new_school):\n",
    "        cls.school = new_school\n",
    "        \n",
    "    @staticmethod\n",
    "    def info():\n",
    "        print(\"This is a Student class.\\n\")\n",
    "\n",
    "\n",
    "student1 = Student(\"Alex\", \"A\")\n",
    "student2 = Student(\"Bob\", \"B\")\n",
    "\n",
    "student1.display()\n",
    "student2.display()\n",
    "\n",
    "print(f\"\\nSchool name: {Student.school}.\")\n",
    "Student.change_school(\"XYZ School\")\n",
    "print(f\"Updated School name: {Student.school}.\\n\")\n",
    "\n",
    "Student.info()\n",
    "\n"
   ]
  },
  {
   "cell_type": "markdown",
   "id": "394363fd-1ccb-49ab-931c-8f0445fe9226",
   "metadata": {},
   "source": [
    "## 3. Encapsulation"
   ]
  },
  {
   "cell_type": "code",
   "execution_count": 22,
   "id": "de32584c-45d8-4915-b411-c0228471bade",
   "metadata": {},
   "outputs": [
    {
     "name": "stdout",
     "output_type": "stream",
     "text": [
      "Name: 'Alex', Balance: 10000, Pin: 'ABC123'\n",
      "Alex\n",
      "10000\n",
      "ABC123\n",
      "Pin = 'ABC123'\n",
      "Pin already exists!\n"
     ]
    }
   ],
   "source": [
    "class Account:\n",
    "    def __init__(self, name, balance, pin):\n",
    "        self.name = name          # Public\n",
    "        self._balance = balance   # Protected\n",
    "        self.__pin = pin          # Private\n",
    "\n",
    "    def show_details(self):\n",
    "        \"\"\"Shows all attributes (accessible inside class).\"\"\"\n",
    "        return f\"Name: '{self.name}', Balance: {self._balance}, Pin: '{self.__pin}'\"\n",
    "\n",
    "    def set_pin(self, pin):\n",
    "        \"\"\"Sets pin only if it doesn't exist.\"\"\"\n",
    "        if self.__pin is None:\n",
    "            self.__pin = pin\n",
    "        else:\n",
    "            print(\"Pin already exists!\")\n",
    "\n",
    "    def get_pin(self):\n",
    "        \"\"\"Returns the private pin.\"\"\"\n",
    "        return f\"Pin = '{self.__pin}'\"\n",
    "\n",
    "acc1 = Account(\"Alex\", 10000, \"ABC123\")\n",
    "\n",
    "# Access inside the class\n",
    "print(acc1.show_details())\n",
    "\n",
    "# Access public attribute (allowed)\n",
    "print(acc1.name)\n",
    "\n",
    "# Access protected attribute (possible, not recommended)\n",
    "print(acc1._balance)\n",
    "\n",
    "# Access private attribute (not directly)\n",
    "# print(acc1.__pin)  #AttributeError\n",
    "print(acc1._Account__pin)  # Works via name mangling\n",
    "\n",
    "# Use getter method\n",
    "print(acc1.get_pin())\n",
    "\n",
    "# Try setting pin again\n",
    "acc1.set_pin(\"123\")"
   ]
  },
  {
   "cell_type": "markdown",
   "id": "627735a2-e73a-4225-b6b7-f82a097475a7",
   "metadata": {},
   "source": [
    "## 4. Inheritance"
   ]
  },
  {
   "cell_type": "code",
   "execution_count": 28,
   "id": "679d3609-d808-4925-aca9-189c335f0d50",
   "metadata": {},
   "outputs": [
    {
     "name": "stdout",
     "output_type": "stream",
     "text": [
      "Name = Vijay, Age = 19, city = ABC\n",
      "\n",
      "Name = Ajay, Age = 18, city = Mumbai.\n",
      "\n",
      "Name = Jay, Age = 18, city = Kolhapur.\n",
      "\n",
      "Ajay\n"
     ]
    },
    {
     "data": {
      "text/plain": [
       "True"
      ]
     },
     "execution_count": 28,
     "metadata": {},
     "output_type": "execute_result"
    }
   ],
   "source": [
    "# 1. Single inheritance\n",
    "\n",
    "class Person:\n",
    "    city = \"ABC\"\n",
    "    def __init__(self, name, age):\n",
    "        self.name = name\n",
    "        self.age = age\n",
    "\n",
    "    @classmethod\n",
    "    def city_name(cls, city):\n",
    "        cls.city = \"Kolhapur\"\n",
    "\n",
    "    def print_person(self):\n",
    "        return \"Name = {}, Age = {}, city = {}\\n\".format(self.name, self.age, self.city)\n",
    "\n",
    "class Voter(Person):\n",
    "    def __init__(self, name, age, city):\n",
    "        super().__init__(name, age)\n",
    "        self.city = city \n",
    "        \n",
    "    def is_voter(self):\n",
    "        if self.age >= 18:\n",
    "            return True\n",
    "        return False\n",
    "\n",
    "    def print_voter(self):\n",
    "        return \"Name = {}, Age = {}, city = {}.\\n\".format(self.name, self.age, self.city)\n",
    "\n",
    "person1 = Person(\"Vijay\", 19)\n",
    "voter1 = Voter(\"Ajay\", 18, \"Mumbai\")\n",
    "voter2 = Voter(\"Jay\", 18, \"Kolhapur\")\n",
    "\n",
    "print(person1.print_person())\n",
    "print(voter1.print_voter())\n",
    "print(voter2.print_voter())\n",
    "\n",
    "print(voter1.name)\n",
    "\n",
    "Voter.is_voter(voter1)"
   ]
  },
  {
   "cell_type": "code",
   "execution_count": 45,
   "id": "f16d1f2c-78df-4e86-bd12-1abdd84c4278",
   "metadata": {
    "scrolled": true
   },
   "outputs": [
    {
     "name": "stdout",
     "output_type": "stream",
     "text": [
      "\n",
      "Animal has sound.\n",
      "\n",
      "Animal has sound.\n",
      "Dog Barks. \n",
      "\n",
      "\n",
      "Animal has sound.\n",
      "Cat Meows. \n",
      "\n"
     ]
    }
   ],
   "source": [
    "# single Inheritance\n",
    "'''\n",
    "Create a base class Animal with method speak().\n",
    "Then derive two classes:\n",
    "\n",
    "Dog (prints “Barks”)\n",
    "\n",
    "Cat (prints “Meows”)\n",
    "Demonstrate single inheritance and method overriding.\n",
    "'''\n",
    "\n",
    "class Animal:\n",
    "    def speak(self):\n",
    "        print('\\nAnimal has sound.')\n",
    "\n",
    "class Dog(Animal):\n",
    "    def speak(self):\n",
    "        super().speak()\n",
    "        print('Dog Barks. \\n')\n",
    "\n",
    "class Cat(Animal):\n",
    "    def speak(self):\n",
    "        super().speak()\n",
    "        print('Cat Meows. \\n')\n",
    "\n",
    "\n",
    "animal1 = Animal()\n",
    "animal1.speak()\n",
    "\n",
    "dog = Dog()\n",
    "dog.speak()\n",
    "\n",
    "cat = Cat()\n",
    "cat.speak()\n"
   ]
  },
  {
   "cell_type": "code",
   "execution_count": 47,
   "id": "d5cbbf79-1b85-436a-95a6-75dd8a0681d2",
   "metadata": {},
   "outputs": [
    {
     "name": "stdout",
     "output_type": "stream",
     "text": [
      "\n",
      "This is A.\n",
      "\n",
      "This is A.\n",
      "This is B.\n",
      "\n",
      "This is A.\n",
      "This is B.\n",
      "This is C.\n"
     ]
    }
   ],
   "source": [
    "# Multilevel inheritance\n",
    "'''\n",
    "Create classes A, B(A), and C(B) to demonstrate multilevel inheritance.\n",
    "Each class should have a show() method printing its name.\n",
    "'''\n",
    "\n",
    "class A:\n",
    "    def show(self):\n",
    "        print(\"\\nThis is A.\")\n",
    "\n",
    "class B(A):\n",
    "    def show(self):\n",
    "        super().show()\n",
    "        print(\"This is B.\")\n",
    "\n",
    "class C(B):\n",
    "    def show(self):\n",
    "        super().show()\n",
    "        print(\"This is C.\")\n",
    "\n",
    "a = A()\n",
    "b = B()\n",
    "c = C()\n",
    "\n",
    "a.show()\n",
    "b.show()\n",
    "c.show()"
   ]
  },
  {
   "cell_type": "code",
   "execution_count": 51,
   "id": "7d732a16-3983-4c8f-b8d5-ca3ed134e0e1",
   "metadata": {},
   "outputs": [
    {
     "name": "stdout",
     "output_type": "stream",
     "text": [
      "Name : Alex, Role : Teacher.\n",
      "Name : Alex, Role : student.\n",
      "Name : Alex, Role : Teaching Assistant.\n",
      "\n",
      "MRO for TeachingAssistant class:\n",
      "<class '__main__.TeachingAssistant'>\n",
      "<class '__main__.Teacher'>\n",
      "<class '__main__.Student'>\n",
      "<class 'object'>\n"
     ]
    }
   ],
   "source": [
    "# Multiple Inheritance\n",
    "'''\n",
    "Create two base classes Teacher and Student each with a show() method.\n",
    "Create a derived class TA (TeachingAssistant) that inherits from both and overrides show().\n",
    "'''\n",
    "\n",
    "class Teacher:\n",
    "    def __init__(self, name, role = 'Teacher'):\n",
    "        self.name = name\n",
    "        self.role = role\n",
    "        \n",
    "    def show(self):\n",
    "        return f\"Name : {self.name}, Role : {self.role}.\"\n",
    "\n",
    "\n",
    "class Student:\n",
    "    def __init__(self, name, role = 'student'):\n",
    "        self.name = name\n",
    "        self.role = role\n",
    "        \n",
    "    def show(self):\n",
    "        return f\"Name : {self.name}, Role : {self.role}.\"\n",
    "        \n",
    "\n",
    "class TeachingAssistant(Teacher, Student):\n",
    "    def __init__(self, name, role = 'Teaching Assistant'):\n",
    "         super().__init__(name, role)\n",
    "\n",
    "    def show(self):\n",
    "        return f\"Name : {self.name}, Role : {self.role}.\"\n",
    "\n",
    "\n",
    "\n",
    "teacher = Teacher('Alex')\n",
    "student = Student('Alex')\n",
    "teaching_assistant = TeachingAssistant('Alex')\n",
    "\n",
    "print(teacher.show())\n",
    "print(student.show())\n",
    "print(teaching_assistant.show())\n",
    "\n",
    "\n",
    "# Display Method Resolution Order\n",
    "print(\"\\nMRO for TeachingAssistant class:\")\n",
    "for cls in TeachingAssistant.__mro__:\n",
    "    print(cls)\n"
   ]
  },
  {
   "cell_type": "markdown",
   "id": "17d6c47c-7190-4d17-8683-82e427240a29",
   "metadata": {},
   "source": [
    "## 5. Polymorphism"
   ]
  },
  {
   "cell_type": "code",
   "execution_count": 12,
   "id": "8a6b3400-d06e-4c41-8ac9-fb3779406d8e",
   "metadata": {},
   "outputs": [
    {
     "name": "stdout",
     "output_type": "stream",
     "text": [
      "name : Book1, pages : 300.\n",
      "name : Book2, pages : 200.\n"
     ]
    },
    {
     "data": {
      "text/plain": [
       "500"
      ]
     },
     "execution_count": 12,
     "metadata": {},
     "output_type": "execute_result"
    }
   ],
   "source": [
    "# 1. Method overloading (using default arguments\n",
    "'''\n",
    "Use operator overloading by defining a class Book where + combines the page counts of two book objects.\n",
    "'''\n",
    "\n",
    "class Book:\n",
    "    def __init__(self, name, pages):\n",
    "        self.name = name\n",
    "        self.pages = pages\n",
    "\n",
    "    def __add__(self, obj):\n",
    "        return self.pages + obj.pages\n",
    "\n",
    "    def __str__(self):\n",
    "        return f\"name : {self.name}, pages : {self.pages}.\"\n",
    "        \n",
    "\n",
    "book1 = Book('Book1', 300)\n",
    "book2 = Book('Book2', 200)\n",
    "\n",
    "print(book1.__str__())\n",
    "print(book2.__str__())\n",
    "\n",
    "book1.__add__(book2)"
   ]
  },
  {
   "cell_type": "code",
   "execution_count": 27,
   "id": "881bb348-a3bb-4607-9f03-1979abcef6d1",
   "metadata": {},
   "outputs": [
    {
     "name": "stdout",
     "output_type": "stream",
     "text": [
      "Radius of circle : 1, Area of Circle : 3.14\n",
      "\n",
      "Side of a square : 2, Area of square : 4\n",
      "\n",
      "Radius of circle : 1, Area of Circle : 3.14\n",
      "\n",
      "Area: 3.14\n",
      "Side of a square : 2, Area of square : 4\n",
      "\n",
      "Area: 4\n"
     ]
    }
   ],
   "source": [
    "# 2. Method overriding\n",
    "# Duck Typing\n",
    "'''\n",
    "Demonstrate polymorphism by creating two classes Circle and Square, both having a method area().\n",
    "Then iterate through objects of both and call area() in a loop.\n",
    "'''\n",
    "\n",
    "class Circle():\n",
    "    def __init__(self, radius):\n",
    "        self.radius = radius\n",
    "\n",
    "    def area(self):\n",
    "        return 3.14 * (self.radius ** 2)\n",
    "\n",
    "    def __str__(self):\n",
    "        return f\"Radius of circle : {self.radius}, Area of Circle : {self.area()}\\n\"\n",
    "        \n",
    "    \n",
    "class Square():\n",
    "    def __init__(self, side):\n",
    "        self.side = side\n",
    "\n",
    "    def area(self):\n",
    "        return self.side ** 2\n",
    " \n",
    "    def __str__(self):\n",
    "        return f\"Side of a square : {self.side}, Area of square : {self.area()}\\n\"\n",
    "\n",
    "\n",
    "circle = Circle(1)\n",
    "print(circle.__str__())\n",
    "\n",
    "square = Square(2)\n",
    "print(square.__str__())\n",
    "\n",
    "shapes = [circle, square]\n",
    "\n",
    "for shape in shapes:\n",
    "    print(shape)\n",
    "    print(\"Area:\", shape.area())"
   ]
  },
  {
   "cell_type": "code",
   "execution_count": 32,
   "id": "d9bc9a2d-ca7c-418a-89ec-c49d7fa39154",
   "metadata": {},
   "outputs": [
    {
     "name": "stdout",
     "output_type": "stream",
     "text": [
      "len('absolute'):     8\n",
      "\n",
      "len([1, 2, 3, 4]):   4 \n"
     ]
    }
   ],
   "source": [
    "# 3. Built-in polymorphism (len(), +, etc.)\n",
    "print(f\"len('absolute'):     {len('absolute')}\\n\")\n",
    "print(f\"len([1, 2, 3, 4]):   {len([1, 2, 3, 4])} \")"
   ]
  },
  {
   "cell_type": "code",
   "execution_count": 33,
   "id": "d50274a5-0c0e-4ed7-9e0d-e4497d58fe67",
   "metadata": {},
   "outputs": [
    {
     "name": "stdout",
     "output_type": "stream",
     "text": [
      "6\n"
     ]
    }
   ],
   "source": [
    "# 4. Function Overloading using *args\n",
    "''' Accepts any number of arguments and returns their sum. '''\n",
    "\n",
    "class Calculator: \n",
    "    def __add__(*args):\n",
    "        return sum(args)\n",
    "\n",
    "print(Calculator.__add__(1, 2, 3))"
   ]
  },
  {
   "cell_type": "markdown",
   "id": "afd37c87-cafe-4852-9e82-d1c50f86626a",
   "metadata": {},
   "source": [
    "## 6. Abstraction"
   ]
  },
  {
   "cell_type": "code",
   "execution_count": 39,
   "id": "b1185ab7-1131-4c0a-b53d-d3f70b49604d",
   "metadata": {},
   "outputs": [
    {
     "name": "stdout",
     "output_type": "stream",
     "text": [
      "Rectangle area: 20\n",
      "Circle area: 28.26\n"
     ]
    }
   ],
   "source": [
    "# Using abc module (@abstractmethod)\n",
    "'''\n",
    "Use the abc module to create an abstract class Shape with an abstract method area().\n",
    "Then create subclasses Rectangle and Circle that implement area().\n",
    "'''\n",
    "\n",
    "from abc import ABC, abstractmethod\n",
    "\n",
    "class Shape(ABC):\n",
    "    @abstractmethod\n",
    "    def area(self):\n",
    "        pass\n",
    "\n",
    "class Rectangle(Shape):\n",
    "    def __init__(self, length, breadth):\n",
    "        self.length = length\n",
    "        self.breadth = breadth\n",
    "        \n",
    "    def area(self):\n",
    "        return self.length * self.breadth\n",
    "\n",
    "class circle(Shape):\n",
    "    def __init__(self, radius):\n",
    "        self.radius = radius\n",
    "        \n",
    "    def area(self):\n",
    "        return 3.14 * (self.radius ** 2)\n",
    "\n",
    "\n",
    "r = Rectangle(4, 5)\n",
    "c = Circle(3)\n",
    "\n",
    "print(\"Rectangle area:\", r.area())\n",
    "print(\"Circle area:\", c.area())\n",
    "        "
   ]
  },
  {
   "cell_type": "markdown",
   "id": "3d738ef1-0c2e-420b-893c-2abb0b18b751",
   "metadata": {},
   "source": [
    "## 7. Special (Magic / Dunder) Methods"
   ]
  },
  {
   "cell_type": "code",
   "execution_count": 38,
   "id": "48749c6d-bf74-4623-83bd-a61e53af7656",
   "metadata": {},
   "outputs": [
    {
     "name": "stdout",
     "output_type": "stream",
     "text": [
      "x-coordinate: 1, y-coordinate: 2.\n",
      "x-coordinate: 2, y-coordinate: 2.\n",
      "x-coordinate: 1, y-coordinate: 2.\n",
      "\n",
      "Result of sum of Coordinates: \n",
      "x-coordinate: 3, y-coordinate: 4.\n",
      "\n",
      "Result of sum of Coordinates: \n",
      "x-coordinate: 2, y-coordinate: 4.\n",
      "False\n",
      "True\n",
      "\n",
      "Point(1, 2)\n"
     ]
    }
   ],
   "source": [
    "# __str__, __repr__, __len__, __add__, etc.\n",
    "'''\n",
    "Create a class Point with x and y coordinates.\n",
    "Override:\n",
    "__str__ → returns (x, y)\n",
    "__add__ → adds two points\n",
    "__eq__ → checks equality of coordinates\n",
    "'''\n",
    "\n",
    "class Point:\n",
    "    def __init__(self, x, y):\n",
    "        self.x = x\n",
    "        self.y = y\n",
    "\n",
    "    def __str__(self):\n",
    "        return f\"x-coordinate: {self.x}, y-coordinate: {self.y}.\"\n",
    "\n",
    "    def __repr__(self):\n",
    "        \"\"\"Returns a formal string representation (for debugging).\"\"\"\n",
    "        return f\"\\nPoint({self.x}, {self.y})\"\n",
    "\n",
    "    def __add__(self, obj):\n",
    "        x_sum = self.x + obj.x\n",
    "        y_sum = self.y + obj.y\n",
    "        return f\"\\nResult of sum of Coordinates: \\nx-coordinate: {x_sum}, y-coordinate: {y_sum}.\"\n",
    "\n",
    "    def __eq__(self, obj):\n",
    "        return self.x == obj.x and self.y == obj.y\n",
    "\n",
    "a = Point(1, 2)\n",
    "print(a)\n",
    "\n",
    "b = Point(2,2)\n",
    "print(b)\n",
    "\n",
    "c = Point(1,2)\n",
    "print(c)\n",
    "\n",
    "\n",
    "print(a.__add__(b))\n",
    "print(c + a)\n",
    "\n",
    "print(a.__eq__(b))\n",
    "print(c == a)\n",
    "\n",
    "\n",
    "print(a.__repr__())"
   ]
  },
  {
   "cell_type": "markdown",
   "id": "7e496fac-9f6b-4703-bb87-2d8043917747",
   "metadata": {},
   "source": [
    "## 8. Class Relationships"
   ]
  },
  {
   "cell_type": "code",
   "execution_count": 52,
   "id": "c17a969f-d793-4e8d-8c51-32a50703fc25",
   "metadata": {},
   "outputs": [
    {
     "name": "stdout",
     "output_type": "stream",
     "text": [
      "This is a car.\n",
      "Engine Started.\n"
     ]
    }
   ],
   "source": [
    "# Composition (“has-a”)\n",
    "# Aggregation\n",
    "\n",
    "'''\n",
    "Create two classes:\n",
    "\n",
    "Engine (with a method start())\n",
    "\n",
    "Car (that has an Engine object)\n",
    "\n",
    "Demonstrate composition by calling start() from the Car object.\n",
    "'''\n",
    "\n",
    "class Engine:\n",
    "    def start(self):\n",
    "        print(\"Engine Started.\")\n",
    "        \n",
    "class Car:\n",
    "    def __init__(self):\n",
    "        self.engine = Engine()\n",
    "\n",
    "    def start(self):\n",
    "       print(\"This is a car.\")\n",
    "       self.engine.start()\n",
    "\n",
    "\n",
    "\n",
    "car = Car()\n",
    "car.start()"
   ]
  },
  {
   "cell_type": "code",
   "execution_count": 51,
   "id": "04f6b344-f6bd-4adf-9cd5-9ae8ac3911d0",
   "metadata": {},
   "outputs": [
    {
     "name": "stdout",
     "output_type": "stream",
     "text": [
      "Car is starting...\n",
      "Engine started.\n",
      "\n",
      "--- Sports Car ---\n",
      "SportsCar roaring to life!\n",
      "Car is starting...\n",
      "Engine started.\n"
     ]
    }
   ],
   "source": [
    "# Class Relationship: is-a vs has-a\n",
    "\n",
    "class Engine:\n",
    "    \"\"\"\n",
    "    Represents an Engine with a start method.\n",
    "    \"\"\"\n",
    "    def start(self):\n",
    "        print(\"Engine started.\")\n",
    "\n",
    "\n",
    "class Car:\n",
    "    \"\"\"\n",
    "    Represents a Car which HAS-A Engine.\n",
    "    Demonstrates composition (Car contains Engine).\n",
    "    \"\"\"\n",
    "    def __init__(self):\n",
    "        self.engine = Engine()   # Composition: Car has an Engine\n",
    "\n",
    "    def start(self):\n",
    "        print(\"Car is starting...\")\n",
    "        self.engine.start()      # Using the Engine's method\n",
    "\n",
    "\n",
    "class SportsCar(Car):\n",
    "    \"\"\"\n",
    "    Represents a SportsCar which IS-A Car.\n",
    "    Demonstrates inheritance.\n",
    "    \"\"\"\n",
    "    def start(self):\n",
    "        print(\"SportsCar roaring to life!\")\n",
    "        super().start()          # Call parent (Car) start\n",
    "\n",
    "\n",
    "# --- Example Usage ---\n",
    "car = Car()\n",
    "car.start()\n",
    "\n",
    "print(\"\\n--- Sports Car ---\")\n",
    "sportscar = SportsCar()\n",
    "sportscar.start()\n"
   ]
  },
  {
   "cell_type": "markdown",
   "id": "9585aeaa-ad5a-4a9e-827f-c2cd71cfefac",
   "metadata": {},
   "source": [
    "## 9. Getters & Setters using @property"
   ]
  },
  {
   "cell_type": "code",
   "execution_count": 15,
   "id": "d1945b75-e116-4a5c-a08c-c7bbeee72204",
   "metadata": {},
   "outputs": [
    {
     "name": "stdout",
     "output_type": "stream",
     "text": [
      "\n",
      "Name: Tom, Salary: 0\n",
      "\n",
      "Name: John, Salary: 0\n",
      "\n",
      "Salary set to 5000 for Tom.\n",
      "\n",
      "Salary set to 7000 for John.\n",
      "\n",
      "Name: Tom, Salary: 5000\n",
      "\n",
      "Name: John, Salary: 7000\n",
      "\n",
      "Name: Jenny, Salary: 0\n",
      "\n",
      "Salary set to 9000 for Jenny.\n"
     ]
    },
    {
     "name": "stdin",
     "output_type": "stream",
     "text": [
      "\n",
      "Modify Tom's salary from 5000 to 9000? (yes/no):  no\n"
     ]
    },
    {
     "name": "stdout",
     "output_type": "stream",
     "text": [
      "\n",
      "Salary not changed.\n"
     ]
    },
    {
     "name": "stdin",
     "output_type": "stream",
     "text": [
      "\n",
      "Modify John's salary from 7000 to 10000? (yes/no):  no\n"
     ]
    },
    {
     "name": "stdout",
     "output_type": "stream",
     "text": [
      "\n",
      "Salary not changed.\n",
      "\n",
      "Deleting salary for Tom.\n"
     ]
    }
   ],
   "source": [
    "'''\n",
    "Create a class Employee with a private attribute __salary.\n",
    "Provide getter and setter methods using the @property decorator to access and modify it safely.\n",
    "'''\n",
    "\n",
    "class Employee:\n",
    "    def __init__(self, name):\n",
    "        self.name = name\n",
    "        self.__salary = 0\n",
    "\n",
    "    @property\n",
    "    def salary(self):\n",
    "        \"\"\"Getter for salary.\"\"\"\n",
    "        return self.__salary\n",
    "\n",
    "    @salary.setter\n",
    "    def salary(self, new_salary):\n",
    "        \"\"\"Setter with validation and user confirmation.\"\"\"\n",
    "        if new_salary > 0:\n",
    "            if self.__salary == 0:\n",
    "                self.__salary = new_salary\n",
    "                print(f\"\\nSalary set to {self.__salary} for {self.name}.\")\n",
    "            else:\n",
    "                choice = input(f\"\\nModify {self.name}'s salary from {self.__salary} to {new_salary}? (yes/no): \")\n",
    "                if choice.lower() == 'yes':\n",
    "                    self.__salary = new_salary\n",
    "                    print(f\"\\nSalary updated to {self.__salary} for {self.name}.\")\n",
    "                else:\n",
    "                    print(\"\\nSalary not changed.\")\n",
    "        else:\n",
    "            print(\"\\nInvalid salary amount.\")\n",
    "\n",
    "    @salary.deleter\n",
    "    def salary(self):\n",
    "        \"\"\"Deletes the salary attribute.\"\"\"\n",
    "        print(f\"\\nDeleting salary for {self.name}.\")\n",
    "        del self.__salary\n",
    "\n",
    "    def __str__(self):\n",
    "        return f\"\\nName: {self.name}, Salary: {self.__salary}\"\n",
    "\n",
    "\n",
    "emp1 = Employee('Tom')\n",
    "emp2 = Employee('John')\n",
    "\n",
    "print(emp1)\n",
    "print(emp2)\n",
    "\n",
    "emp1.salary = 5000\n",
    "emp2.salary = 7000\n",
    "print(emp1)\n",
    "print(emp2)\n",
    "\n",
    "emp3 = Employee('Jenny')\n",
    "print(emp3)\n",
    "emp3.salary = 9000\n",
    "\n",
    "emp1.salary = 9000\n",
    "\n",
    "emp2.salary = 10000\n",
    "\n",
    "del emp1.salary"
   ]
  }
 ],
 "metadata": {
  "kernelspec": {
   "display_name": "Python 3 (ipykernel)",
   "language": "python",
   "name": "python3"
  },
  "language_info": {
   "codemirror_mode": {
    "name": "ipython",
    "version": 3
   },
   "file_extension": ".py",
   "mimetype": "text/x-python",
   "name": "python",
   "nbconvert_exporter": "python",
   "pygments_lexer": "ipython3",
   "version": "3.11.7"
  }
 },
 "nbformat": 4,
 "nbformat_minor": 5
}
