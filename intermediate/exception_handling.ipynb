{
  "nbformat": 4,
  "nbformat_minor": 0,
  "metadata": {
    "colab": {
      "provenance": [],
      "collapsed_sections": [
        "7CicWxxfuY26",
        "gs6l472a0sVb",
        "WIb27Txu1Q7m",
        "umSK4YAF11TG",
        "_7hC7YhX18Ff",
        "bIAgZpha2ZPQ",
        "Zse6amtb2p9M",
        "n2LBG0jf3lSt",
        "wSpag-eG3YNs"
      ]
    },
    "kernelspec": {
      "name": "python3",
      "display_name": "Python 3"
    },
    "language_info": {
      "name": "python"
    }
  },
  "cells": [
    {
      "cell_type": "markdown",
      "source": [
        "# Exception Handling"
      ],
      "metadata": {
        "id": "C5wopZ0f0liH"
      }
    },
    {
      "cell_type": "markdown",
      "source": [
        "## try / except"
      ],
      "metadata": {
        "id": "uKj7jnmkrNTQ"
      }
    },
    {
      "cell_type": "markdown",
      "source": [
        "### Division Safety\n"
      ],
      "metadata": {
        "id": "7CicWxxfuY26"
      }
    },
    {
      "cell_type": "markdown",
      "source": [
        "Write a program that takes two numbers as input and prints their division.\n",
        "\n",
        "1.  Handle division by zero.\n",
        "2.  Handle non-numeric inputs."
      ],
      "metadata": {
        "id": "J_IT0gUiulSF"
      }
    },
    {
      "cell_type": "code",
      "source": [
        "numerator = int(input(\"Enter numerator:\"))\n",
        "denominator = int(input(\"Enter denominator:\"))\n",
        "\n",
        "def divide(numerator, denominator):\n",
        "  try:\n",
        "    return numerator/denominator\n",
        "\n",
        "  except ZeroDivisionError:\n",
        "    return \"Cannot divide by zero.\"\n",
        "\n",
        "  except TypeError:\n",
        "    print(\"Error: Type mismatch.\")\n",
        "\n",
        "\n",
        "divide(numerator, denominator)"
      ],
      "metadata": {
        "colab": {
          "base_uri": "https://localhost:8080/",
          "height": 70
        },
        "id": "MqBDTIUVu9Qs",
        "outputId": "0395cd25-3dff-4e92-fd6e-4f24d2b33227"
      },
      "execution_count": 3,
      "outputs": [
        {
          "name": "stdout",
          "output_type": "stream",
          "text": [
            "Enter numerator:5\n",
            "Enter denominator:0\n"
          ]
        },
        {
          "output_type": "execute_result",
          "data": {
            "text/plain": [
              "'Cannot divide by zero.'"
            ],
            "application/vnd.google.colaboratory.intrinsic+json": {
              "type": "string"
            }
          },
          "metadata": {},
          "execution_count": 3
        }
      ]
    },
    {
      "cell_type": "markdown",
      "source": [
        "### List Index Error"
      ],
      "metadata": {
        "id": "w6fgnqp1w7Ll"
      }
    },
    {
      "cell_type": "markdown",
      "source": [
        "Create a list of 5 elements. Ask the user to enter an index number and print the element at that index.\n",
        "1. Handle IndexError if the index is out of range.\n",
        "2. Handle ValueError if the input is not a number."
      ],
      "metadata": {
        "id": "25MW9DL9xD_y"
      }
    },
    {
      "cell_type": "code",
      "source": [
        "my_list = [1, 2, 3, 4, 5]\n",
        "\n",
        "def get_element():\n",
        "  try:\n",
        "    index = int(input(\"Enter index:\"))\n",
        "    return my_list[index]\n",
        "\n",
        "  except IndexError:\n",
        "    return 'Index out of range.\\n'\n",
        "\n",
        "  except ValueError:\n",
        "    return 'Invalid input. Please enter a number.\\n'\n",
        "\n",
        "print(get_element())\n",
        "print(get_element())"
      ],
      "metadata": {
        "colab": {
          "base_uri": "https://localhost:8080/"
        },
        "id": "_aoqnoI0wx1c",
        "outputId": "bccd078e-0ec1-4aa5-dc92-f495edf74719"
      },
      "execution_count": 4,
      "outputs": [
        {
          "output_type": "stream",
          "name": "stdout",
          "text": [
            "Enter index:8\n",
            "Index out of range.\n",
            "\n",
            "Enter index:l4\n",
            "Invalid input. Please enter a number.\n",
            "\n"
          ]
        }
      ]
    },
    {
      "cell_type": "markdown",
      "source": [
        "### Multiple Except Blocks\n"
      ],
      "metadata": {
        "id": "ynqGx-nFy8Ix"
      }
    },
    {
      "cell_type": "markdown",
      "source": [
        "Write a program that:\n",
        "\n",
        "\n",
        "1. Takes two inputs.\n",
        "2. Tries to convert them to integers and divide them.\n",
        "Uses multiple except blocks to handle ValueError, ZeroDivisionError,"
      ],
      "metadata": {
        "id": "4uAwmg9WzU_z"
      }
    },
    {
      "cell_type": "code",
      "source": [
        "a = input(\"Enter first value:\")\n",
        "b = input(\"Enter first value:\")\n",
        "\n",
        "def convert_to_int():\n",
        "  try:\n",
        "    num1 = int(a)\n",
        "    num2 = int(b)\n",
        "    return num1/num2\n",
        "\n",
        "  except ZeroDivisionError:\n",
        "    return \"Cannot divide by zero.\"\n",
        "\n",
        "  except ValueError:\n",
        "    return \"Invalid input. Please enter a number.\"\n",
        "\n",
        "print(convert_to_int())\n"
      ],
      "metadata": {
        "colab": {
          "base_uri": "https://localhost:8080/"
        },
        "id": "QrXikXydzIOV",
        "outputId": "ad975823-661d-41bc-d9df-e68ca37f65c4"
      },
      "execution_count": 6,
      "outputs": [
        {
          "output_type": "stream",
          "name": "stdout",
          "text": [
            "Enter first value:\n",
            "Enter first value:5\n",
            "Invalid input. Please enter a number.\n"
          ]
        }
      ]
    },
    {
      "cell_type": "markdown",
      "source": [
        "## else, finally, custom exceptions"
      ],
      "metadata": {
        "id": "S-YVuKZu0yJD"
      }
    },
    {
      "cell_type": "markdown",
      "source": [
        "### Using else and finally"
      ],
      "metadata": {
        "id": "gs6l472a0sVb"
      }
    },
    {
      "cell_type": "markdown",
      "source": [
        "Modify the division program so that:\n",
        "\n",
        "1. The division result is printed inside an else block (only runs if no exception occurs).\n",
        "2. A message like \"Program ended.\" is printed in the finally block (runs no matter what)."
      ],
      "metadata": {
        "id": "QfvNfbom09N1"
      }
    },
    {
      "cell_type": "code",
      "source": [
        "def division(num1, num2):\n",
        "    try:\n",
        "        n1 = int(num1)\n",
        "        n2 = int(num2)\n",
        "        result = n1 / n2\n",
        "\n",
        "    except (ZeroDivisionError, ValueError, TypeError) as e:\n",
        "        return f\"Error: {e}\"\n",
        "\n",
        "    else:\n",
        "        return result\n",
        "\n",
        "    finally:\n",
        "        print(\"Program ended.\")\n",
        "\n",
        "# Test cases\n",
        "print(division(3, 0))      # ZeroDivisionError\n",
        "print(division(12, 3))     # 4.0\n",
        "print(division(5, 'b'))    # ValueError (invalid literal)\n",
        "\n",
        "\n"
      ],
      "metadata": {
        "id": "-1WiW14u06Ph",
        "colab": {
          "base_uri": "https://localhost:8080/"
        },
        "outputId": "61de6d0c-0b48-4554-817a-237740ebe1c3"
      },
      "execution_count": 8,
      "outputs": [
        {
          "output_type": "stream",
          "name": "stdout",
          "text": [
            "Program ended.\n",
            "Error: division by zero\n",
            "Program ended.\n",
            "4.0\n",
            "Program ended.\n",
            "Error: invalid literal for int() with base 10: 'b'\n"
          ]
        }
      ]
    },
    {
      "cell_type": "markdown",
      "source": [
        "### Custom Exception – Age Validation"
      ],
      "metadata": {
        "id": "WIb27Txu1Q7m"
      }
    },
    {
      "cell_type": "markdown",
      "source": [
        "Write a program that takes a user’s age as input.\n",
        "\n",
        "1. If the age is negative, raise a custom exception called\n",
        "NegativeAgeError.\n",
        "2. Handle the exception and display a meaningful error message.\n",
        "3. If the age is valid, print a message like \"Age accepted.\""
      ],
      "metadata": {
        "id": "34Vof8xg1kKO"
      }
    },
    {
      "cell_type": "code",
      "source": [
        "class NegativeAgeError(Exception):\n",
        "  pass\n",
        "\n",
        "def valid_age(age):\n",
        "  if age < 0:\n",
        "    raise NegativeAgeError(\"Age cannot be negative.\")\n",
        "\n",
        "try:\n",
        "  age = int(input(\"Enter age:\"))\n",
        "  valid_age(age)\n",
        "\n",
        "except NegativeAgeError as e:\n",
        "  print(e)\n",
        "\n",
        "else:\n",
        "  print(\"Age Accepted.\")"
      ],
      "metadata": {
        "colab": {
          "base_uri": "https://localhost:8080/"
        },
        "id": "NmSXZTg0oHMG",
        "outputId": "897a329a-1627-46ba-d66f-4588f20df14c"
      },
      "execution_count": 9,
      "outputs": [
        {
          "output_type": "stream",
          "name": "stdout",
          "text": [
            "Enter age:5\n",
            "Age Accepted.\n"
          ]
        }
      ]
    },
    {
      "cell_type": "markdown",
      "source": [
        "### Assertion Handling"
      ],
      "metadata": {
        "id": "umSK4YAF11TG"
      }
    },
    {
      "cell_type": "markdown",
      "source": [
        "Write a program that asks for a password and uses an assert statement to check that its length is at least 8.\n",
        "Catch the AssertionError and print a friendly message."
      ],
      "metadata": {
        "id": "q_XtFPmx1vxZ"
      }
    },
    {
      "cell_type": "code",
      "source": [
        "def set_password(password):\n",
        "  assert len(password) >= 8, \"Password should contain at least 8 characters.\"\n",
        "\n",
        "password = input(\"Enter Password:\")\n",
        "\n",
        "try:\n",
        "  set_password(password)\n",
        "except AssertionError as e:\n",
        "  print(e)\n",
        "else:\n",
        "  print(\"Password set successfully.\")\n"
      ],
      "metadata": {
        "id": "QeE6Ak2c1673",
        "colab": {
          "base_uri": "https://localhost:8080/"
        },
        "outputId": "3be7e206-c242-4a6c-840c-d25e93d1cf05"
      },
      "execution_count": 10,
      "outputs": [
        {
          "output_type": "stream",
          "name": "stdout",
          "text": [
            "Enter Password:5643\n",
            "Password should contain at least 8 characters.\n"
          ]
        }
      ]
    },
    {
      "cell_type": "markdown",
      "source": [
        "### Realistic Scenarios"
      ],
      "metadata": {
        "id": "_7hC7YhX18Ff"
      }
    },
    {
      "cell_type": "markdown",
      "source": [
        "Calculator Program with Loop\n",
        "Build a simple calculator that:\n",
        "1. Runs in a loop until the user enters \"q\" to quit.\n",
        "2. Performs addition, subtraction, multiplication, or division based on user input.\n",
        "3. Uses exception handling for:\n",
        "    1. Non-numeric input\n",
        "    2. Division by zero\n",
        "    3. Unexpected errors (catch-all)"
      ],
      "metadata": {
        "id": "yDA7OQaT2Udj"
      }
    },
    {
      "cell_type": "code",
      "source": [
        "def calculator():\n",
        "  while True:\n",
        "    try:\n",
        "      num1 = float(input(\"Enter first number:\"))\n",
        "      num2 = float(input(\"Enter second number:\"))\n",
        "      operation = input(\"Enter operation (+, -, *, /) q to quit:\")\n",
        "\n",
        "      if operation == 'q':\n",
        "        print(\"Closing the calculator.\")\n",
        "        break\n",
        "\n",
        "      elif operation == '+':\n",
        "        result = num1 + num2\n",
        "\n",
        "      elif operation == '-':\n",
        "        result = num1 - num2\n",
        "\n",
        "      elif operation == '*':\n",
        "        result = num1 * num2\n",
        "\n",
        "      elif operation == '/':\n",
        "        result = num1 / num2\n",
        "\n",
        "      else:\n",
        "        print(\"Invalid operation. Please enter +, -, * or /.\")\n",
        "        continue\n",
        "\n",
        "      print(f\"Result: {result}\")\n",
        "\n",
        "    except ZeroDivisionError:\n",
        "      print(\"Cannot divide by zero.\")\n",
        "\n",
        "    except ValueError:\n",
        "      print(\"Invalid input. Please enter a number.\")\n",
        "\n",
        "    except Exception as e:\n",
        "      print(\"An unexpected error occurred, \", e)\n",
        "\n",
        "\n",
        "calculator()\n"
      ],
      "metadata": {
        "id": "oC-fmav92Vvn",
        "colab": {
          "base_uri": "https://localhost:8080/"
        },
        "outputId": "fc019b2c-237a-43ac-ee83-83054b615447"
      },
      "execution_count": 11,
      "outputs": [
        {
          "output_type": "stream",
          "name": "stdout",
          "text": [
            "Enter first number:5\n",
            "Enter second number:6\n",
            "Enter operation (+, -, *, /) q to quit:q\n",
            "Closing the calculator.\n"
          ]
        }
      ]
    },
    {
      "cell_type": "markdown",
      "source": [
        "### Nested try blocks"
      ],
      "metadata": {
        "id": "bIAgZpha2ZPQ"
      }
    },
    {
      "cell_type": "markdown",
      "source": [
        "Create a program that:\n",
        "  1. Asks the user to enter a number.\n",
        "  2. Inside a try block, tries to convert it to integer.\n",
        "  3. Inside another nested try block, divide 100 by that number.\n",
        "  4. Handle both conversion and division errors appropriately."
      ],
      "metadata": {
        "id": "9czhGNJi2iUv"
      }
    },
    {
      "cell_type": "code",
      "source": [
        "def divide_by_number():\n",
        "  try:\n",
        "    num1 = int(input(\"Enter number:\"))\n",
        "    try:\n",
        "      result = 100/num1\n",
        "      print(result)\n",
        "    except ZeroDivisionError:\n",
        "      print(\"Cannot divide by zero.\")\n",
        "  except ValueError:\n",
        "    print(\"Invalid input. Please enter a number.\")\n",
        "\n",
        "divide_by_number()"
      ],
      "metadata": {
        "id": "te8d4UWf2d66",
        "colab": {
          "base_uri": "https://localhost:8080/"
        },
        "outputId": "340a306d-d567-4b30-dd3e-1852aeb1324c"
      },
      "execution_count": 12,
      "outputs": [
        {
          "output_type": "stream",
          "name": "stdout",
          "text": [
            "Enter number:7\n",
            "14.285714285714286\n"
          ]
        }
      ]
    },
    {
      "cell_type": "markdown",
      "source": [
        "### Raise Exception with Explanation"
      ],
      "metadata": {
        "id": "Zse6amtb2p9M"
      }
    },
    {
      "cell_type": "markdown",
      "source": [
        "Write a function get_grade(score) that:\n",
        "  1. Takes a score as input.\n",
        "  2. Raises a ValueError if the score is not between 0 and 100.\n",
        "  3. Otherwise, returns a grade (A/B/C…).\n",
        "  4. Call this function and handle the exception in the main program."
      ],
      "metadata": {
        "id": "L_icB3I73DB4"
      }
    },
    {
      "cell_type": "code",
      "source": [
        "def get_grade(score):\n",
        "  if score < 0 or score > 100:\n",
        "    raise ValueError(\"Score should be between 0 and 100.\")\n",
        "  elif score >= 90:\n",
        "    return 'A'\n",
        "  elif score >= 80:\n",
        "    return 'B'\n",
        "  elif score >= 70:\n",
        "    return 'C'\n",
        "  elif score >= 60:\n",
        "    return 'D'\n",
        "  else:\n",
        "    return 'F'\n",
        "\n",
        "\n",
        "if __name__ == '__main__':\n",
        "  score = int(input(\"Enter score:\"))\n",
        "  try:\n",
        "    print(get_grade(score))\n",
        "  except ValueError as e:\n",
        "    print(e)\n",
        "\n"
      ],
      "metadata": {
        "id": "a_IRj0JM2txk",
        "colab": {
          "base_uri": "https://localhost:8080/"
        },
        "outputId": "9c04b4f7-24d4-4bcc-cd93-ea4ea3a72a6f"
      },
      "execution_count": 13,
      "outputs": [
        {
          "output_type": "stream",
          "name": "stdout",
          "text": [
            "Enter score:5433\n",
            "Score should be between 0 and 100.\n"
          ]
        }
      ]
    }
  ]
}