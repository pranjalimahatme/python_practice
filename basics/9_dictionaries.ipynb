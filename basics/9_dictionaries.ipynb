{
 "cells": [
  {
   "cell_type": "markdown",
   "id": "db65a207-f315-48eb-845d-e2de78a7425c",
   "metadata": {},
   "source": [
    "# Dictionaries"
   ]
  },
  {
   "cell_type": "markdown",
   "id": "eff66166-4c72-4a3d-aef8-c2bd6212869c",
   "metadata": {},
   "source": [
    "## 1. Creation & Access"
   ]
  },
  {
   "cell_type": "code",
   "execution_count": 1,
   "id": "e82e4b25-574e-458c-ada1-593825f377f7",
   "metadata": {},
   "outputs": [],
   "source": [
    "# Create a dictionary with keys: \"name\", \"age\", \"city\".\n",
    "dict1 = {'name': 'Alex', 'age': 20, 'city': 'Delhi'}"
   ]
  },
  {
   "cell_type": "code",
   "execution_count": 2,
   "id": "83509c00-8b87-40bb-9c69-8b9601089c56",
   "metadata": {},
   "outputs": [
    {
     "data": {
      "text/plain": [
       "'Delhi'"
      ]
     },
     "execution_count": 2,
     "metadata": {},
     "output_type": "execute_result"
    }
   ],
   "source": [
    "# Access the value of \"city\" from the dictionary.\n",
    "dict1['city']"
   ]
  },
  {
   "cell_type": "code",
   "execution_count": 3,
   "id": "756410ac-2090-4a5b-bfea-6b25bc44d27c",
   "metadata": {},
   "outputs": [
    {
     "data": {
      "text/plain": [
       "'Delhi'"
      ]
     },
     "execution_count": 3,
     "metadata": {},
     "output_type": "execute_result"
    }
   ],
   "source": [
    "dict1.get('city')"
   ]
  },
  {
   "cell_type": "markdown",
   "id": "073ec0fd-6098-46d6-94ed-52059583c74f",
   "metadata": {},
   "source": [
    "## 2. Modification"
   ]
  },
  {
   "cell_type": "code",
   "execution_count": 7,
   "id": "1037d47e-92bd-4090-bcbc-bb2e4dca760f",
   "metadata": {},
   "outputs": [
    {
     "name": "stdout",
     "output_type": "stream",
     "text": [
      "{'name': 'Alex', 'age': 25, 'city': 'Delhi', 'country': 'India'}\n"
     ]
    }
   ],
   "source": [
    "# Update the \"age\" to 25.\n",
    "dict1['age'] = 25\n",
    "print(dict1)"
   ]
  },
  {
   "cell_type": "code",
   "execution_count": 8,
   "id": "5e1b97eb-1d41-4986-afee-00b55897548b",
   "metadata": {},
   "outputs": [],
   "source": [
    "# Add a new key \"country\": \"India\".\n",
    "dict1['country'] = 'India'"
   ]
  },
  {
   "cell_type": "code",
   "execution_count": 9,
   "id": "f4a0a40e-f734-495d-aefd-d44ec440c66a",
   "metadata": {},
   "outputs": [
    {
     "name": "stdout",
     "output_type": "stream",
     "text": [
      "{'name': 'Alex', 'age': 25, 'city': 'Delhi', 'country': 'India'}\n"
     ]
    }
   ],
   "source": [
    "print(dict1)"
   ]
  },
  {
   "cell_type": "markdown",
   "id": "e5904d56-bef7-4830-b706-9bb69c7c16c1",
   "metadata": {},
   "source": [
    "## 3. Deletion"
   ]
  },
  {
   "cell_type": "code",
   "execution_count": 10,
   "id": "d2736ede-2fa7-4022-9cf5-26e2bfc49174",
   "metadata": {},
   "outputs": [
    {
     "data": {
      "text/plain": [
       "{'name': 'Alex', 'age': 25, 'country': 'India'}"
      ]
     },
     "execution_count": 10,
     "metadata": {},
     "output_type": "execute_result"
    }
   ],
   "source": [
    "# Delete \"city\" using del.\n",
    "del dict1['city']\n",
    "dict1"
   ]
  },
  {
   "cell_type": "code",
   "execution_count": 11,
   "id": "97b31f6f-9206-40c7-a06b-93f789bda665",
   "metadata": {},
   "outputs": [
    {
     "data": {
      "text/plain": [
       "25"
      ]
     },
     "execution_count": 11,
     "metadata": {},
     "output_type": "execute_result"
    }
   ],
   "source": [
    "# Use pop() to remove \"age\".\n",
    "dict1.pop(\"age\")"
   ]
  },
  {
   "cell_type": "code",
   "execution_count": 12,
   "id": "71648718-3521-4906-8267-bc2d9ae5c16c",
   "metadata": {},
   "outputs": [
    {
     "name": "stdout",
     "output_type": "stream",
     "text": [
      "{'name': 'Alex', 'country': 'India'}\n"
     ]
    }
   ],
   "source": [
    "print(dict1)"
   ]
  },
  {
   "cell_type": "markdown",
   "id": "d9059d5f-18dd-48ab-b2f0-7016f50d7566",
   "metadata": {},
   "source": [
    "## 4. Dictionary Methods"
   ]
  },
  {
   "cell_type": "code",
   "execution_count": 13,
   "id": "28c953c7-d128-4a47-98bb-5bc0694a4cb1",
   "metadata": {},
   "outputs": [
    {
     "name": "stdout",
     "output_type": "stream",
     "text": [
      "The keys are:  dict_keys(['name', 'country'])\n",
      "The keys are:  dict_values(['Alex', 'India'])\n",
      "The items are: dict_items([('name', 'Alex'), ('country', 'India')])\n"
     ]
    },
    {
     "data": {
      "text/plain": [
       "dict_keys(['name', 'country'])"
      ]
     },
     "execution_count": 13,
     "metadata": {},
     "output_type": "execute_result"
    }
   ],
   "source": [
    "# Use keys(), values(), and items() on a dictionary.\n",
    "\n",
    "print(f\"The keys are:  {dict1.keys()}\")\n",
    "print(f\"The keys are:  {dict1.values()}\")\n",
    "print(f\"The items are: {dict1.items()}\")\n",
    "\n",
    "dict1.keys()"
   ]
  },
  {
   "cell_type": "code",
   "execution_count": 14,
   "id": "92d34f63-93fe-4371-b4a1-cb0cba867e76",
   "metadata": {},
   "outputs": [
    {
     "data": {
      "text/plain": [
       "'Alex'"
      ]
     },
     "execution_count": 14,
     "metadata": {},
     "output_type": "execute_result"
    }
   ],
   "source": [
    "# Use get() to safely access a missing key.\n",
    "dict1.get(\"name\")"
   ]
  },
  {
   "cell_type": "code",
   "execution_count": 15,
   "id": "d45c4c66-4afb-4704-b8b4-dd216ce8ac9d",
   "metadata": {},
   "outputs": [],
   "source": [
    "dict1.get(\"city\")"
   ]
  },
  {
   "cell_type": "markdown",
   "id": "b8416a35-e60b-4e57-bbf5-4cca7420b596",
   "metadata": {},
   "source": [
    "## 5. Iteration"
   ]
  },
  {
   "cell_type": "code",
   "execution_count": 16,
   "id": "56c3cf3c-9396-42a4-b58b-5f740f709203",
   "metadata": {},
   "outputs": [
    {
     "name": "stdout",
     "output_type": "stream",
     "text": [
      "name\n",
      "country\n"
     ]
    }
   ],
   "source": [
    "# Loop through a dictionary and print all keys.\n",
    "\n",
    "for key in dict1.keys():\n",
    "    print(key)\n"
   ]
  },
  {
   "cell_type": "code",
   "execution_count": 17,
   "id": "2af6412b-dc12-4b33-b5c4-2a0f618088d5",
   "metadata": {},
   "outputs": [
    {
     "name": "stdout",
     "output_type": "stream",
     "text": [
      "name\n",
      "country\n"
     ]
    }
   ],
   "source": [
    "for key in dict1:\n",
    "    print(key)"
   ]
  },
  {
   "cell_type": "code",
   "execution_count": 18,
   "id": "b2208260-93d6-4efa-a4fe-3ff7834dad73",
   "metadata": {},
   "outputs": [
    {
     "name": "stdout",
     "output_type": "stream",
     "text": [
      "name Alex\n",
      "country India\n"
     ]
    }
   ],
   "source": [
    "# Loop through dictionary items and print keys with values.\n",
    "\n",
    "for key, values in dict1.items():\n",
    "    print(key, values)\n",
    "    "
   ]
  },
  {
   "cell_type": "code",
   "execution_count": 19,
   "id": "5fb8e38c-5658-496e-b654-667c690d4030",
   "metadata": {},
   "outputs": [
    {
     "name": "stdout",
     "output_type": "stream",
     "text": [
      "key: name \n",
      "values: Alex\n",
      "\n",
      "\n",
      "key: country \n",
      "values: India\n",
      "\n",
      "\n"
     ]
    }
   ],
   "source": [
    "for key, values in dict1.items():\n",
    "    print(f\"key: {key} \\nvalues: {values}\\n\\n\")"
   ]
  },
  {
   "cell_type": "markdown",
   "id": "cdbe3116-52ed-4799-b679-87b8f52070ff",
   "metadata": {},
   "source": [
    "## 6. Nested Dictionaries"
   ]
  },
  {
   "cell_type": "code",
   "execution_count": 20,
   "id": "c22c9582-cf9d-44ef-b63a-478973663159",
   "metadata": {},
   "outputs": [],
   "source": [
    "# Create a nested dictionary:\n",
    "\n",
    "student = {\n",
    "  \"name\": \"Alice\",\n",
    "  \"marks\": {\"math\": 90, \"science\": 85}\n",
    "}\n"
   ]
  },
  {
   "cell_type": "code",
   "execution_count": 21,
   "id": "b69b269d-0daf-442a-8655-c5b808424c05",
   "metadata": {},
   "outputs": [
    {
     "data": {
      "text/plain": [
       "85"
      ]
     },
     "execution_count": 21,
     "metadata": {},
     "output_type": "execute_result"
    }
   ],
   "source": [
    "# Access Alice’s science marks.\n",
    "student.get('marks').get(\"science\")"
   ]
  },
  {
   "cell_type": "code",
   "execution_count": 22,
   "id": "ee385899-3e27-497a-8a1a-7eb20fea7bb2",
   "metadata": {},
   "outputs": [
    {
     "name": "stdout",
     "output_type": "stream",
     "text": [
      "85\n"
     ]
    }
   ],
   "source": [
    "print(student['marks']['science'])"
   ]
  },
  {
   "cell_type": "markdown",
   "id": "b51764ea-af24-428a-a150-09bedaa1a763",
   "metadata": {},
   "source": [
    "## 7. Dictionary Comprehension"
   ]
  },
  {
   "cell_type": "code",
   "execution_count": 23,
   "id": "c6fce6d6-3c25-424e-a467-f34cf06839b9",
   "metadata": {},
   "outputs": [
    {
     "name": "stdout",
     "output_type": "stream",
     "text": [
      "dict_values([0, 1, 4, 9, 16])\n"
     ]
    }
   ],
   "source": [
    "# Create a dictionary {x: x**2 for x in range(5)}.\n",
    "new_dict = {x : x**2 for x in range(5)}\n",
    "print(new_dict.values())"
   ]
  },
  {
   "cell_type": "code",
   "execution_count": 24,
   "id": "1ae02287-e780-4959-949b-f82efe5b1d1b",
   "metadata": {},
   "outputs": [],
   "source": [
    "## 8. Membership & Length"
   ]
  },
  {
   "cell_type": "code",
   "execution_count": 25,
   "id": "58c8bd0b-65b7-4b70-aa66-7edf2f82c6db",
   "metadata": {},
   "outputs": [
    {
     "name": "stdout",
     "output_type": "stream",
     "text": [
      "age doesn't exists.\n"
     ]
    }
   ],
   "source": [
    "# Check if \"age\" exists in the dictionary.\n",
    "if \"age\" in dict1.keys():\n",
    "    print(\"age exists.\")\n",
    "else:\n",
    "    print(\"age doesn't exists.\")"
   ]
  },
  {
   "cell_type": "code",
   "execution_count": 26,
   "id": "59c52f13-5244-470f-b11c-4933ed471e96",
   "metadata": {},
   "outputs": [
    {
     "data": {
      "text/plain": [
       "5"
      ]
     },
     "execution_count": 26,
     "metadata": {},
     "output_type": "execute_result"
    }
   ],
   "source": [
    "# Find the length of a dictionary with 5 key-value pairs.\n",
    "len(new_dict)"
   ]
  },
  {
   "cell_type": "markdown",
   "id": "45d67790-099f-441e-8bf5-0c342f6945c4",
   "metadata": {},
   "source": [
    "## 9. Merging"
   ]
  },
  {
   "cell_type": "code",
   "execution_count": 27,
   "id": "5e7463ad-41d9-44c5-95d3-97e5221df81a",
   "metadata": {},
   "outputs": [],
   "source": [
    "# Merge two dictionaries {\"a\": 1, \"b\": 2} and {\"c\": 3, \"d\": 4}.\n",
    "d1 = {\"a\": 1, \"b\": 2}\n",
    "d2 ={\"c\": 3, \"d\": 4}"
   ]
  },
  {
   "cell_type": "code",
   "execution_count": 28,
   "id": "ee5a02e6-ebbb-4764-add9-af86348c82df",
   "metadata": {},
   "outputs": [
    {
     "name": "stdout",
     "output_type": "stream",
     "text": [
      "{'a': 1, 'b': 2, 'c': 3, 'd': 4}\n"
     ]
    }
   ],
   "source": [
    "print(d1 | d2)"
   ]
  },
  {
   "cell_type": "code",
   "execution_count": 29,
   "id": "ee514862-2374-428d-b0ed-2a84531157b2",
   "metadata": {},
   "outputs": [
    {
     "name": "stdout",
     "output_type": "stream",
     "text": [
      "{'a': 1, 'b': 2, 'c': 3, 'd': 4}\n"
     ]
    }
   ],
   "source": [
    "d1.update(d2)\n",
    "print(d1)"
   ]
  },
  {
   "cell_type": "code",
   "execution_count": 30,
   "id": "d8da8372-4d11-4cf0-bee3-246005fe35d7",
   "metadata": {},
   "outputs": [
    {
     "name": "stdout",
     "output_type": "stream",
     "text": [
      "{'a': 1, 'b': 2, 'c': 3, 'd': 4}\n"
     ]
    }
   ],
   "source": [
    "merged_dict = {**d1, **d2}\n",
    "print(merged_dict)"
   ]
  },
  {
   "cell_type": "markdown",
   "id": "e406b962-8bce-4aa6-8547-a562b05fd9ad",
   "metadata": {},
   "source": [
    "# 10. Applications"
   ]
  },
  {
   "cell_type": "code",
   "execution_count": 31,
   "id": "7c82a38f-7cbe-4842-b02d-44a86478d291",
   "metadata": {},
   "outputs": [
    {
     "name": "stdout",
     "output_type": "stream",
     "text": [
      "{'b': 1, 'a': 3, 'n': 2}\n"
     ]
    }
   ],
   "source": [
    "# count the frequency of characters in banana.\n",
    "word = \"banana\"\n",
    "char_frequency = {}\n",
    "\n",
    "for char in word:\n",
    "    if char in char_frequency:\n",
    "        char_frequency[char] += 1\n",
    "    else:\n",
    "        char_frequency[char] = 1\n",
    "\n",
    "print(char_frequency)"
   ]
  },
  {
   "cell_type": "code",
   "execution_count": 32,
   "id": "f328a753-a555-45da-95b3-b9ececf0924e",
   "metadata": {},
   "outputs": [
    {
     "name": "stdout",
     "output_type": "stream",
     "text": [
      "{'a': 1, 'b': 2, 'c': 3}\n"
     ]
    }
   ],
   "source": [
    "# Convert two lists [\"a\", \"b\", \"c\"] and [1, 2, 3] into a dictionary using zip().\n",
    "l1 = [\"a\", \"b\", \"c\"]\n",
    "l2 = [1, 2, 3]\n",
    "\n",
    "d2 = dict(zip(l1,l2))\n",
    "print(d2)"
   ]
  },
  {
   "cell_type": "code",
   "execution_count": 33,
   "id": "cbf557c6-b8d5-41ec-a104-3201d175dc40",
   "metadata": {},
   "outputs": [
    {
     "name": "stdout",
     "output_type": "stream",
     "text": [
      "{1: 1, 2: 8, 3: 27, 4: 64, 5: 125}\n"
     ]
    }
   ],
   "source": [
    "# Create a dictionary where keys are numbers from 1–5 and values are their cubes.\n",
    "d3 = {x : x**3 for x in range(1, 6)}\n",
    "print(d3)"
   ]
  }
 ],
 "metadata": {
  "kernelspec": {
   "display_name": "Python 3 (ipykernel)",
   "language": "python",
   "name": "python3"
  },
  "language_info": {
   "codemirror_mode": {
    "name": "ipython",
    "version": 3
   },
   "file_extension": ".py",
   "mimetype": "text/x-python",
   "name": "python",
   "nbconvert_exporter": "python",
   "pygments_lexer": "ipython3",
   "version": "3.11.7"
  }
 },
 "nbformat": 4,
 "nbformat_minor": 5
}
