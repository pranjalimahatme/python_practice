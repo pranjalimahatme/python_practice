{
 "cells": [
  {
   "cell_type": "markdown",
   "id": "525f2603-837b-4998-97ba-facfc7aa2acd",
   "metadata": {},
   "source": [
    "# Tuples"
   ]
  },
  {
   "cell_type": "markdown",
   "id": "77cd21de-866a-4b96-8a98-f3514aba4538",
   "metadata": {},
   "source": [
    "## 1. Creation & Access"
   ]
  },
  {
   "cell_type": "code",
   "execution_count": 3,
   "id": "1dbc9ead-3ae2-4a69-a832-16f498f06a3f",
   "metadata": {},
   "outputs": [
    {
     "name": "stdout",
     "output_type": "stream",
     "text": [
      "Kop\n",
      "Canberra\n"
     ]
    }
   ],
   "source": [
    "# 1. Create a tuple of 5 city names. Print the first and last city.\n",
    "cities = ('Kop', 'Bombay', 'Pune', 'Sydney', 'Canberra')\n",
    "print(cities[0])\n",
    "print(cities[-1])"
   ]
  },
  {
   "cell_type": "code",
   "execution_count": 4,
   "id": "76a703d8-fbe6-45ee-b0fc-557853e26d6c",
   "metadata": {},
   "outputs": [
    {
     "data": {
      "text/plain": [
       "30"
      ]
     },
     "execution_count": 4,
     "metadata": {},
     "output_type": "execute_result"
    }
   ],
   "source": [
    "# 2. Create a tuple (10, 20, 30, 40, 50) and access the third element.\n",
    "numbers = (10, 20, 30, 40, 50) \n",
    "numbers[2]"
   ]
  },
  {
   "cell_type": "markdown",
   "id": "9f1d4cf3-8c3d-4400-ba09-dba51ae763aa",
   "metadata": {},
   "source": [
    "## 2. Immutability"
   ]
  },
  {
   "cell_type": "code",
   "execution_count": 5,
   "id": "03746b4a-a00b-4e02-95e8-d8653181239e",
   "metadata": {},
   "outputs": [
    {
     "ename": "TypeError",
     "evalue": "'tuple' object does not support item assignment",
     "output_type": "error",
     "traceback": [
      "\u001b[1;31m---------------------------------------------------------------------------\u001b[0m",
      "\u001b[1;31mTypeError\u001b[0m                                 Traceback (most recent call last)",
      "Cell \u001b[1;32mIn[5], line 3\u001b[0m\n\u001b[0;32m      1\u001b[0m \u001b[38;5;66;03m# 1. Try modifying the second element of (1, 2, 3) and observe the error.\u001b[39;00m\n\u001b[0;32m      2\u001b[0m my_tuple \u001b[38;5;241m=\u001b[39m (\u001b[38;5;241m1\u001b[39m, \u001b[38;5;241m2\u001b[39m, \u001b[38;5;241m3\u001b[39m)\n\u001b[1;32m----> 3\u001b[0m my_tuple[\u001b[38;5;241m1\u001b[39m] \u001b[38;5;241m=\u001b[39m \u001b[38;5;241m4\u001b[39m\n",
      "\u001b[1;31mTypeError\u001b[0m: 'tuple' object does not support item assignment"
     ]
    }
   ],
   "source": [
    "# 1. Try modifying the second element of (1, 2, 3) and observe the error.\n",
    "my_tuple = (1, 2, 3)\n",
    "my_tuple[1] = 4"
   ]
  },
  {
   "cell_type": "markdown",
   "id": "733a31ae-a780-41a9-903b-85d620c651eb",
   "metadata": {},
   "source": [
    "## 3. Tuple Operations"
   ]
  },
  {
   "cell_type": "code",
   "execution_count": 7,
   "id": "e5869265-fa42-45bd-a712-3bf05e2e939f",
   "metadata": {},
   "outputs": [
    {
     "data": {
      "text/plain": [
       "(1, 2, 3, 4)"
      ]
     },
     "execution_count": 7,
     "metadata": {},
     "output_type": "execute_result"
    }
   ],
   "source": [
    "# 1. Concatenate (1, 2) and (3, 4).\n",
    "tuple1 = (1, 2)\n",
    "tuple2 = (3, 4)\n",
    "\n",
    "tuple3 = tuple1 + tuple2\n",
    "tuple3"
   ]
  },
  {
   "cell_type": "code",
   "execution_count": 13,
   "id": "7751bf9a-2012-4628-b1df-b85c1ce84741",
   "metadata": {},
   "outputs": [
    {
     "name": "stdout",
     "output_type": "stream",
     "text": [
      "('hi', 'hi', 'hi', 'hi', 'hi')\n"
     ]
    }
   ],
   "source": [
    "# 2. Repeat (“hi”,) five times.\n",
    "\n",
    "# For a single-element tuple, you must include the comma → (\"hi\",). If you write (\"hi\"), Python treats it as a string, not a tuple.\n",
    "\n",
    "# A tuple with one element \n",
    "my_tuple = (\"hi\",)\n",
    "\n",
    "# Repeat it 5 times\n",
    "repeated = my_tuple * 5\n",
    "print(repeated)\n"
   ]
  },
  {
   "cell_type": "markdown",
   "id": "14245f27-4f7d-40cc-aafc-557b82b0d4ed",
   "metadata": {},
   "source": [
    "## 4. Slicing"
   ]
  },
  {
   "cell_type": "code",
   "execution_count": 15,
   "id": "ae597c0a-db58-43fc-b051-1c6aadce2939",
   "metadata": {},
   "outputs": [
    {
     "name": "stdout",
     "output_type": "stream",
     "text": [
      "(20, 30, 40)\n"
     ]
    }
   ],
   "source": [
    "# 1. From (10, 20, 30, 40, 50), extract (20, 30, 40) using slicing.\n",
    "t1 = (10, 20, 30, 40, 50)\n",
    "print(t1[1:4])"
   ]
  },
  {
   "cell_type": "markdown",
   "id": "0dd937a0-eae7-488c-96ec-84e85d8200e5",
   "metadata": {},
   "source": [
    "## 5. Searching & Counting"
   ]
  },
  {
   "cell_type": "code",
   "execution_count": 16,
   "id": "5fa9c092-6681-4d1b-ac78-bd3c5cb13dc9",
   "metadata": {},
   "outputs": [
    {
     "name": "stdout",
     "output_type": "stream",
     "text": [
      "False\n"
     ]
    }
   ],
   "source": [
    "# 1. Check if 25 is in (10, 20, 30, 40).\n",
    "t2 = (10, 20, 30, 40)\n",
    "print(25 in t2)"
   ]
  },
  {
   "cell_type": "code",
   "execution_count": 17,
   "id": "07aa58a0-7d8b-44e9-aae6-6fec79328ec4",
   "metadata": {},
   "outputs": [
    {
     "name": "stdout",
     "output_type": "stream",
     "text": [
      "3\n"
     ]
    }
   ],
   "source": [
    "# 2. Count how many times 5 appears in (1, 5, 5, 2, 5).\n",
    "t3 = (1, 5, 5, 2, 5)\n",
    "print(t3.count(5))"
   ]
  },
  {
   "cell_type": "markdown",
   "id": "24e74b1f-07aa-47f6-804f-bf7fe0b4903f",
   "metadata": {},
   "source": [
    "## 6. Tuple Functions"
   ]
  },
  {
   "cell_type": "code",
   "execution_count": 18,
   "id": "c8500549-f13e-4382-8a00-c997da04ff4d",
   "metadata": {},
   "outputs": [
    {
     "name": "stdout",
     "output_type": "stream",
     "text": [
      "6\n",
      "9\n",
      "1\n"
     ]
    }
   ],
   "source": [
    "# 1. Find the length, maximum, and minimum of (3, 1, 4, 1, 5, 9).\n",
    "t4 = (3, 1, 4, 1, 5, 9)\n",
    "print(len(t4))\n",
    "print(max(t4))\n",
    "print(min(t4))"
   ]
  },
  {
   "cell_type": "markdown",
   "id": "3892d58e-4423-4f7f-be52-c8c056b5d734",
   "metadata": {},
   "source": [
    "## 7. Unpacking"
   ]
  },
  {
   "cell_type": "code",
   "execution_count": 6,
   "id": "3a9656f9-821f-4e29-9ba1-4dfdaa08d48b",
   "metadata": {},
   "outputs": [
    {
     "name": "stdout",
     "output_type": "stream",
     "text": [
      "10\n",
      "20\n",
      "30\n"
     ]
    }
   ],
   "source": [
    "# 1. Unpack (10, 20, 30) into variables a, b, c.\n",
    "t7 = (10, 20, 30)\n",
    "a, b, c = t7\n",
    "print(a)\n",
    "print(b)\n",
    "print(c)"
   ]
  },
  {
   "cell_type": "code",
   "execution_count": 11,
   "id": "c8886466-3c2d-4910-aac3-20fba1821dc3",
   "metadata": {},
   "outputs": [
    {
     "name": "stdout",
     "output_type": "stream",
     "text": [
      "10\n",
      "[20, 30]\n"
     ]
    }
   ],
   "source": [
    "(a, *b) = t7\n",
    "print(a)\n",
    "print(b)"
   ]
  },
  {
   "cell_type": "code",
   "execution_count": 12,
   "id": "c91d1d24-a54b-4cc9-9f77-e5a090a86c07",
   "metadata": {},
   "outputs": [
    {
     "name": "stdout",
     "output_type": "stream",
     "text": [
      "10\n",
      "[20, 30, 40]\n",
      "50\n"
     ]
    }
   ],
   "source": [
    "numbers = (10, 20, 30, 40, 50)\n",
    "(a, *b, c) = numbers\n",
    "\n",
    "print(a)\n",
    "print(b)\n",
    "print(c)"
   ]
  },
  {
   "cell_type": "markdown",
   "id": "9ecdf32f-d07f-4d1b-bc48-8292252920f8",
   "metadata": {},
   "source": [
    "## 8. Nested Tuples"
   ]
  },
  {
   "cell_type": "code",
   "execution_count": 1,
   "id": "8ef271d7-f29e-47d0-bcd8-15db1cd7dad7",
   "metadata": {},
   "outputs": [
    {
     "data": {
      "text/plain": [
       "(1, (3, 5, (7, 9)))"
      ]
     },
     "execution_count": 1,
     "metadata": {},
     "output_type": "execute_result"
    }
   ],
   "source": [
    "# 1. Access the value 9 from (1, (3, 5, (7, 9))).\n",
    "t5 = (1, (3, 5, (7, 9)))\n",
    "t5"
   ]
  },
  {
   "cell_type": "code",
   "execution_count": 2,
   "id": "014f5a9d-7ec4-4c3a-b99c-49e641c1c84d",
   "metadata": {},
   "outputs": [
    {
     "data": {
      "text/plain": [
       "9"
      ]
     },
     "execution_count": 2,
     "metadata": {},
     "output_type": "execute_result"
    }
   ],
   "source": [
    "t5[1][2][1]"
   ]
  },
  {
   "cell_type": "markdown",
   "id": "424e9819-a266-4e3e-a2c6-cc8b6a9b3146",
   "metadata": {},
   "source": [
    "## 9. Conversion"
   ]
  },
  {
   "cell_type": "code",
   "execution_count": 5,
   "id": "0c1a4bcd-00a6-44d9-a5f3-cb40c45f2344",
   "metadata": {},
   "outputs": [
    {
     "name": "stdout",
     "output_type": "stream",
     "text": [
      "original tuple: (1, 2, 3).\n",
      "converted list: [1, 2, 3].\n",
      "list after appending: [1, 2, 3, 4].\n",
      "new tuple: (1, 2, 3, 4)\n"
     ]
    }
   ],
   "source": [
    "# 1. Convert a tuple (1, 2, 3) into a list, append 4, and convert back to a tuple.\n",
    "t6 = (1,2,3)\n",
    "print(f\"original tuple: {t6}.\")\n",
    "\n",
    "converted = list(t6)\n",
    "print(f\"converted list: {converted}.\")\n",
    "\n",
    "converted.append(4)\n",
    "print(f\"list after appending: {converted}.\")\n",
    "\n",
    "t6 = tuple(converted)\n",
    "print(f\"new tuple: {t6}\")"
   ]
  },
  {
   "cell_type": "markdown",
   "id": "644bbbd7-6b55-4a0f-aa90-cb6a242c8e0d",
   "metadata": {},
   "source": [
    "## 10. Applications\n",
    "\n"
   ]
  },
  {
   "cell_type": "code",
   "execution_count": 13,
   "id": "6225c545-387c-4729-885a-cad7f15a4a98",
   "metadata": {},
   "outputs": [
    {
     "name": "stdout",
     "output_type": "stream",
     "text": [
      "Original values:\n",
      "a = 10\n",
      "b = 20\n",
      "Swapped values:\n",
      "a = 20\n",
      "b = 10\n"
     ]
    }
   ],
   "source": [
    "# 1. Swap two numbers using tuple unpacking.\n",
    "# Original values\n",
    "a = 10\n",
    "b = 20\n",
    "print(\"Original values:\")\n",
    "print(\"a =\", a)\n",
    "print(\"b =\", b)\n",
    "\n",
    "# Swap using tuple unpacking\n",
    "a, b = b, a\n",
    "\n",
    "print(\"Swapped values:\")\n",
    "print(\"a =\", a)\n",
    "print(\"b =\", b)\n"
   ]
  }
 ],
 "metadata": {
  "kernelspec": {
   "display_name": "Python 3 (ipykernel)",
   "language": "python",
   "name": "python3"
  },
  "language_info": {
   "codemirror_mode": {
    "name": "ipython",
    "version": 3
   },
   "file_extension": ".py",
   "mimetype": "text/x-python",
   "name": "python",
   "nbconvert_exporter": "python",
   "pygments_lexer": "ipython3",
   "version": "3.11.7"
  }
 },
 "nbformat": 4,
 "nbformat_minor": 5
}
