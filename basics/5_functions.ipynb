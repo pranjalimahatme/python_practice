{
 "cells": [
  {
   "cell_type": "markdown",
   "id": "ff6da8bf-6b8c-447d-abd6-e4b24884dec4",
   "metadata": {},
   "source": [
    "# Functions "
   ]
  },
  {
   "cell_type": "code",
   "execution_count": 2,
   "id": "329b9f24-5a7e-4664-9a1c-28538cd09125",
   "metadata": {},
   "outputs": [
    {
     "name": "stdout",
     "output_type": "stream",
     "text": [
      "hello_python\n"
     ]
    }
   ],
   "source": [
    "# 1. Write a function that prints \"Hello, Python\".\n",
    "\n",
    "def hello_python():\n",
    "    \"\"\" \n",
    "    This function prints 'hello_python'.\n",
    "    \"\"\"\n",
    "    print(\"hello_python\")\n",
    "\n",
    "hello_python() # function call"
   ]
  },
  {
   "cell_type": "code",
   "execution_count": 3,
   "id": "675d9645-0558-4538-ad34-70cbbbd51073",
   "metadata": {},
   "outputs": [
    {
     "name": "stdout",
     "output_type": "stream",
     "text": [
      " \n",
      "    This function prints 'hello_python'.\n",
      "    \n"
     ]
    }
   ],
   "source": [
    "# to check more information of a function (docstring)\n",
    "print(hello_python.__doc__)\n"
   ]
  },
  {
   "cell_type": "code",
   "execution_count": 6,
   "id": "7c43c9c4-77c1-47a4-8855-2c7d156f4522",
   "metadata": {},
   "outputs": [
    {
     "name": "stdout",
     "output_type": "stream",
     "text": [
      "Help on function hello_python in module __main__:\n",
      "\n",
      "hello_python()\n",
      "    This function prints 'hello_python'.\n",
      "\n"
     ]
    }
   ],
   "source": [
    "# another way to check docstring\n",
    "help(hello_python)"
   ]
  },
  {
   "cell_type": "code",
   "execution_count": 14,
   "id": "7450daf4-8166-4905-921e-d419074decc9",
   "metadata": {},
   "outputs": [
    {
     "data": {
      "text/plain": [
       "5"
      ]
     },
     "execution_count": 14,
     "metadata": {},
     "output_type": "execute_result"
    }
   ],
   "source": [
    "# 2. Write a function that adds 2 numbers and returns the result.\n",
    "def add(num1, num2):\n",
    "    \"\"\"\n",
    "    This function adds two numbers and returns the result.\n",
    "\n",
    "    Parameters:\n",
    "        num1(int or float): The first number.\n",
    "        num2(int or float): The second number.\n",
    "\n",
    "    Returns: \n",
    "        int/float: The sum of a and b.\n",
    "    \"\"\"\n",
    "    return num1 + num2\n",
    "\n",
    "\n",
    "add(2,3)\n",
    "\n"
   ]
  },
  {
   "cell_type": "code",
   "execution_count": 13,
   "id": "fd2c9fd7-bc7d-458c-a5b5-9510b84c271a",
   "metadata": {},
   "outputs": [
    {
     "name": "stdout",
     "output_type": "stream",
     "text": [
      "My name is Mandar and my country is India.\n"
     ]
    }
   ],
   "source": [
    "# 3. Write a function with a default parameter country=\"India\" and print a sentence.\n",
    "def country_name(name, country = 'India'):\n",
    "    \"\"\"\n",
    "    This function prints name and country of a person.\n",
    "\n",
    "    Parameters:\n",
    "        name(string): name of the person.\n",
    "        country(str/optional): The country of the person. Defaults to \"India\".\n",
    "\n",
    "    Returns:\n",
    "        none.\n",
    "    \"\"\"\n",
    "    print(f\"My name is {name} and my country is {country}.\")\n",
    "    \n",
    "country_name('Mandar')"
   ]
  },
  {
   "cell_type": "code",
   "execution_count": 1,
   "id": "8de2d1a2-757f-4bdd-973c-ec1c8b315c57",
   "metadata": {},
   "outputs": [
    {
     "name": "stdout",
     "output_type": "stream",
     "text": [
      "20.0\n",
      "10.0\n",
      "0\n"
     ]
    }
   ],
   "source": [
    "# 4. Write a function that accepts any number of arguments and returns their average.\n",
    "def average(*args):\n",
    "    \"\"\"\n",
    "    Calculate and return the average of any number of numeric arguments.\n",
    "\n",
    "    Parameters:\n",
    "        *args (int or float): One or more numbers.\n",
    "\n",
    "    Returns:\n",
    "        float: The average of the provided numbers.\n",
    "    \"\"\"\n",
    "    if len(args) == 0:\n",
    "        return 0   \n",
    "    return sum(args) / len(args)\n",
    "\n",
    "\n",
    "print(average(10, 20, 30))   \n",
    "print(average(5, 15))        \n",
    "print(average())             \n"
   ]
  },
  {
   "cell_type": "code",
   "execution_count": 2,
   "id": "500bbdf1-7436-4cf1-9342-faa3b162e08a",
   "metadata": {},
   "outputs": [
    {
     "name": "stdout",
     "output_type": "stream",
     "text": [
      "Name: Tina, Age: 5\n"
     ]
    }
   ],
   "source": [
    "# 5. Write a function that accepts keyword arguments like name=\"Alice\", age=20.\n",
    "def introduction(name, age):\n",
    "    \"\"\"\n",
    "    This Function prints name and age of a person.\n",
    "\n",
    "    Parameters:\n",
    "        name(str): name of the person. \n",
    "        age(int): age of the person.\n",
    "\n",
    "    Returns:\n",
    "        none.\n",
    "    \"\"\"\n",
    "    print(f\"Name: {name}, Age: {age}\")\n",
    "\n",
    "introduction('Tina', 5)"
   ]
  },
  {
   "cell_type": "markdown",
   "id": "30bda68d-b39c-4eab-916b-37f3591df2dd",
   "metadata": {},
   "source": [
    "## Mixed Arguments"
   ]
  },
  {
   "cell_type": "code",
   "execution_count": 5,
   "id": "1b34a27f-fac5-49e0-a3a3-35b83955d289",
   "metadata": {},
   "outputs": [
    {
     "name": "stdout",
     "output_type": "stream",
     "text": [
      "ID: 101, Name: Alice\n",
      "Skills: ('Python', 'ML', 'AI')\n",
      "Company: Google\n",
      "Other Details: {'age': 30, 'city': 'NY'}\n"
     ]
    }
   ],
   "source": [
    "# 1. Write a function employee_info\n",
    "def employee_info(id, name, *skills, company=\"OpenAI\", **details):\n",
    "    \"\"\"\n",
    "    Print employee details including skills, company, and extra information.\n",
    "\n",
    "    Parameters:\n",
    "        id (int): Employee ID.\n",
    "        name (str): Employee name.\n",
    "        *skills (str): Skills of the employee.\n",
    "        company (str, optional): Company name (default \"OpenAI\").\n",
    "        **details: Other details like age, city, etc.\n",
    "\n",
    "    Returns:\n",
    "        None\n",
    "    \"\"\"\n",
    "    print(f\"ID: {id}, Name: {name}\")\n",
    "    print(\"Skills:\", skills)\n",
    "    print(\"Company:\", company)\n",
    "    print(\"Other Details:\", details)\n",
    "\n",
    "\n",
    "# Example usage\n",
    "employee_info(101, \"Alice\", \"Python\", \"ML\", \"AI\", company=\"Google\", age=30, city=\"NY\")\n"
   ]
  },
  {
   "cell_type": "code",
   "execution_count": 4,
   "id": "0d5a27fb-b3af-499f-8cd0-d5784dc2a68d",
   "metadata": {},
   "outputs": [
    {
     "name": "stdout",
     "output_type": "stream",
     "text": [
      "User: Bob\n",
      "Items: ('Laptop', 'Mouse', 'Keyboard')\n",
      "Discount: 10%\n",
      "Payment: {'method': 'UPI', 'status': 'Paid'}\n"
     ]
    }
   ],
   "source": [
    "# 2. Shopping Cart\n",
    "def cart(user, *items, discount=0, **payment):\n",
    "    \"\"\"\n",
    "    Print shopping cart details including items, discount, and payment info.\n",
    "\n",
    "    Parameters:\n",
    "        user (str): Name of the user.\n",
    "        *items (str): Items in the cart.\n",
    "        discount (int, optional): Discount percentage (default 0).\n",
    "        **payment: Payment details like method, status.\n",
    "\n",
    "    Returns:\n",
    "        None\n",
    "    \"\"\"\n",
    "    print(\"User:\", user)\n",
    "    print(\"Items:\", items)\n",
    "    print(\"Discount:\", f\"{discount}%\")\n",
    "    print(\"Payment:\", payment)\n",
    "\n",
    "\n",
    "# Example usage\n",
    "cart(\"Bob\", \"Laptop\", \"Mouse\", \"Keyboard\", discount=10, method=\"UPI\", status=\"Paid\")\n"
   ]
  },
  {
   "cell_type": "markdown",
   "id": "38674b5c-76c7-4ba6-ac6a-63c3eca18f4a",
   "metadata": {},
   "source": [
    "## Recursion"
   ]
  },
  {
   "cell_type": "code",
   "execution_count": 6,
   "id": "741e9b37-0fe1-473a-9913-e15f9457b7af",
   "metadata": {},
   "outputs": [
    {
     "data": {
      "text/plain": [
       "120"
      ]
     },
     "execution_count": 6,
     "metadata": {},
     "output_type": "execute_result"
    }
   ],
   "source": [
    "# 1. Write a recursive function to find factorial of a number.\n",
    "def factorial(num):\n",
    "    \"\"\"\n",
    "    This Function calculates Factorial of a number.\n",
    "\n",
    "    Parameters:\n",
    "        num(int) : a number to calculate factorial.\n",
    "\n",
    "    Returns:\n",
    "        int: The factorial of a number.\n",
    "    \"\"\"\n",
    "    if num > 1:\n",
    "        return(num * factorial(num-1))\n",
    "    else:\n",
    "        return 1\n",
    "\n",
    "factorial(5)\n",
    "        "
   ]
  },
  {
   "cell_type": "code",
   "execution_count": 7,
   "id": "dc0e5986-756f-4fb5-9ed5-66ed3fdd3356",
   "metadata": {},
   "outputs": [
    {
     "name": "stdout",
     "output_type": "stream",
     "text": [
      "8\n"
     ]
    }
   ],
   "source": [
    "# 2. Write a recursive function fibonacci(n) that returns the nth Fibonacci number.\n",
    "def fibonacci(n):\n",
    "    \"\"\"\n",
    "    Return the nth Fibonacci number using recursion.\n",
    "\n",
    "    Parameters:\n",
    "        n (int): Position in the Fibonacci sequence (0-based).\n",
    "\n",
    "    Returns:\n",
    "        int: The nth Fibonacci number.\n",
    "    \"\"\"\n",
    "    if n == 0:\n",
    "        return 0\n",
    "    elif n == 1:\n",
    "        return 1\n",
    "    else:\n",
    "        return fibonacci(n-1) + fibonacci(n-2)\n",
    "\n",
    "\n",
    "print(fibonacci(6))"
   ]
  },
  {
   "cell_type": "code",
   "execution_count": 9,
   "id": "6a98910e-03e5-4226-8dd0-9230b2d8bbb9",
   "metadata": {},
   "outputs": [
    {
     "name": "stdout",
     "output_type": "stream",
     "text": [
      "True\n",
      "False\n"
     ]
    }
   ],
   "source": [
    "# 3. Recursive Palindrome\n",
    "def is_palindrome(s):\n",
    "    \"\"\"\n",
    "    Check if a string is a palindrome using recursion.\n",
    "\n",
    "    Parameters:\n",
    "        s (str): Input string.\n",
    "\n",
    "    Returns:\n",
    "        bool: True if palindrome, False otherwise.\n",
    "    \"\"\"\n",
    "    if len(s) <= 1:  \n",
    "        return True\n",
    "    if s[0] != s[-1]:\n",
    "        return False\n",
    "    return is_palindrome(s[1:-1])\n",
    "\n",
    "\n",
    "print(is_palindrome(\"madam\"))   \n",
    "print(is_palindrome(\"hello\"))   \n"
   ]
  },
  {
   "cell_type": "markdown",
   "id": "9c33a7ff-ce37-415c-abd5-b987e18a75af",
   "metadata": {},
   "source": [
    "## Lambda Function"
   ]
  },
  {
   "cell_type": "raw",
   "id": "c3c2d4e8-ad0d-425e-914b-de9ffff1d695",
   "metadata": {},
   "source": [
    "#syntax\n",
    "lambda arguments : expression"
   ]
  },
  {
   "cell_type": "code",
   "execution_count": 12,
   "id": "dc791267-c1dc-45de-9910-1f8e4e18f3b0",
   "metadata": {},
   "outputs": [
    {
     "name": "stdout",
     "output_type": "stream",
     "text": [
      "25\n"
     ]
    }
   ],
   "source": [
    "# simple Lambda\n",
    "\n",
    "# normal function\n",
    "def square(x):\n",
    "    return x ** 2\n",
    "\n",
    "# lambda function\n",
    "square_lambda = lambda x: x ** 2\n",
    "\n",
    "print(square_lambda(5))   # 25"
   ]
  },
  {
   "cell_type": "code",
   "execution_count": 7,
   "id": "a556b34c-396a-4ac8-808e-27697bf96683",
   "metadata": {},
   "outputs": [
    {
     "name": "stdout",
     "output_type": "stream",
     "text": [
      "10\n"
     ]
    }
   ],
   "source": [
    "# Lambda with multiple arguments\n",
    "# 2. Write a lambda function to add two numbers. \n",
    "add = lambda a, b: a + b\n",
    "print(add(3, 7)) "
   ]
  },
  {
   "cell_type": "code",
   "execution_count": 6,
   "id": "1652db1d-37aa-4afd-bc6e-f459c9b6fd8e",
   "metadata": {},
   "outputs": [
    {
     "name": "stdout",
     "output_type": "stream",
     "text": [
      "even\n",
      "odd\n"
     ]
    }
   ],
   "source": [
    "# Lambda in Conditional Expressions\n",
    "# 3. Write a lambda function to check if a number is even. \n",
    "even = lambda num : 'even' if num % 2 == 0 else 'odd'\n",
    "print(even(4))\n",
    "print(even(5))"
   ]
  },
  {
   "cell_type": "code",
   "execution_count": 5,
   "id": "e4eb8b24-9a2d-409e-9739-11f25217b794",
   "metadata": {},
   "outputs": [
    {
     "name": "stdout",
     "output_type": "stream",
     "text": [
      "Hello, Python!\n"
     ]
    },
    {
     "data": {
      "text/plain": [
       "'Hello, Python!'"
      ]
     },
     "execution_count": 5,
     "metadata": {},
     "output_type": "execute_result"
    }
   ],
   "source": [
    "# 4. Lambda with no arguments\n",
    "hello = lambda: \"Hello, Python!\"\n",
    "print(hello())   \n",
    "hello()"
   ]
  },
  {
   "cell_type": "markdown",
   "id": "b1b78748-1a26-4c2a-bf01-c126ca722b88",
   "metadata": {},
   "source": [
    "## In-built functions"
   ]
  },
  {
   "cell_type": "code",
   "execution_count": 15,
   "id": "d3acf852-5961-486d-b009-9743291819e4",
   "metadata": {},
   "outputs": [
    {
     "name": "stdout",
     "output_type": "stream",
     "text": [
      "[1, 4, 9, 16]\n"
     ]
    }
   ],
   "source": [
    "# 1. map(function, iterables)\n",
    "# Use map() to square all elements of [1, 2, 3, 4].\n",
    "\n",
    "def square(num):\n",
    "    \"\"\"\n",
    "    Return the square of a given number.\n",
    "\n",
    "    Parameters:\n",
    "        num (int or float): The number to be squared.\n",
    "\n",
    "    Returns:\n",
    "        int or float: The square of the input number.\n",
    "    \"\"\"\n",
    "    return num * num\n",
    "\n",
    "\n",
    "# Apply 'square' to each element in the list using map()\n",
    "sq = list(map(square, [1, 2, 3, 4]))\n",
    "print(sq)   \n"
   ]
  },
  {
   "cell_type": "code",
   "execution_count": 21,
   "id": "a5b4b703-d125-40c8-864c-c5fdaeaf926d",
   "metadata": {},
   "outputs": [
    {
     "name": "stdout",
     "output_type": "stream",
     "text": [
      "[1, 3]\n"
     ]
    }
   ],
   "source": [
    "# 2.filter(function, iterable) \n",
    "# Use filter() to keep only odd numbers from [10, 15, 20, 25].\n",
    "def odd(num):\n",
    "    \"\"\"\n",
    "    Check if a number is odd.\n",
    "\n",
    "    Parameters:\n",
    "        num (int): The number to check.\n",
    "\n",
    "    Returns:\n",
    "        bool: True if the number is odd, False otherwise.\n",
    "    \"\"\"\n",
    "    return num % 2 != 0\n",
    "\n",
    "\n",
    "nums = [1,2,3,4]\n",
    "odd_num = filter(odd, nums)\n",
    "print(list(odd_num))"
   ]
  },
  {
   "cell_type": "code",
   "execution_count": 37,
   "id": "a5c11072-960e-42b0-b054-46fbe57b09ba",
   "metadata": {},
   "outputs": [
    {
     "name": "stdout",
     "output_type": "stream",
     "text": [
      "(('John', 1, [11, 22]), ('Charles', 2, [12, 23]), ('Mike', 3, [33, 44]))\n"
     ]
    },
    {
     "data": {
      "text/plain": [
       "[('John', 1, [11, 22]), ('Charles', 2, [12, 23]), ('Mike', 3, [33, 44])]"
      ]
     },
     "execution_count": 37,
     "metadata": {},
     "output_type": "execute_result"
    }
   ],
   "source": [
    "# 3. zip(iterator1, iterator2, iterator3 ...) Iterable objects that will be joined together,  \n",
    "# Use zip() to combine names and ages into pairs.\n",
    "\n",
    "a = (\"John\", \"Charles\", \"Mike\")\n",
    "b = (1, 2, 3)\n",
    "c = [[11,22], [12,23], [33,44]]\n",
    "\n",
    "my_details = tuple(zip(a, b, c))\n",
    "print(my_details)\n",
    "\n",
    "list(zip(a, b, c))"
   ]
  },
  {
   "cell_type": "code",
   "execution_count": 28,
   "id": "ce01a11a-4ec4-4492-90c7-78aaa36aa9cc",
   "metadata": {},
   "outputs": [
    {
     "name": "stdout",
     "output_type": "stream",
     "text": [
      "(('John', 'Jenny'), ('Charles', 'Christy'), ('Mike', 'Monica'))\n"
     ]
    }
   ],
   "source": [
    "#If one tuple contains more items, these items are ignored:\n",
    "\n",
    "a = (\"John\", \"Charles\", \"Mike\")\n",
    "b = (\"Jenny\", \"Christy\", \"Monica\", \"Vicky\")\n",
    "\n",
    "x = zip(a, b)\n",
    "print(tuple(x)) #vicky is ignored"
   ]
  },
  {
   "cell_type": "markdown",
   "id": "4810f00d-d8df-46e1-848c-89436fe97a64",
   "metadata": {},
   "source": [
    "## Coding Challenge"
   ]
  },
  {
   "cell_type": "raw",
   "id": "658b7d90-d19d-4ad9-8c43-9dafbd064f56",
   "metadata": {},
   "source": [
    "Problem:\n",
    "Write a program that takes a list of integers and does the following:\n",
    "\n",
    "1. Filter out only the even numbers using filter() with a lambda.\n",
    "\n",
    "2. Square those even numbers using map() with a lambda.\n",
    "\n",
    "3. Sum all squared even numbers using reduce() with a lambda.\n",
    "\n",
    "4. Check using recursion if the final sum is a palindrome number."
   ]
  },
  {
   "cell_type": "code",
   "execution_count": 4,
   "id": "63170441-4fbe-4b23-9c80-34560e444921",
   "metadata": {},
   "outputs": [
    {
     "name": "stdin",
     "output_type": "stream",
     "text": [
      "Enter numbers:  2  3 5 6\n"
     ]
    },
    {
     "name": "stdout",
     "output_type": "stream",
     "text": [
      "The even numbers are: [2, 6].\n",
      "The squared even numbers are: [4, 36].\n",
      "The total of squared even numbers is: 40.\n",
      "False\n"
     ]
    }
   ],
   "source": [
    "nums = list(map(int,input(\"Enter numbers: \").split()))\n",
    "\n",
    "# 1. Filter out only the even numbers using filter() with a lambda.\n",
    "even = list(filter(lambda n: n % 2 == 0, nums))\n",
    "print(f\"The even numbers are: {even}.\")\n",
    "\n",
    "# 2. Square those even numbers using map() with a lambda.\n",
    "square = list(map(lambda n: n*n, even))\n",
    "print(f\"The squared even numbers are: {square}.\")\n",
    "\n",
    "from functools import reduce\n",
    "\n",
    "# 3. Sum all squared even numbers using reduce() with a lambda. \n",
    "total = reduce(lambda num1, num2: num1 + num2 , square)\n",
    "print(f\"The total of squared even numbers is: {total}.\")\n",
    "\n",
    "\n",
    "# 4. Check using recursion if the final sum is a palindrome number.\n",
    "def is_palindrome(num):\n",
    "    \"\"\"\n",
    "    This function checks whether a number is a palindrome.\n",
    "\n",
    "    Parameters:\n",
    "    num(str) : a number given as a string.\n",
    "\n",
    "    Returns:\n",
    "    bool : True if string is a palindrome, otherwise False.\n",
    "    \"\"\"\n",
    "    if len(num) <= 1:\n",
    "        return True\n",
    "    if num[0] == num[-1]:\n",
    "        return is_palindrome(num[1:-1])\n",
    "    else:\n",
    "        return False    \n",
    "        \n",
    "print(is_palindrome(str(total)))\n",
    "    "
   ]
  }
 ],
 "metadata": {
  "kernelspec": {
   "display_name": "Python 3 (ipykernel)",
   "language": "python",
   "name": "python3"
  },
  "language_info": {
   "codemirror_mode": {
    "name": "ipython",
    "version": 3
   },
   "file_extension": ".py",
   "mimetype": "text/x-python",
   "name": "python",
   "nbconvert_exporter": "python",
   "pygments_lexer": "ipython3",
   "version": "3.11.7"
  }
 },
 "nbformat": 4,
 "nbformat_minor": 5
}
