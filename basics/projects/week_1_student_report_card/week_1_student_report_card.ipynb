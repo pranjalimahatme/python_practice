{
 "cells": [
  {
   "cell_type": "raw",
   "id": "64d3e6a4-e998-46bf-887f-1106e0e9cc02",
   "metadata": {},
   "source": [
    "📝 Week 1 Project: Student Gradebook Manager\n",
    "📌 Description\n",
    "Build a simple Gradebook Manager in Python to practice functions, lists, tuples, loops, and conditionals.\n",
    "The program should allow adding students, recording their marks, and calculating results (average, highest, lowest, pass/fail).\n",
    "\n",
    "🎯 Requirements\n",
    "\n",
    "1. Store student details\n",
    "Use a list of tuples, where each tuple contains (name, marks_list).\n",
    "Example: [(\"Alice\", [85, 90, 78]), (\"Bob\", [60, 50, 70])].\n",
    "\n",
    "\n",
    "2. Functions to implement:\n",
    "2.1 add_student(name, marks) → Adds a new student.\n",
    "2.2 display_students() → Prints all students with their marks.\n",
    "2.3 calculate_average(name) → Returns average marks of a student.\n",
    "2.4 class_summary() → Returns highest, lowest, and average marks of the class.\n",
    "\n",
    "3. Control Flow:\n",
    "3.1 Use loops to display a menu:\n",
    "3.2 Add student\n",
    "3.3 Display all students\n",
    "3.4 Calculate student average\n",
    "3.5 Show class summary\n",
    "3.6 Exit\n",
    "\n",
    "4. Use of Tuples & Lists\n",
    "Store student records as tuples & use lists for marks.\n",
    "\n",
    "5. Stretch Goals (Optional)\n",
    "5.1 Check pass/fail (>=40 is pass).\n",
    "5.2 Sort students by average marks.\n",
    "5.3 Save records in a text file."
   ]
  },
  {
   "cell_type": "code",
   "execution_count": 1,
   "id": "55aec8cc-050e-4ae3-a932-9ae52afe65ef",
   "metadata": {},
   "outputs": [],
   "source": [
    "# 1. Store student details - Use a list of tuples, where each tuple contains (name, marks_list).\n",
    "# Example: [(\"Alice\", [85, 90, 78]), (\"Bob\", [60, 50, 70])].\n",
    "\n",
    "student_info = [(\"Alice\", [85, 90, 78])]"
   ]
  },
  {
   "cell_type": "raw",
   "id": "eba66b8e-89e4-4d9d-9a4d-ced778d442b1",
   "metadata": {},
   "source": [
    "# 2. Functions to implement"
   ]
  },
  {
   "cell_type": "code",
   "execution_count": 2,
   "id": "2a100eb1-0f2e-402e-b71b-a0a851a23317",
   "metadata": {},
   "outputs": [
    {
     "name": "stdout",
     "output_type": "stream",
     "text": [
      "[('Alice', [85, 90, 78]), ('Bob', [60, 50, 70])]\n"
     ]
    }
   ],
   "source": [
    "# 2.1 add_student(name, marks) → Adds a new student.\n",
    "\n",
    "def add_student(name, marks):\n",
    "    student_info.append((name, marks))\n",
    "    return 'Student added successfully.' \n",
    "\n",
    "add_student(\"Bob\", [60, 50, 70])\n",
    "print(student_info)"
   ]
  },
  {
   "cell_type": "code",
   "execution_count": 3,
   "id": "98310381-19bd-4909-8341-4cede359fcc9",
   "metadata": {},
   "outputs": [
    {
     "name": "stdout",
     "output_type": "stream",
     "text": [
      "\n",
      "Student List:\n",
      "Student name: Alice, Marks: [85, 90, 78]\n",
      "Student name: Bob, Marks: [60, 50, 70]\n"
     ]
    }
   ],
   "source": [
    "# 2.2 display_students() → Prints all students with their marks.\n",
    "\n",
    "def display_students():\n",
    "    print(\"\\nStudent List:\")\n",
    "    for row in student_info:\n",
    "        print(f\"Student name: {row[0]}, Marks: {row[1]}\")\n",
    "\n",
    "display_students()        "
   ]
  },
  {
   "cell_type": "code",
   "execution_count": 4,
   "id": "1139bce2-60ca-42b6-bccf-3a47a5644ad2",
   "metadata": {},
   "outputs": [
    {
     "name": "stdout",
     "output_type": "stream",
     "text": [
      "Student name: Alice, Marks: [85, 90, 78], Average: 84.33\n",
      "Student name: Bob, Marks: [60, 50, 70], Average: 60.0\n",
      "Student 'Charlie' not found.\n"
     ]
    }
   ],
   "source": [
    "# 2.3 calculate_average(name) → Returns average marks of a student.\n",
    "\n",
    "def calculate_average(name):\n",
    "    for row in student_info:\n",
    "        if row[0] == name:\n",
    "            total = sum(row[1])\n",
    "            average = round(total / len(row[1]), 2)\n",
    "            return f\"Student name: {row[0]}, Marks: {row[1]}, Average: {average}\"\n",
    "    \n",
    "    return f\"Student '{name}' not found.\"\n",
    "\n",
    "print(calculate_average(\"Alice\"))\n",
    "print(calculate_average(\"Bob\"))\n",
    "print(calculate_average(\"Charlie\"))  "
   ]
  },
  {
   "cell_type": "code",
   "execution_count": 7,
   "id": "36d6e259-b003-471a-b130-3ba2aebce016",
   "metadata": {},
   "outputs": [],
   "source": [
    "# 2.4 class_summary() → Returns highest, lowest, and average marks of the class.\n",
    "\n",
    "def class_summary():\n",
    "    all_marks = [mark for _, marks in student_info for mark in marks]\n",
    "    \n",
    "    if not all_marks:\n",
    "        return \"No marks available to summarize.\"\n",
    "\n",
    "    return(\n",
    "        f\"Class Summary:\\n\"\n",
    "        f\"Highest Marks of the student list: {max(all_marks)} \\n\"\n",
    "        f\"Lowest Mark of the student list: {min(all_marks)} \\n\"\n",
    "        f\"Average Mark of the student list: {round(sum(all_marks) / len(all_marks), 2)} \\n\"\n",
    "    )\n"
   ]
  },
  {
   "cell_type": "code",
   "execution_count": 8,
   "id": "cf5adc9f-89ec-47e5-bc7c-1ee943a974e7",
   "metadata": {},
   "outputs": [
    {
     "data": {
      "text/plain": [
       "'Class Summary:\\nHighest Marks of the student list: 90 \\nLowest Mark of the student list: 50 \\nAverage Mark of the student list: 72.17 \\n'"
      ]
     },
     "execution_count": 8,
     "metadata": {},
     "output_type": "execute_result"
    }
   ],
   "source": [
    "class_summary()"
   ]
  },
  {
   "cell_type": "markdown",
   "id": "79933b2f-b4c9-4439-bc4a-97cfaec26a80",
   "metadata": {},
   "source": [
    "## 3. Control Flow:"
   ]
  },
  {
   "cell_type": "raw",
   "id": "2a077bcc-a639-4dd0-b905-357579a15fed",
   "metadata": {},
   "source": [
    "3.1 Use loops to display a menu:\n",
    "1. Add student\n",
    "2. Display all students\n",
    "3. Calculate student average\n",
    "4. Show class summary\n",
    "5. Exit"
   ]
  },
  {
   "cell_type": "code",
   "execution_count": 9,
   "id": "42af70d3-328e-4f9c-9b37-256875cfd712",
   "metadata": {},
   "outputs": [
    {
     "name": "stdout",
     "output_type": "stream",
     "text": [
      "\n",
      "===== Student Gradebook Manager =====\n",
      "1. Add student\n",
      "2. Display all students\n",
      "3. Calculate student average\n",
      "4. Show class summary\n",
      "5. Exit\n"
     ]
    },
    {
     "name": "stdin",
     "output_type": "stream",
     "text": [
      "Enter your option:  1\n",
      "Enter the name of the student: charls\n",
      "Enter marks separated by spaces:  56 78 68\n"
     ]
    },
    {
     "name": "stdout",
     "output_type": "stream",
     "text": [
      "Student added successfully.\n",
      "\n",
      "===== Student Gradebook Manager =====\n",
      "1. Add student\n",
      "2. Display all students\n",
      "3. Calculate student average\n",
      "4. Show class summary\n",
      "5. Exit\n"
     ]
    },
    {
     "name": "stdin",
     "output_type": "stream",
     "text": [
      "Enter your option:  2\n"
     ]
    },
    {
     "name": "stdout",
     "output_type": "stream",
     "text": [
      "Displaying all students:\n",
      "\n",
      "Student List:\n",
      "Student name: Alice, Marks: [85, 90, 78]\n",
      "Student name: Bob, Marks: [60, 50, 70]\n",
      "Student name: charls, Marks: [56, 78, 68]\n",
      "\n",
      "===== Student Gradebook Manager =====\n",
      "1. Add student\n",
      "2. Display all students\n",
      "3. Calculate student average\n",
      "4. Show class summary\n",
      "5. Exit\n"
     ]
    },
    {
     "name": "stdin",
     "output_type": "stream",
     "text": [
      "Enter your option:  3\n",
      "Enter the name of the student: charls\n"
     ]
    },
    {
     "name": "stdout",
     "output_type": "stream",
     "text": [
      "Student name: charls, Marks: [56, 78, 68], Average: 67.33\n",
      "\n",
      "===== Student Gradebook Manager =====\n",
      "1. Add student\n",
      "2. Display all students\n",
      "3. Calculate student average\n",
      "4. Show class summary\n",
      "5. Exit\n"
     ]
    },
    {
     "name": "stdin",
     "output_type": "stream",
     "text": [
      "Enter your option:  4\n"
     ]
    },
    {
     "name": "stdout",
     "output_type": "stream",
     "text": [
      "Class Summary:\n",
      "Highest Marks of the student list: 90 \n",
      "Lowest Mark of the student list: 50 \n",
      "Average Mark of the student list: 70.56 \n",
      "\n",
      "\n",
      "===== Student Gradebook Manager =====\n",
      "1. Add student\n",
      "2. Display all students\n",
      "3. Calculate student average\n",
      "4. Show class summary\n",
      "5. Exit\n"
     ]
    },
    {
     "name": "stdin",
     "output_type": "stream",
     "text": [
      "Enter your option:  5\n"
     ]
    },
    {
     "name": "stdout",
     "output_type": "stream",
     "text": [
      "Exiting Gradebook Manager.\n"
     ]
    }
   ],
   "source": [
    "while True:\n",
    "\n",
    "    print(\"\\n===== Student Gradebook Manager =====\")\n",
    "    print(\"1. Add student\")\n",
    "    print(\"2. Display all students\")\n",
    "    print(\"3. Calculate student average\")\n",
    "    print(\"4. Show class summary\")\n",
    "    #print(\"5. Check pass/fail (optional)\")\n",
    "    #print(\"6. Sort students by average (optional)\")\n",
    "    #print(\"7. Save records to file (optional)\")\n",
    "    print(\"5. Exit\")\n",
    "\n",
    "    option = input(\"Enter your option: \")\n",
    "    if option == \"1\":\n",
    "        name = input(\"Enter the name of the student:\")\n",
    "        marks = list(map(int, input(\"Enter marks separated by spaces: \").split()))\n",
    "        print(add_student(name, marks))\n",
    "    elif option == \"2\":\n",
    "        print(\"Displaying all students:\")\n",
    "        display_students()\n",
    "    elif option == \"3\":\n",
    "        name = input(\"Enter the name of the student:\")\n",
    "        print(calculate_average(name))\n",
    "    elif option == \"4\":\n",
    "        print(class_summary())\n",
    "    elif option == \"5\":\n",
    "        print(\"Exiting Gradebook Manager.\")\n",
    "        break\n",
    "    else:\n",
    "        print(\"Invalid option, try again.\")\n",
    "        "
   ]
  }
 ],
 "metadata": {
  "kernelspec": {
   "display_name": "Python 3 (ipykernel)",
   "language": "python",
   "name": "python3"
  },
  "language_info": {
   "codemirror_mode": {
    "name": "ipython",
    "version": 3
   },
   "file_extension": ".py",
   "mimetype": "text/x-python",
   "name": "python",
   "nbconvert_exporter": "python",
   "pygments_lexer": "ipython3",
   "version": "3.11.7"
  }
 },
 "nbformat": 4,
 "nbformat_minor": 5
}
