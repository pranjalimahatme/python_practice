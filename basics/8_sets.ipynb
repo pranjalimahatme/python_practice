{
 "cells": [
  {
   "cell_type": "markdown",
   "id": "aab1d9e0-19ce-4de5-b5b5-be311c6c3704",
   "metadata": {},
   "source": [
    "# Sets"
   ]
  },
  {
   "cell_type": "markdown",
   "id": "07dab7ea-2177-4238-89a9-7489e26bc609",
   "metadata": {},
   "source": [
    "## 1. Creation & Basics"
   ]
  },
  {
   "cell_type": "code",
   "execution_count": 3,
   "id": "a867bf63-e5eb-49b2-9b6e-3cf2bf3438d7",
   "metadata": {},
   "outputs": [
    {
     "name": "stdout",
     "output_type": "stream",
     "text": [
      "{1, 2, 3, 4, 5}\n"
     ]
    }
   ],
   "source": [
    "# 1. Create a set of {1, 2, 3, 4, 5} and print it.\n",
    "\n",
    "my_set = {1, 2, 3, 4, 5}\n",
    "print(my_set)"
   ]
  },
  {
   "cell_type": "code",
   "execution_count": 4,
   "id": "293ae16c-a2f9-43c3-8c7b-c5c694e4a498",
   "metadata": {},
   "outputs": [
    {
     "name": "stdout",
     "output_type": "stream",
     "text": [
      "{1, 2, 3, 4}\n"
     ]
    }
   ],
   "source": [
    "# 2. Create a set with duplicate values {1, 2, 2, 3, 4} and observe what happens.\n",
    "\n",
    "set1 = {1, 2, 2, 3, 4}\n",
    "print(set1)"
   ]
  },
  {
   "cell_type": "markdown",
   "id": "d75d93e0-2ad8-488d-b0a2-111d949cdf20",
   "metadata": {},
   "source": [
    "## 2. Adding & Removing Elements"
   ]
  },
  {
   "cell_type": "code",
   "execution_count": 6,
   "id": "86b450f0-f195-4815-8d4a-aada35377167",
   "metadata": {},
   "outputs": [
    {
     "name": "stdout",
     "output_type": "stream",
     "text": [
      "{1, 2, 3}\n",
      "{1, 2, 3, 6}\n"
     ]
    }
   ],
   "source": [
    "# 1. Add 6 to {1, 2, 3} using add().\n",
    "\n",
    "set2 = {1, 2, 3} \n",
    "print(set2)\n",
    "\n",
    "set2.add(6)\n",
    "print(set2)"
   ]
  },
  {
   "cell_type": "code",
   "execution_count": 39,
   "id": "7f1621a3-22a7-48b7-b2a7-888ac750d2ef",
   "metadata": {},
   "outputs": [
    {
     "name": "stdout",
     "output_type": "stream",
     "text": [
      "{1, 2, 3, 4}\n",
      "{1, 3, 4}\n",
      "{1, 3, 4}\n"
     ]
    }
   ],
   "source": [
    "# 2. Remove 2 from {1, 2, 3, 4} using remove().\n",
    "set3 = {1, 2, 3, 4}\n",
    "print(set3)\n",
    "\n",
    "set3.remove(2)\n",
    "print(set3)\n",
    "\n",
    "set3.discard(2)\n",
    "print(set3)"
   ]
  },
  {
   "cell_type": "code",
   "execution_count": 40,
   "id": "3d448a10-4ef2-4c0d-b246-bffa53fca930",
   "metadata": {},
   "outputs": [
    {
     "name": "stdout",
     "output_type": "stream",
     "text": [
      "{1, 2, 3, 4}\n",
      "{1, 2, 3, 4}\n"
     ]
    },
    {
     "ename": "KeyError",
     "evalue": "10",
     "output_type": "error",
     "traceback": [
      "\u001b[1;31m---------------------------------------------------------------------------\u001b[0m",
      "\u001b[1;31mKeyError\u001b[0m                                  Traceback (most recent call last)",
      "Cell \u001b[1;32mIn[40], line 8\u001b[0m\n\u001b[0;32m      5\u001b[0m set3\u001b[38;5;241m.\u001b[39mdiscard(\u001b[38;5;241m10\u001b[39m)\n\u001b[0;32m      6\u001b[0m \u001b[38;5;28mprint\u001b[39m(set3)\n\u001b[1;32m----> 8\u001b[0m set3\u001b[38;5;241m.\u001b[39mremove(\u001b[38;5;241m10\u001b[39m)\n\u001b[0;32m      9\u001b[0m \u001b[38;5;28mprint\u001b[39m(set3)\n",
      "\u001b[1;31mKeyError\u001b[0m: 10"
     ]
    }
   ],
   "source": [
    "# 3. Try removing 10 with discard() and observe the difference from remove().\n",
    "set3 = {1, 2, 3, 4}\n",
    "print(set3)\n",
    "\n",
    "set3.discard(10)\n",
    "print(set3)\n",
    "\n",
    "set3.remove(10)\n",
    "print(set3)"
   ]
  },
  {
   "cell_type": "markdown",
   "id": "3354a832-d97a-4b83-88c6-98cce9f5116e",
   "metadata": {},
   "source": [
    "## 3. Set Operations\n",
    "\n",
    "\n",
    "\n"
   ]
  },
  {
   "cell_type": "code",
   "execution_count": 14,
   "id": "b7caf8e5-1cf5-4414-8d55-e7bbf5471597",
   "metadata": {},
   "outputs": [
    {
     "name": "stdout",
     "output_type": "stream",
     "text": [
      "s1 =  {1, 2, 3}\n",
      "s2 =  {3, 4, 5}\n",
      "s1 union s2 = {1, 2, 3, 4, 5}\n",
      "s1 union s2 = {1, 2, 3, 4, 5}\n",
      "s1 intersection s2 = {3}\n",
      "s1 intersection s2 = {3}\n",
      "s1 difference s2 = {1, 2}\n"
     ]
    }
   ],
   "source": [
    "# 1. Perform union, intersection, and difference on {1, 2, 3} and {3, 4, 5}.\n",
    "s1 = {1, 2, 3}\n",
    "s2 = {3, 4, 5}\n",
    "\n",
    "print(\"s1 = \", s1)\n",
    "print(\"s2 = \", s2)\n",
    "\n",
    "print(f\"s1 union s2 = {s1.union(s2)}\")\n",
    "print(f\"s1 union s2 = {s1 | s2}\")\n",
    "\n",
    "print(f\"s1 intersection s2 = {s1.intersection(s2)}\")\n",
    "print(f\"s1 intersection s2 = {s1 & s2}\")\n",
    "\n",
    "print(f\"s1 difference s2 = {s1.difference(s2)}\")"
   ]
  },
  {
   "cell_type": "code",
   "execution_count": 15,
   "id": "13bdd374-301a-41a8-9aad-2e277f5df4c4",
   "metadata": {},
   "outputs": [
    {
     "name": "stdout",
     "output_type": "stream",
     "text": [
      "s1 symmetric difference s2 = {1, 2, 4, 5}\n",
      "s1 union s2 = {1, 2, 4, 5}\n"
     ]
    }
   ],
   "source": [
    "# 2. Perform symmetric difference on {1, 2, 3} and {3, 4, 5}.\n",
    "print(f\"s1 symmetric difference s2 = {s1 ^ s2}\")\n",
    "print(f\"s1 union s2 = {s1.symmetric_difference(s2)}\")\n"
   ]
  },
  {
   "cell_type": "markdown",
   "id": "4f5c5ef2-7bed-41d7-b3e6-abc4f4a607b1",
   "metadata": {},
   "source": [
    "## 4. Membership & Length"
   ]
  },
  {
   "cell_type": "code",
   "execution_count": 35,
   "id": "ba89a314-f298-41df-8d3d-6bcda8802901",
   "metadata": {},
   "outputs": [
    {
     "name": "stdout",
     "output_type": "stream",
     "text": [
      "False\n",
      "False\n",
      "False\n"
     ]
    }
   ],
   "source": [
    "# 1. Check if 5 exists in {1, 2, 3, 4}.\n",
    "\n",
    "s3 = {1, 2, 3, 4}\n",
    "\n",
    "print({5}.issubset(s3)) \n",
    "print({5} <= s3)\n",
    "\n",
    "print(5 in s3)"
   ]
  },
  {
   "cell_type": "code",
   "execution_count": 21,
   "id": "70cceede-c9ab-4c40-973f-91c27bb00036",
   "metadata": {},
   "outputs": [
    {
     "name": "stdout",
     "output_type": "stream",
     "text": [
      "{40, 10, 20, 30}\n"
     ]
    },
    {
     "data": {
      "text/plain": [
       "4"
      ]
     },
     "execution_count": 21,
     "metadata": {},
     "output_type": "execute_result"
    }
   ],
   "source": [
    "# 2. Find the length of {10, 20, 30, 40}.\n",
    "s4 = {10, 20, 30, 40}\n",
    "print(s4)\n",
    "\n",
    "len(s4)"
   ]
  },
  {
   "cell_type": "markdown",
   "id": "02cb91bd-c848-4c4c-842f-0ee87af6fbcc",
   "metadata": {},
   "source": [
    "## 5. Copying & Clearing"
   ]
  },
  {
   "cell_type": "code",
   "execution_count": 27,
   "id": "95790d20-7540-471f-8b67-15a61d8dddba",
   "metadata": {},
   "outputs": [
    {
     "name": "stdout",
     "output_type": "stream",
     "text": [
      "{1, 2, 3}\n",
      "{1, 2, 3}\n",
      "set()\n"
     ]
    }
   ],
   "source": [
    "# 1. Copy a set {1, 2, 3} and clear the original.\n",
    "\n",
    "s5 = {1, 2, 3}\n",
    "print(s5)\n",
    "\n",
    "s6 = s5.copy()\n",
    "print(s6)\n",
    "\n",
    "s5.clear()\n",
    "print(s5)"
   ]
  },
  {
   "cell_type": "markdown",
   "id": "e1f782dd-577a-4059-afa9-75803f0a1b99",
   "metadata": {},
   "source": [
    "## 6. Frozen Sets"
   ]
  },
  {
   "cell_type": "code",
   "execution_count": 28,
   "id": "9ee7fcca-5617-4adb-87a0-6eb2bc1a9d15",
   "metadata": {},
   "outputs": [
    {
     "name": "stdout",
     "output_type": "stream",
     "text": [
      "frozenset({1, 2, 3})\n"
     ]
    }
   ],
   "source": [
    "# 1. Create a frozen set from [1, 2, 3] and try adding an element.\n",
    "s7 = frozenset({1, 2, 3})\n",
    "print(s7)\n"
   ]
  },
  {
   "cell_type": "code",
   "execution_count": 29,
   "id": "49991e58-1c1d-40ee-a0d1-d85acca980c2",
   "metadata": {},
   "outputs": [
    {
     "name": "stdout",
     "output_type": "stream",
     "text": [
      "frozenset({'o', 'e', 'l', 'h'})\n"
     ]
    }
   ],
   "source": [
    "my_string = \"hello\"\n",
    "frozen_set_from_string = frozenset(my_string)\n",
    "print(frozen_set_from_string)\n"
   ]
  },
  {
   "cell_type": "markdown",
   "id": "1465ff0d-46e5-4ee0-830e-7c86d7f65c46",
   "metadata": {},
   "source": [
    "## 7. Applications"
   ]
  },
  {
   "cell_type": "code",
   "execution_count": 33,
   "id": "530ced8b-ef56-47b1-a159-82bdb9ef7c77",
   "metadata": {},
   "outputs": [
    {
     "name": "stdout",
     "output_type": "stream",
     "text": [
      "[1, 2, 2, 3, 4, 4, 5]\n",
      "{1, 2, 3, 4, 5}\n"
     ]
    }
   ],
   "source": [
    "# 1. Find unique elements from the list [1, 2, 2, 3, 4, 4, 5].\n",
    "list1 = [1, 2, 2, 3, 4, 4, 5]\n",
    "print(list1)\n",
    "\n",
    "s8 = set([1, 2, 2, 3, 4, 4, 5])\n",
    "print(s8)"
   ]
  },
  {
   "cell_type": "code",
   "execution_count": 37,
   "id": "aa8063a2-d9ab-4bf9-89f1-7d0d932bb660",
   "metadata": {},
   "outputs": [
    {
     "name": "stdout",
     "output_type": "stream",
     "text": [
      "True\n"
     ]
    },
    {
     "data": {
      "text/plain": [
       "True"
      ]
     },
     "execution_count": 37,
     "metadata": {},
     "output_type": "execute_result"
    }
   ],
   "source": [
    "# 2. Check if {1, 2} is a subset of {1, 2, 3, 4}.\n",
    "s9 =  {1, 2, 3, 4}\n",
    "\n",
    "print({1, 2} <= s9)\n",
    "{1, 2}.issubset(s9)"
   ]
  },
  {
   "cell_type": "code",
   "execution_count": 38,
   "id": "548bae54-f707-496c-9187-85158058e5a4",
   "metadata": {},
   "outputs": [
    {
     "name": "stdout",
     "output_type": "stream",
     "text": [
      "True\n"
     ]
    },
    {
     "data": {
      "text/plain": [
       "True"
      ]
     },
     "execution_count": 38,
     "metadata": {},
     "output_type": "execute_result"
    }
   ],
   "source": [
    "# 3. Check if {1, 2, 3, 4} is a superset of {2, 3}.\n",
    "print(s9.issuperset({2, 3}))\n",
    "s9 >= {2,3}"
   ]
  }
 ],
 "metadata": {
  "kernelspec": {
   "display_name": "Python 3 (ipykernel)",
   "language": "python",
   "name": "python3"
  },
  "language_info": {
   "codemirror_mode": {
    "name": "ipython",
    "version": 3
   },
   "file_extension": ".py",
   "mimetype": "text/x-python",
   "name": "python",
   "nbconvert_exporter": "python",
   "pygments_lexer": "ipython3",
   "version": "3.11.7"
  }
 },
 "nbformat": 4,
 "nbformat_minor": 5
}
