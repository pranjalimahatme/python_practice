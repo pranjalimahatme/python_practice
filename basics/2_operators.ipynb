{
 "cells": [
  {
   "cell_type": "markdown",
   "id": "9c327721-41fb-464f-9370-b76555365f49",
   "metadata": {},
   "source": [
    "# Arithmetic Operators"
   ]
  },
  {
   "cell_type": "code",
   "execution_count": 4,
   "id": "4f0a1710-1354-4fae-8bc9-c6855f6e2e33",
   "metadata": {},
   "outputs": [
    {
     "name": "stdin",
     "output_type": "stream",
     "text": [
      "Enter first number: 12\n",
      "Enter second number: 2\n"
     ]
    }
   ],
   "source": [
    "num1 = int(input('Enter first number:'))\n",
    "num2 = int(input('Enter second number:'))"
   ]
  },
  {
   "cell_type": "code",
   "execution_count": 14,
   "id": "68883c5d-4ff1-426a-afdd-8cd555ef876a",
   "metadata": {},
   "outputs": [
    {
     "name": "stdout",
     "output_type": "stream",
     "text": [
      "14\n"
     ]
    }
   ],
   "source": [
    "#addition\n",
    "print(num1 + num2)"
   ]
  },
  {
   "cell_type": "code",
   "execution_count": 15,
   "id": "01653f79-7e27-4e88-8f99-2f03a94a3a38",
   "metadata": {},
   "outputs": [
    {
     "name": "stdout",
     "output_type": "stream",
     "text": [
      "10\n"
     ]
    }
   ],
   "source": [
    "#subtraction\n",
    "print(num1 - num2)"
   ]
  },
  {
   "cell_type": "code",
   "execution_count": 16,
   "id": "efcabf9f-962b-4033-96d9-0bda4e65bf3b",
   "metadata": {},
   "outputs": [
    {
     "name": "stdout",
     "output_type": "stream",
     "text": [
      "24\n"
     ]
    }
   ],
   "source": [
    "#multiplication\n",
    "print(num1 * num2)"
   ]
  },
  {
   "cell_type": "code",
   "execution_count": 17,
   "id": "fb0da248-c11d-489d-b5ee-ec1a6db7e874",
   "metadata": {},
   "outputs": [
    {
     "name": "stdout",
     "output_type": "stream",
     "text": [
      "6.0\n"
     ]
    }
   ],
   "source": [
    "#division\n",
    "print(num1 / num2)"
   ]
  },
  {
   "cell_type": "code",
   "execution_count": 18,
   "id": "036c4836-4440-4d92-9ac8-1a463ec3de0b",
   "metadata": {},
   "outputs": [
    {
     "name": "stdout",
     "output_type": "stream",
     "text": [
      "6\n"
     ]
    }
   ],
   "source": [
    "#floor division\n",
    "print(num1 // num2)"
   ]
  },
  {
   "cell_type": "code",
   "execution_count": 19,
   "id": "45c1d312-d3fc-43e6-9fba-58ecc0774935",
   "metadata": {},
   "outputs": [
    {
     "name": "stdout",
     "output_type": "stream",
     "text": [
      "0\n"
     ]
    }
   ],
   "source": [
    "#modulus\n",
    "print(num1 % num2)"
   ]
  },
  {
   "cell_type": "code",
   "execution_count": 20,
   "id": "7511f60d-a73f-4166-a8df-ca93d49efc8b",
   "metadata": {},
   "outputs": [
    {
     "name": "stdout",
     "output_type": "stream",
     "text": [
      "144\n"
     ]
    }
   ],
   "source": [
    "#exponent\n",
    "print(num1 ** num2)"
   ]
  },
  {
   "cell_type": "markdown",
   "id": "6458040f-1123-4a08-9421-b9b3b8780bfe",
   "metadata": {},
   "source": [
    "# Relational Operators"
   ]
  },
  {
   "cell_type": "code",
   "execution_count": 23,
   "id": "bdbd09cc-176b-4aa5-80cf-99ed4216252d",
   "metadata": {},
   "outputs": [
    {
     "name": "stdin",
     "output_type": "stream",
     "text": [
      "Enter first number: 8\n",
      "Enter second number: 4\n"
     ]
    }
   ],
   "source": [
    "num3 = int(input('Enter first number:'))\n",
    "num4 = int(input('Enter second number:'))"
   ]
  },
  {
   "cell_type": "code",
   "execution_count": 24,
   "id": "502a4fe8-ff2e-4b89-b368-4ce7ff278041",
   "metadata": {},
   "outputs": [
    {
     "name": "stdout",
     "output_type": "stream",
     "text": [
      "True\n"
     ]
    }
   ],
   "source": [
    "print(num3 > num4)"
   ]
  },
  {
   "cell_type": "code",
   "execution_count": 25,
   "id": "096c9e0c-ad5f-4a8f-97f4-e5220467cd9a",
   "metadata": {},
   "outputs": [
    {
     "name": "stdout",
     "output_type": "stream",
     "text": [
      "True\n"
     ]
    }
   ],
   "source": [
    "print(num3 >= num4)"
   ]
  },
  {
   "cell_type": "code",
   "execution_count": 26,
   "id": "090e723e-95c4-47c0-b331-3bad50bcd614",
   "metadata": {},
   "outputs": [
    {
     "name": "stdout",
     "output_type": "stream",
     "text": [
      "False\n"
     ]
    }
   ],
   "source": [
    "print(num3 < num4)"
   ]
  },
  {
   "cell_type": "code",
   "execution_count": 27,
   "id": "6d1ce2d2-0fbb-4820-ac2c-7cae4859675d",
   "metadata": {},
   "outputs": [
    {
     "name": "stdout",
     "output_type": "stream",
     "text": [
      "False\n"
     ]
    }
   ],
   "source": [
    "print(num3 <= num4)"
   ]
  },
  {
   "cell_type": "code",
   "execution_count": 28,
   "id": "611f14fd-ecb7-4147-9e2b-a02f1be79419",
   "metadata": {},
   "outputs": [
    {
     "name": "stdout",
     "output_type": "stream",
     "text": [
      "False\n"
     ]
    }
   ],
   "source": [
    "print(num3 == num4)"
   ]
  },
  {
   "cell_type": "code",
   "execution_count": 29,
   "id": "cc316ed9-ea71-4167-8d30-a5ee1d42e577",
   "metadata": {},
   "outputs": [
    {
     "name": "stdout",
     "output_type": "stream",
     "text": [
      "True\n"
     ]
    }
   ],
   "source": [
    "print(num3 != num4)"
   ]
  },
  {
   "cell_type": "markdown",
   "id": "6fcee237-53f1-4361-b827-0ac3e3660156",
   "metadata": {},
   "source": [
    "# Logical Operators"
   ]
  },
  {
   "cell_type": "code",
   "execution_count": 31,
   "id": "c2b0330b-6e90-43ca-92f3-d2d5256d72e7",
   "metadata": {},
   "outputs": [],
   "source": [
    "true = True\n",
    "false = False"
   ]
  },
  {
   "cell_type": "code",
   "execution_count": 40,
   "id": "0d288e54-32a7-4a8b-b88b-e6c6df3fe899",
   "metadata": {},
   "outputs": [
    {
     "name": "stdout",
     "output_type": "stream",
     "text": [
      "True\n",
      "False\n",
      "False\n",
      "False\n"
     ]
    }
   ],
   "source": [
    "# and operator\n",
    "\n",
    "print(true and true)\n",
    "print(true and false)\n",
    "print(false and true)\n",
    "print(false and false)"
   ]
  },
  {
   "cell_type": "code",
   "execution_count": 41,
   "id": "db6a6f6a-3971-4b8a-91f4-8971adb626eb",
   "metadata": {},
   "outputs": [
    {
     "name": "stdout",
     "output_type": "stream",
     "text": [
      "True\n",
      "True\n",
      "True\n",
      "False\n"
     ]
    }
   ],
   "source": [
    "# or operator\n",
    "\n",
    "print(true or true)\n",
    "print(true or false)\n",
    "print(false or true)\n",
    "print(false or false)"
   ]
  },
  {
   "cell_type": "code",
   "execution_count": 42,
   "id": "05fe6608-b3f8-4c4c-97da-acf808d79e4b",
   "metadata": {},
   "outputs": [
    {
     "name": "stdout",
     "output_type": "stream",
     "text": [
      "False\n",
      "True\n"
     ]
    }
   ],
   "source": [
    "print(not true)\n",
    "print(not false)"
   ]
  },
  {
   "cell_type": "markdown",
   "id": "b65f04d2-a1ba-4899-b2e4-6718903abb17",
   "metadata": {},
   "source": [
    "# Assignment Operators"
   ]
  },
  {
   "cell_type": "code",
   "execution_count": 45,
   "id": "53a86751-be8b-4454-b25a-d15f8161791d",
   "metadata": {},
   "outputs": [
    {
     "name": "stdin",
     "output_type": "stream",
     "text": [
      "Enter first number: 3\n",
      "Enter second number: 9\n"
     ]
    }
   ],
   "source": [
    "a = int(input('Enter first number:'))\n",
    "b = int(input('Enter second number:'))"
   ]
  },
  {
   "cell_type": "code",
   "execution_count": 46,
   "id": "4e75c73a-fb53-4a45-b70e-fa8d8e45d9b5",
   "metadata": {},
   "outputs": [
    {
     "name": "stdout",
     "output_type": "stream",
     "text": [
      "a =  3 b =  9\n"
     ]
    }
   ],
   "source": [
    "print('a = ', a, 'b = ', b)"
   ]
  },
  {
   "cell_type": "code",
   "execution_count": 49,
   "id": "1bf3fdb5-f306-467e-9fd0-e1430dd55d3a",
   "metadata": {},
   "outputs": [
    {
     "name": "stdout",
     "output_type": "stream",
     "text": [
      "12\n"
     ]
    }
   ],
   "source": [
    "b += a \n",
    "print(b)"
   ]
  },
  {
   "cell_type": "code",
   "execution_count": 48,
   "id": "32646f70-2cba-4d84-aa52-dcaf554c39e2",
   "metadata": {},
   "outputs": [
    {
     "name": "stdout",
     "output_type": "stream",
     "text": [
      "9\n"
     ]
    }
   ],
   "source": [
    "b -= a\n",
    "print(b)"
   ]
  },
  {
   "cell_type": "code",
   "execution_count": 50,
   "id": "94e130b6-c855-43c6-b04d-c0186547f61b",
   "metadata": {},
   "outputs": [
    {
     "name": "stdout",
     "output_type": "stream",
     "text": [
      "4.0\n"
     ]
    }
   ],
   "source": [
    "b /= a\n",
    "print(b)"
   ]
  },
  {
   "cell_type": "code",
   "execution_count": 51,
   "id": "e154cd67-bb01-4e62-ae19-3ef7d55ab221",
   "metadata": {},
   "outputs": [
    {
     "name": "stdout",
     "output_type": "stream",
     "text": [
      "12.0\n"
     ]
    }
   ],
   "source": [
    "b *= a\n",
    "print(b)"
   ]
  },
  {
   "cell_type": "code",
   "execution_count": 53,
   "id": "f34a4f1f-2239-42d0-a500-b0e65943ae4b",
   "metadata": {},
   "outputs": [
    {
     "name": "stdout",
     "output_type": "stream",
     "text": [
      "5159780352.0\n"
     ]
    }
   ],
   "source": [
    "b **= a\n",
    "print(b)"
   ]
  },
  {
   "cell_type": "code",
   "execution_count": 54,
   "id": "85d76268-c48f-4bb0-9f31-106c248de3fd",
   "metadata": {},
   "outputs": [
    {
     "name": "stdout",
     "output_type": "stream",
     "text": [
      "0.0\n"
     ]
    }
   ],
   "source": [
    "b %= a\n",
    "print(b)"
   ]
  },
  {
   "cell_type": "code",
   "execution_count": 55,
   "id": "938aa0a2-0384-4687-a72a-11f8f083dd36",
   "metadata": {},
   "outputs": [
    {
     "name": "stdout",
     "output_type": "stream",
     "text": [
      "0.0\n"
     ]
    }
   ],
   "source": [
    "b //= a\n",
    "print(b)"
   ]
  },
  {
   "cell_type": "markdown",
   "id": "1a9e4814-aaee-4893-9d1b-dd5e52850709",
   "metadata": {},
   "source": [
    "# Bitwise Operators"
   ]
  },
  {
   "cell_type": "code",
   "execution_count": 57,
   "id": "3c703d1b-9acc-41e3-b02d-fcf41f2520cc",
   "metadata": {},
   "outputs": [
    {
     "name": "stdin",
     "output_type": "stream",
     "text": [
      "Enter first number: 10\n",
      "Enter second number: 5\n"
     ]
    }
   ],
   "source": [
    "x = int(input('Enter first number:'))\n",
    "y = int(input('Enter second number:'))"
   ]
  },
  {
   "cell_type": "code",
   "execution_count": 61,
   "id": "05a53f96-ed20-4b07-9661-5100aa1f4b1e",
   "metadata": {},
   "outputs": [
    {
     "name": "stdout",
     "output_type": "stream",
     "text": [
      "0\n"
     ]
    }
   ],
   "source": [
    "# Bitwise AND \n",
    "print(x & y)"
   ]
  },
  {
   "cell_type": "code",
   "execution_count": 62,
   "id": "3847f282-3622-4cf0-ab01-f0b995284930",
   "metadata": {},
   "outputs": [
    {
     "name": "stdout",
     "output_type": "stream",
     "text": [
      "15\n"
     ]
    }
   ],
   "source": [
    "# Bitwise OR\n",
    "print( x | y)"
   ]
  },
  {
   "cell_type": "code",
   "execution_count": 63,
   "id": "ed77922a-a622-4e93-8d4f-9ee9ca7a6490",
   "metadata": {},
   "outputs": [
    {
     "name": "stdout",
     "output_type": "stream",
     "text": [
      "15\n"
     ]
    }
   ],
   "source": [
    "# Bitwise XOR\n",
    "print(x ^ y)"
   ]
  },
  {
   "cell_type": "code",
   "execution_count": 65,
   "id": "a49f469d-6a58-42a3-85ed-b096304b1d09",
   "metadata": {},
   "outputs": [
    {
     "name": "stdout",
     "output_type": "stream",
     "text": [
      "-11\n",
      "-6\n"
     ]
    }
   ],
   "source": [
    "# Bitwise NOT\n",
    "print(~x)\n",
    "print(~y)"
   ]
  },
  {
   "cell_type": "code",
   "execution_count": 66,
   "id": "91ef3ad0-2b6b-4642-877c-3f04912602c8",
   "metadata": {},
   "outputs": [
    {
     "name": "stdout",
     "output_type": "stream",
     "text": [
      "320\n"
     ]
    }
   ],
   "source": [
    "# Bitwise Left Shift\n",
    "print(x << y)"
   ]
  },
  {
   "cell_type": "code",
   "execution_count": 67,
   "id": "f13b60de-d646-46de-9674-01dd462fc734",
   "metadata": {},
   "outputs": [
    {
     "name": "stdout",
     "output_type": "stream",
     "text": [
      "0\n"
     ]
    }
   ],
   "source": [
    "# Bitwise Right Shift\n",
    "print(x >> y)"
   ]
  },
  {
   "cell_type": "markdown",
   "id": "108a1c53-26bf-40d0-bdc8-4a3b766fc642",
   "metadata": {},
   "source": [
    "# Identity Operators"
   ]
  },
  {
   "cell_type": "code",
   "execution_count": 68,
   "id": "38481add-d2cb-430a-8f4c-2d11e1d84211",
   "metadata": {},
   "outputs": [],
   "source": [
    "a = 5\n",
    "b = 6"
   ]
  },
  {
   "cell_type": "code",
   "execution_count": 69,
   "id": "f834b877-be95-4050-b9a0-453b4aaacf1d",
   "metadata": {},
   "outputs": [
    {
     "data": {
      "text/plain": [
       "False"
      ]
     },
     "execution_count": 69,
     "metadata": {},
     "output_type": "execute_result"
    }
   ],
   "source": [
    "# is \n",
    "a is b"
   ]
  },
  {
   "cell_type": "code",
   "execution_count": 71,
   "id": "b9df612a-bf1b-49d4-9378-0446adcba622",
   "metadata": {},
   "outputs": [
    {
     "data": {
      "text/plain": [
       "True"
      ]
     },
     "execution_count": 71,
     "metadata": {},
     "output_type": "execute_result"
    }
   ],
   "source": [
    "# is not\n",
    "a is not b"
   ]
  },
  {
   "cell_type": "markdown",
   "id": "26f7ef21-4840-4b52-aa6b-c57be1c9cba0",
   "metadata": {},
   "source": [
    "# Membership Operators"
   ]
  },
  {
   "cell_type": "code",
   "execution_count": 72,
   "id": "b0d82e0c-6b84-45f3-9cf1-e1d4bb5a62a4",
   "metadata": {},
   "outputs": [],
   "source": [
    "list = ['apple', 'orange', 'banana', 'watermelon']"
   ]
  },
  {
   "cell_type": "code",
   "execution_count": 75,
   "id": "17c16cf4-7f82-45ae-bfac-8971d46e9c37",
   "metadata": {},
   "outputs": [
    {
     "data": {
      "text/plain": [
       "True"
      ]
     },
     "execution_count": 75,
     "metadata": {},
     "output_type": "execute_result"
    }
   ],
   "source": [
    "# in \n",
    "'orange' in list"
   ]
  },
  {
   "cell_type": "code",
   "execution_count": 76,
   "id": "8de706a9-3ada-4f93-b065-7dbdcbc93a2e",
   "metadata": {},
   "outputs": [
    {
     "data": {
      "text/plain": [
       "False"
      ]
     },
     "execution_count": 76,
     "metadata": {},
     "output_type": "execute_result"
    }
   ],
   "source": [
    "# not in\n",
    "'orange' not in list"
   ]
  },
  {
   "cell_type": "code",
   "execution_count": 77,
   "id": "debbebcf-f1a4-4afe-83a8-45d73c9fbaf2",
   "metadata": {},
   "outputs": [
    {
     "data": {
      "text/plain": [
       "False"
      ]
     },
     "execution_count": 77,
     "metadata": {},
     "output_type": "execute_result"
    }
   ],
   "source": [
    "'dragonfruit' in list"
   ]
  },
  {
   "cell_type": "code",
   "execution_count": 78,
   "id": "5a6fb626-122f-4cf3-991e-26d28aeacd20",
   "metadata": {},
   "outputs": [
    {
     "data": {
      "text/plain": [
       "True"
      ]
     },
     "execution_count": 78,
     "metadata": {},
     "output_type": "execute_result"
    }
   ],
   "source": [
    "'cherry' not in list"
   ]
  }
 ],
 "metadata": {
  "kernelspec": {
   "display_name": "Python 3 (ipykernel)",
   "language": "python",
   "name": "python3"
  },
  "language_info": {
   "codemirror_mode": {
    "name": "ipython",
    "version": 3
   },
   "file_extension": ".py",
   "mimetype": "text/x-python",
   "name": "python",
   "nbconvert_exporter": "python",
   "pygments_lexer": "ipython3",
   "version": "3.11.7"
  }
 },
 "nbformat": 4,
 "nbformat_minor": 5
}
