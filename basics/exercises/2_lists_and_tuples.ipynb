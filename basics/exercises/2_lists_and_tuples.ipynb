{
 "cells": [
  {
   "cell_type": "code",
   "execution_count": 12,
   "id": "48b0e0fc-77da-48a3-be17-48796ede23b6",
   "metadata": {},
   "outputs": [
    {
     "name": "stdout",
     "output_type": "stream",
     "text": [
      "[[1, 2], [3, 4], [5]]\n",
      "[1, 2, 3, 4, 5]\n"
     ]
    }
   ],
   "source": [
    "# 1. List Flattening Without Recursion \n",
    "# Write a function to flatten a nested list with a depth of 1 (e.g., [[1, 2], [3, 4], [5]] → [1, 2, 3, 4, 5]), without using recursion or libraries.\n",
    "\n",
    "list1 = [[1, 2], [3, 4], [5]]\n",
    "flattened = []\n",
    "\n",
    "for row in list1:\n",
    "    for item in row:\n",
    "        flattened.append(item)\n",
    "\n",
    "print(list1)\n",
    "print(flattened)"
   ]
  },
  {
   "cell_type": "code",
   "execution_count": 13,
   "id": "0510c79a-e141-4428-a2f7-2a7b577debbd",
   "metadata": {},
   "outputs": [
    {
     "name": "stdout",
     "output_type": "stream",
     "text": [
      "[1, 2, 3, 4, 5, 6, 8, 56, 45, 44, 3, 45, 5, 78]\n",
      "[78, 2, 44, 4, 56, 6, 8, 5, 45, 3, 3, 45, 5, 1]\n"
     ]
    }
   ],
   "source": [
    "# 2. In-place Rearrangement\n",
    "# Rearrange a list so that even numbers appear before odd numbers, in-place (i.e., modify the original list without creating a new one).\n",
    "\n",
    "list2 = [1, 2, 3, 4, 5, 6, 8, 56, 45, 44, 3, 45, 5, 78]\n",
    "print(list2)\n",
    "\n",
    "left = 0\n",
    "right = len(list2) - 1\n",
    "\n",
    "while(left < right):\n",
    "    if list2[left] % 2 == 0:\n",
    "        left += 1\n",
    "    elif list2[right] % 2 != 0:\n",
    "        right -= 1\n",
    "    else:\n",
    "        list2[left], list2[right] = list2[right], list2[left]\n",
    "        left += 1\n",
    "        right -= 1\n",
    "\n",
    "print(list2)"
   ]
  },
  {
   "cell_type": "code",
   "execution_count": null,
   "id": "5d6452fa-52c1-492d-b5e1-76ec794e50c8",
   "metadata": {},
   "outputs": [],
   "source": [
    "# 3. Find All Sublists with a Given Sum\n",
    "# Given a list of integers and a target sum, return all contiguous sublists whose sum equals the target\n",
    "\n",
    "def all_sublists(*nums, target_sum):\n",
    "    sublists = []\n",
    "    for row in nums:\n",
    "        item in row:\n",
    "        if sum(item) == target_sum:\n",
    "            sublists.append(item)\n",
    "        else \n",
    "            \n",
    "\n",
    "            "
   ]
  }
 ],
 "metadata": {
  "kernelspec": {
   "display_name": "Python 3 (ipykernel)",
   "language": "python",
   "name": "python3"
  },
  "language_info": {
   "codemirror_mode": {
    "name": "ipython",
    "version": 3
   },
   "file_extension": ".py",
   "mimetype": "text/x-python",
   "name": "python",
   "nbconvert_exporter": "python",
   "pygments_lexer": "ipython3",
   "version": "3.11.7"
  }
 },
 "nbformat": 4,
 "nbformat_minor": 5
}
