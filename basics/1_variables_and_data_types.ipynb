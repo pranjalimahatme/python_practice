{
 "cells": [
  {
   "cell_type": "code",
   "execution_count": 29,
   "id": "16192598-2dd6-4ba3-ba6b-1e26a44ffcc7",
   "metadata": {},
   "outputs": [
    {
     "name": "stdout",
     "output_type": "stream",
     "text": [
      "Lorelai\n"
     ]
    }
   ],
   "source": [
    "# 1. Create a variable name and assign your name to it. Print it.\n",
    "my_name = \"Lorelai\"\n",
    "print(my_name)"
   ]
  },
  {
   "cell_type": "code",
   "execution_count": 2,
   "id": "1d42bf52-6667-4edd-b260-102c2c2d4d7a",
   "metadata": {},
   "outputs": [
    {
     "name": "stdout",
     "output_type": "stream",
     "text": [
      "21\n"
     ]
    }
   ],
   "source": [
    "# 2. Assign an integer to a variable age. Print age.\n",
    "age = 21\n",
    "print(age)"
   ]
  },
  {
   "cell_type": "code",
   "execution_count": 3,
   "id": "bd7e20e9-f017-4787-bc0c-23588890bd66",
   "metadata": {},
   "outputs": [
    {
     "name": "stdout",
     "output_type": "stream",
     "text": [
      "6.5\n"
     ]
    }
   ],
   "source": [
    "# 3. Assign a float value to a variable height. Print its type using type().\n",
    "height = 6.5\n",
    "print(height)"
   ]
  },
  {
   "cell_type": "code",
   "execution_count": 4,
   "id": "b92bb76a-88ea-459a-8cda-7ceb27cc614f",
   "metadata": {},
   "outputs": [
    {
     "name": "stdout",
     "output_type": "stream",
     "text": [
      "True\n"
     ]
    }
   ],
   "source": [
    "# 4. Assign a boolean (True or False) to a variable is_student. Print it.\n",
    "is_student = True\n",
    "print(is_student)"
   ]
  },
  {
   "cell_type": "code",
   "execution_count": 11,
   "id": "8ce15f74-c9f7-4ba2-bcab-e3078237872c",
   "metadata": {},
   "outputs": [
    {
     "name": "stdout",
     "output_type": "stream",
     "text": [
      "Before swapping:\n",
      "a =   5 and  b =   10\n",
      "After swapping:\n",
      "a =   10 and  b =   5\n"
     ]
    }
   ],
   "source": [
    "# 5. Swap values of two variables a = 5 and b = 10 without using a third variable.\n",
    "a = 5\n",
    "b = 10\n",
    "print('Before swapping:')\n",
    "print('a =  ', a, 'and ', 'b =  ', b)\n",
    "a, b = b, a\n",
    "print('After swapping:')\n",
    "print('a =  ', a, 'and ', 'b =  ', b)"
   ]
  },
  {
   "cell_type": "code",
   "execution_count": 13,
   "id": "a5355fd8-99ba-4863-92b7-6a1622cc51a9",
   "metadata": {},
   "outputs": [
    {
     "name": "stdout",
     "output_type": "stream",
     "text": [
      "x = 1, y = 2, z = 3\n"
     ]
    }
   ],
   "source": [
    "# 6. Assign multiple values in one line: x, y, z = 1, 2, 3. Print them.\n",
    "x, y, z = 1, 2, 3\n",
    "print(f\"x = {x}, y = {y}, z = {z}\") #formatted output"
   ]
  },
  {
   "cell_type": "code",
   "execution_count": 12,
   "id": "91c7904e-77b0-4d80-8640-f936fac8f7ca",
   "metadata": {},
   "outputs": [
    {
     "name": "stdout",
     "output_type": "stream",
     "text": [
      "5\n",
      "6\n"
     ]
    }
   ],
   "source": [
    "# 7. Change the value of a variable and print both the old and new values.  \n",
    "var = 5\n",
    "print(var)\n",
    "var = 6\n",
    "print(var)"
   ]
  },
  {
   "cell_type": "code",
   "execution_count": 28,
   "id": "c05bf8f3-9543-4215-aa7e-311b4d534859",
   "metadata": {},
   "outputs": [
    {
     "name": "stdout",
     "output_type": "stream",
     "text": [
      "real part =   3.0 , complex_part =  4.0\n"
     ]
    }
   ],
   "source": [
    "# 8. Create a variable that stores a complex number (e.g., `3+4j`) and print its real and imaginary parts.  \n",
    "complex_num = 3 + 4j\n",
    "print('real part =  ',complex_num.real , ', complex_part = ', complex_num.imag)"
   ]
  },
  {
   "cell_type": "code",
   "execution_count": 27,
   "id": "75476dab-f442-48c3-bb66-8d87ee6e008f",
   "metadata": {},
   "outputs": [
    {
     "name": "stdin",
     "output_type": "stream",
     "text": [
      "Enter your name: pranjali\n",
      "Enter your age: 21\n"
     ]
    },
    {
     "name": "stdout",
     "output_type": "stream",
     "text": [
      "\n",
      "User name = pranjali,\n",
      "User age = 21\n"
     ]
    }
   ],
   "source": [
    "# 9. Write a program that asks the user’s name and age, then prints them. \n",
    "user_name = input(\"Enter your name:\")\n",
    "user_age = int(input(\"Enter your age:\"))\n",
    "\n",
    "print(f\"\\nUser name = {user_name},\\nUser age = {user_age}\")"
   ]
  },
  {
   "cell_type": "code",
   "execution_count": 20,
   "id": "aa0a51d7-7843-44ca-87dc-3e2e8bf3f3f1",
   "metadata": {},
   "outputs": [
    {
     "name": "stdout",
     "output_type": "stream",
     "text": [
      "type of (42)         = <class 'int'>\n",
      "type of (3.14)       = <class 'float'>\n",
      "type of (\"hello\")    = <class 'str'>\n",
      "type of (True)       = <class 'bool'>\n"
     ]
    }
   ],
   "source": [
    "# 10. Use `type()` to check the type of `42`, `3.14`, `\"hello\"`, and `True`.\n",
    "var1 = 42\n",
    "var2 = 3.14\n",
    "var3 = 'hello'\n",
    "var4 = True\n",
    "\n",
    "print(f'type of (42)         = {type(var1)}')\n",
    "print(f'type of (3.14)       = {type(var2)}')\n",
    "print(f'type of (\"hello\")    = {type(var3)}')\n",
    "print(f'type of (True)       = {type(var4)}')"
   ]
  },
  {
   "cell_type": "code",
   "execution_count": null,
   "id": "309b2910-07da-4d89-a9e8-52ab71ae06ec",
   "metadata": {},
   "outputs": [],
   "source": []
  }
 ],
 "metadata": {
  "kernelspec": {
   "display_name": "Python 3 (ipykernel)",
   "language": "python",
   "name": "python3"
  },
  "language_info": {
   "codemirror_mode": {
    "name": "ipython",
    "version": 3
   },
   "file_extension": ".py",
   "mimetype": "text/x-python",
   "name": "python",
   "nbconvert_exporter": "python",
   "pygments_lexer": "ipython3",
   "version": "3.11.7"
  }
 },
 "nbformat": 4,
 "nbformat_minor": 5
}
