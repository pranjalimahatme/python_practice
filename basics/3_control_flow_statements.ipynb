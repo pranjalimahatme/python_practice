{
 "cells": [
  {
   "cell_type": "markdown",
   "id": "5b8c1da6-022e-4d48-9498-90c606ea3d16",
   "metadata": {},
   "source": [
    "# Control Flow Statements"
   ]
  },
  {
   "cell_type": "markdown",
   "id": "2c7b5797-65e7-4376-9b48-28ba2cf5aa83",
   "metadata": {},
   "source": [
    "## 1. Conditionals (if, elif, else)"
   ]
  },
  {
   "cell_type": "code",
   "execution_count": 1,
   "id": "4273d21c-2a25-4001-ac1e-538402d5127c",
   "metadata": {},
   "outputs": [
    {
     "name": "stdin",
     "output_type": "stream",
     "text": [
      "Enter a number: 5\n"
     ]
    },
    {
     "name": "stdout",
     "output_type": "stream",
     "text": [
      "It is an odd number.\n"
     ]
    }
   ],
   "source": [
    "# 1. Check if a number is even or odd.\n",
    "num = int(input(\"Enter a number:\"))\n",
    "\n",
    "if num % 2 == 0:\n",
    "    print(\"It is an even number.\")\n",
    "else:\n",
    "    print(\"It is an odd number.\")\n",
    "    "
   ]
  },
  {
   "cell_type": "code",
   "execution_count": 2,
   "id": "59bffe5f-bf1f-4ac4-9201-1664cd103ae6",
   "metadata": {},
   "outputs": [
    {
     "name": "stdin",
     "output_type": "stream",
     "text": [
      "Enter a number: 5\n"
     ]
    },
    {
     "name": "stdout",
     "output_type": "stream",
     "text": [
      "It is a positive number.\n"
     ]
    }
   ],
   "source": [
    "# 2. Determine if a number is positive, negative, or zero.\n",
    "num = int(input('Enter a number:'))\n",
    "\n",
    "if num > 0:\n",
    "    print(\"It is a positive number.\")\n",
    "elif num < 0:\n",
    "    print('It is a negative number.')\n",
    "else:\n",
    "    print('The number is 0.')\n",
    "    "
   ]
  },
  {
   "cell_type": "code",
   "execution_count": 3,
   "id": "de60bcc2-34f0-4389-825d-98437f039897",
   "metadata": {},
   "outputs": [
    {
     "name": "stdin",
     "output_type": "stream",
     "text": [
      "Enter a color (red/yellow/green): green\n"
     ]
    },
    {
     "name": "stdout",
     "output_type": "stream",
     "text": [
      "Go.\n"
     ]
    }
   ],
   "source": [
    "# 3. Simulate a traffic light (red → Stop, yellow → Get Ready, green → Go).\n",
    "light = input('Enter a color (red/yellow/green):')\n",
    "\n",
    "if light == 'red':\n",
    "    print(\"Stop.\")\n",
    "elif light == 'yellow':\n",
    "    print(\"Get Ready.\")\n",
    "else:\n",
    "    print(\"Go.\")"
   ]
  },
  {
   "cell_type": "code",
   "execution_count": 5,
   "id": "0f174e11-877d-4deb-8050-0e1726ba452f",
   "metadata": {},
   "outputs": [
    {
     "name": "stdin",
     "output_type": "stream",
     "text": [
      "Enter a number: \t 5\n"
     ]
    }
   ],
   "source": [
    "# 4. if statement\n",
    "number = int(input(\"Enter a number: \\t\"))\n",
    "\n",
    "if number % 2 == 0:\n",
    "    print(number)"
   ]
  },
  {
   "cell_type": "markdown",
   "id": "208e4be8-82d7-45c1-a48e-252b5a4d3eac",
   "metadata": {
    "jp-MarkdownHeadingCollapsed": true
   },
   "source": [
    "## 2. Loops (for, while)"
   ]
  },
  {
   "cell_type": "markdown",
   "id": "cf151775-a616-4b8d-bbbe-52c600cc770a",
   "metadata": {},
   "source": [
    "### for loop"
   ]
  },
  {
   "cell_type": "code",
   "execution_count": 5,
   "id": "27e47981-0178-4621-abc3-1f06bd6b186b",
   "metadata": {},
   "outputs": [
    {
     "name": "stdout",
     "output_type": "stream",
     "text": [
      "1\n",
      "2\n",
      "3\n",
      "4\n",
      "5\n",
      "6\n",
      "7\n",
      "8\n",
      "9\n",
      "10\n"
     ]
    }
   ],
   "source": [
    "# 1. Print numbers from 1 to 10 using a for loop.\n",
    "\n",
    "i = 1 \n",
    "for i in range(1, 11):\n",
    "    print(i)"
   ]
  },
  {
   "cell_type": "code",
   "execution_count": 7,
   "id": "b30cdb70-fae9-41df-a3d8-18eb7afefde8",
   "metadata": {},
   "outputs": [
    {
     "name": "stdin",
     "output_type": "stream",
     "text": [
      "Enter a number 5\n"
     ]
    },
    {
     "name": "stdout",
     "output_type": "stream",
     "text": [
      "num * 1 = 5\n",
      "num * 2 = 10\n",
      "num * 3 = 15\n",
      "num * 4 = 20\n",
      "num * 5 = 25\n",
      "num * 6 = 30\n",
      "num * 7 = 35\n",
      "num * 8 = 40\n",
      "num * 9 = 45\n",
      "num * 10 = 50\n"
     ]
    }
   ],
   "source": [
    "# 2. Print the multiplication table of a number entered by the user.\n",
    "num = int(input(\"Enter a number\"))\n",
    "i = 1\n",
    "for i in range (1, 11):\n",
    "    print(f\"num * {i} = {num*i}\")"
   ]
  },
  {
   "cell_type": "markdown",
   "id": "a69378e2-07d7-4d27-93b5-0003f2eb83fc",
   "metadata": {},
   "source": [
    "### while loop"
   ]
  },
  {
   "cell_type": "code",
   "execution_count": 2,
   "id": "f45c0bf3-7b13-4760-9396-b3846d2a0371",
   "metadata": {},
   "outputs": [
    {
     "name": "stdout",
     "output_type": "stream",
     "text": [
      "1\n",
      "2\n",
      "3\n",
      "4\n",
      "5\n",
      "6\n",
      "7\n",
      "8\n",
      "9\n",
      "10\n"
     ]
    }
   ],
   "source": [
    "# 1. Print numbers from 1 to 10 using a while loop.\n",
    "i = 1 \n",
    "while i <= 10:\n",
    "    print(i)\n",
    "    i += 1"
   ]
  },
  {
   "cell_type": "code",
   "execution_count": 2,
   "id": "7c3e05b3-20d9-4203-a15d-cca48e876e16",
   "metadata": {},
   "outputs": [
    {
     "name": "stdin",
     "output_type": "stream",
     "text": [
      "Enter a number:  5\n"
     ]
    },
    {
     "name": "stdout",
     "output_type": "stream",
     "text": [
      "15\n"
     ]
    }
   ],
   "source": [
    "# 2. Find the sum of all numbers from 1 to n using a while loop.\n",
    "n = int(input(\"Enter a number: \"))\n",
    "i = 1\n",
    "sum = 0\n",
    "while i<= n:\n",
    "    sum += i\n",
    "    i += 1\n",
    "    \n",
    "print(sum)\n"
   ]
  },
  {
   "cell_type": "markdown",
   "id": "84ffc8f3-621e-4a4a-af4b-a0803ea7b9fd",
   "metadata": {},
   "source": [
    "## 3. Loop Control Statements"
   ]
  },
  {
   "cell_type": "markdown",
   "id": "7bc42f43-f0ab-4f00-b82f-dc13d33f1206",
   "metadata": {
    "jp-MarkdownHeadingCollapsed": true
   },
   "source": [
    "### break"
   ]
  },
  {
   "cell_type": "code",
   "execution_count": 6,
   "id": "0c64beb4-a309-4ede-9d19-98df15c323d7",
   "metadata": {},
   "outputs": [
    {
     "name": "stdout",
     "output_type": "stream",
     "text": [
      "1\n",
      "2\n",
      "3\n",
      "4\n",
      "5\n",
      "6\n",
      "7\n",
      "8\n",
      "9\n",
      "10\n",
      "11\n",
      "12\n",
      "13\n",
      "14\n",
      "15\n",
      "16\n",
      "17\n",
      "18\n",
      "19\n",
      "20\n",
      "21\n",
      "22\n",
      "23\n",
      "24\n",
      "25\n",
      "26\n",
      "27\n",
      "28\n",
      "29\n",
      "30\n",
      "31\n",
      "32\n",
      "33\n",
      "34\n",
      "35\n",
      "36\n",
      "37\n",
      "38\n",
      "39\n",
      "40\n",
      "41\n",
      "42\n",
      "43\n",
      "44\n",
      "45\n",
      "46\n",
      "47\n",
      "48\n",
      "49\n"
     ]
    }
   ],
   "source": [
    "# 1. Write a program that prints numbers from 1 to 100, but stops when it reaches 50.\n",
    "i = 1 \n",
    "while i <= 100 : \n",
    "    if i != 50 : \n",
    "        print(i)\n",
    "    else:\n",
    "        break      \n",
    "    i += 1"
   ]
  },
  {
   "cell_type": "code",
   "execution_count": 5,
   "id": "99a57f52-b762-4155-a4be-90c0d95c9ce2",
   "metadata": {},
   "outputs": [
    {
     "name": "stdin",
     "output_type": "stream",
     "text": [
      "Enter password: s\n",
      "Enter password: r\n",
      "Enter password: buiv\n",
      "Enter password: abc\n"
     ]
    },
    {
     "name": "stdout",
     "output_type": "stream",
     "text": [
      "Password is correct.\n"
     ]
    }
   ],
   "source": [
    "# 2. Ask the user for a password in a loop, and break the loop if they enter the correct password \"python123\".\n",
    "\n",
    "password = input(\"Enter password:\")\n",
    "\n",
    "while True:\n",
    "    if password != 'abc':\n",
    "        password = input(\"Enter password:\")\n",
    "    else:\n",
    "        print(\"Password is correct.\")\n",
    "        break"
   ]
  },
  {
   "cell_type": "markdown",
   "id": "83a19c71-7a37-44de-aa36-7927f18c57f3",
   "metadata": {},
   "source": [
    "### Continue "
   ]
  },
  {
   "cell_type": "code",
   "execution_count": 7,
   "id": "56057439-7f4a-4e09-a464-46d43a80792c",
   "metadata": {},
   "outputs": [
    {
     "name": "stdout",
     "output_type": "stream",
     "text": [
      "1\n",
      "3\n",
      "5\n",
      "7\n",
      "9\n",
      "11\n",
      "13\n",
      "15\n",
      "17\n",
      "19\n"
     ]
    }
   ],
   "source": [
    "# 1. Print numbers from 1 to 20, but skip all even numbers.\n",
    "\n",
    "for i in range (1, 21):\n",
    "    if i % 2 != 0: \n",
    "        print(i)\n",
    "    else:\n",
    "        continue"
   ]
  },
  {
   "cell_type": "code",
   "execution_count": 10,
   "id": "02430e91-ea34-47c3-b414-ddb5ed45ae1d",
   "metadata": {},
   "outputs": [
    {
     "name": "stdin",
     "output_type": "stream",
     "text": [
      "Enter a number: 5\n",
      "Enter a number: -3\n",
      "Enter a number: 0\n",
      "Enter a number: 4\n",
      "Enter a number: 2\n"
     ]
    },
    {
     "name": "stdout",
     "output_type": "stream",
     "text": [
      "[5, -3, 0, 4, 2]\n",
      "5\n",
      "4\n",
      "2\n"
     ]
    }
   ],
   "source": [
    "# 2. Ask the user for 5 numbers and print only the positive ones (skip negatives using continue).\n",
    "numbers = []\n",
    "i = 5\n",
    "while i >= 1:\n",
    "    num = int(input(\"Enter a number:\"))\n",
    "    numbers.append(num)\n",
    "    i -= 1\n",
    "\n",
    "print(numbers)\n",
    "\n",
    "for num in numbers:\n",
    "    if num > 0:\n",
    "        print(num)\n",
    "    else :\n",
    "        continue"
   ]
  },
  {
   "cell_type": "markdown",
   "id": "d4d6b749-8b29-4bd6-ba1b-996f4b74668e",
   "metadata": {},
   "source": [
    "### pass"
   ]
  },
  {
   "cell_type": "code",
   "execution_count": 11,
   "id": "9d0ba7c9-1edf-47ce-ba4c-c158ece09abf",
   "metadata": {},
   "outputs": [
    {
     "name": "stdout",
     "output_type": "stream",
     "text": [
      "1\n",
      "2\n",
      "3\n",
      "4\n",
      "6\n",
      "7\n",
      "8\n",
      "9\n",
      "10\n"
     ]
    }
   ],
   "source": [
    "# 1. Write a loop from 1 to 10. If the number is 5, use pass (do nothing) and continue the loop.\n",
    "for i in range(1, 11):\n",
    "    if i == 5:\n",
    "        pass\n",
    "    else :\n",
    "        print(i)"
   ]
  },
  {
   "cell_type": "code",
   "execution_count": 13,
   "id": "55792fe3-9884-4655-9acc-4ca3aaef831b",
   "metadata": {},
   "outputs": [],
   "source": [
    "# 2. Create a placeholder function def todo(): that does nothing for now (use pass).\n",
    "\n",
    "def todo():\n",
    "    \"\"\"This function will be implemented later.\"\"\"\n",
    "    pass"
   ]
  },
  {
   "cell_type": "markdown",
   "id": "60d7ca5a-cade-41c5-b6cd-3431ebea939d",
   "metadata": {},
   "source": [
    "## 4. Nested Loops"
   ]
  },
  {
   "cell_type": "code",
   "execution_count": 15,
   "id": "dcd9c8ea-fed8-432b-8bf1-8e43d4b87583",
   "metadata": {},
   "outputs": [
    {
     "name": "stdout",
     "output_type": "stream",
     "text": [
      " (i , j) = (1, 1)\n",
      " (i , j) = (1, 2)\n",
      " (i , j) = (2, 1)\n",
      " (i , j) = (2, 2)\n",
      " (i , j) = (3, 1)\n",
      " (i , j) = (3, 2)\n"
     ]
    }
   ],
   "source": [
    "# 1. Write a program that prints all pairs (i, j) where i goes from 1 to 3 and j goes from 1 to 2.\n",
    "for i in range (1, 4):\n",
    "    for j in range (1, 3):\n",
    "        print(f\" (i , j) = {i , j}\")"
   ]
  },
  {
   "cell_type": "code",
   "execution_count": 31,
   "id": "b2d7bc36-71b4-4e3b-b4a4-3e0f12ffdd6b",
   "metadata": {},
   "outputs": [
    {
     "name": "stdout",
     "output_type": "stream",
     "text": [
      "******\n",
      "******\n",
      "******\n",
      "******\n",
      "******\n",
      "******\n"
     ]
    }
   ],
   "source": [
    "# 2. Print a square pattern of * with size 5x5 .\n",
    "\n",
    "for i in range(6):\n",
    "    for j in range (6):\n",
    "        print(\"*\", end=\"\") \n",
    "        \n",
    "    print()\n"
   ]
  }
 ],
 "metadata": {
  "kernelspec": {
   "display_name": "Python 3 (ipykernel)",
   "language": "python",
   "name": "python3"
  },
  "language_info": {
   "codemirror_mode": {
    "name": "ipython",
    "version": 3
   },
   "file_extension": ".py",
   "mimetype": "text/x-python",
   "name": "python",
   "nbconvert_exporter": "python",
   "pygments_lexer": "ipython3",
   "version": "3.11.7"
  }
 },
 "nbformat": 4,
 "nbformat_minor": 5
}
