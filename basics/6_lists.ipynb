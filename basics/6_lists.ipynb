{
 "cells": [
  {
   "cell_type": "markdown",
   "id": "a32a39ae-121c-4bb5-9ea0-2e84e841345e",
   "metadata": {},
   "source": [
    "# Lists"
   ]
  },
  {
   "cell_type": "markdown",
   "id": "1076359e-d5aa-4e51-90cc-0c414c977209",
   "metadata": {},
   "source": [
    "## 1. Creation & Access"
   ]
  },
  {
   "cell_type": "code",
   "execution_count": 4,
   "id": "6111bb7a-e9bb-4a6d-8489-d5258668bff2",
   "metadata": {},
   "outputs": [
    {
     "name": "stdout",
     "output_type": "stream",
     "text": [
      "The fruit at second index is : Apple.\n",
      "The fruit at second index is : Pomegranate.\n"
     ]
    }
   ],
   "source": [
    "# 1. Create a list of 5 favorite fruits and print the second and last fruit.\n",
    "fruits = ['Banana', 'Apple', 'Orange', 'Jackfruit', 'Pomegranate']\n",
    "\n",
    "print(f\"The fruit at second index is : {fruits[1]}.\")\n",
    "print(f\"The fruit at second index is : {fruits[-1]}.\")"
   ]
  },
  {
   "cell_type": "code",
   "execution_count": 20,
   "id": "9c934528-0d4a-490f-9fb5-b3e4a6c4bde3",
   "metadata": {},
   "outputs": [
    {
     "name": "stdout",
     "output_type": "stream",
     "text": [
      "2\n",
      "4\n",
      "6\n",
      "8\n",
      "10\n"
     ]
    }
   ],
   "source": [
    "# 2. Create a list of numbers from 1 to 10. Access and print elements at even indices.\n",
    "numbers = []\n",
    "for i in range(1, 11):\n",
    "    numbers.append(i)\n",
    "\n",
    "for i in range(1, len(numbers), 2):\n",
    "        print(numbers[i])\n",
    "    "
   ]
  },
  {
   "cell_type": "markdown",
   "id": "685d8504-aa82-4115-aad5-ceb991b300f2",
   "metadata": {},
   "source": [
    "## 2. Modification"
   ]
  },
  {
   "cell_type": "code",
   "execution_count": 20,
   "id": "3cf05555-6490-480e-a200-110c7cf49df7",
   "metadata": {},
   "outputs": [
    {
     "name": "stdout",
     "output_type": "stream",
     "text": [
      "[10, 20, 30, 40]\n",
      "[10, 25, 30, 40]\n"
     ]
    }
   ],
   "source": [
    "# 1. Create a list [10, 20, 30, 40] and change the second element to 25.\n",
    "l = [10, 20, 30, 40]\n",
    "print(l)\n",
    "\n",
    "l[1] = 25\n",
    "print(l)"
   ]
  },
  {
   "cell_type": "code",
   "execution_count": 21,
   "id": "00a5afd8-dd87-460e-98ee-3ff3b94bf446",
   "metadata": {},
   "outputs": [
    {
     "name": "stdout",
     "output_type": "stream",
     "text": [
      "[10, 25, 30, 40, 50]\n",
      "[5, 10, 25, 30, 40, 50]\n"
     ]
    }
   ],
   "source": [
    "# 2. Append 50 to the list and insert 5 at the beginning.\n",
    "l.append(50)\n",
    "print(l)\n",
    "\n",
    "l.insert(0, 5)\n",
    "print(l)"
   ]
  },
  {
   "cell_type": "code",
   "execution_count": 22,
   "id": "105b39e2-ac27-40a1-a7da-42d0d295ab78",
   "metadata": {},
   "outputs": [
    {
     "name": "stdout",
     "output_type": "stream",
     "text": [
      "[5, 10, 25, 30, 40, 50, 30]\n"
     ]
    }
   ],
   "source": [
    "l.append(30)\n",
    "print(l)"
   ]
  },
  {
   "cell_type": "markdown",
   "id": "ca598d71-6633-408f-91eb-16f659a4ffe3",
   "metadata": {},
   "source": [
    "## 3. Deletion"
   ]
  },
  {
   "cell_type": "code",
   "execution_count": 23,
   "id": "db522677-394f-4907-ad32-f9504a95cb59",
   "metadata": {},
   "outputs": [
    {
     "name": "stdout",
     "output_type": "stream",
     "text": [
      "[5, 10, 25, 40, 50, 30]\n"
     ]
    }
   ],
   "source": [
    "# 3. Remove 30 from the list using remove().\n",
    "l.remove(30)\n",
    "print(l)\n",
    "\n",
    "# remove deletes only first occurrence"
   ]
  },
  {
   "cell_type": "code",
   "execution_count": 24,
   "id": "7e538cc2-1921-490c-855b-72706a253948",
   "metadata": {},
   "outputs": [
    {
     "name": "stdout",
     "output_type": "stream",
     "text": [
      "[5, 10, 25, 40, 50]\n"
     ]
    }
   ],
   "source": [
    "# 4. Pop the last element and print it.\n",
    "l.pop(-1)\n",
    "print(l)"
   ]
  },
  {
   "cell_type": "markdown",
   "id": "400cef04-e838-4802-bac7-1ec669c266fa",
   "metadata": {},
   "source": [
    "## 4. List Operations"
   ]
  },
  {
   "cell_type": "code",
   "execution_count": 3,
   "id": "d28fdd0f-f0fb-4592-8989-bf0ce98dabf7",
   "metadata": {},
   "outputs": [
    {
     "name": "stdout",
     "output_type": "stream",
     "text": [
      "[1, 2, 3, 4, 5, 6]\n"
     ]
    }
   ],
   "source": [
    "# 1. Concatenate [1, 2, 3] and [4, 5, 6].\n",
    "list1 = [1, 2, 3]\n",
    "list2 = [4, 5, 6]\n",
    "\n",
    "print(list1 + (list2))"
   ]
  },
  {
   "cell_type": "code",
   "execution_count": 4,
   "id": "7d1a3d64-8b65-4f5e-a158-d9ac09dcc556",
   "metadata": {},
   "outputs": [
    {
     "name": "stdout",
     "output_type": "stream",
     "text": [
      "['a', 'b', 'a', 'b', 'a', 'b']\n"
     ]
    }
   ],
   "source": [
    "# 2. Repeat the list [‘a’, ‘b’] three times.\n",
    "my_list = ['a', 'b']\n",
    "print(my_list * 3)"
   ]
  },
  {
   "cell_type": "markdown",
   "id": "9b112e47-8329-4b61-9839-2f3fa4372fc6",
   "metadata": {},
   "source": [
    "## 5. Slicing"
   ]
  },
  {
   "cell_type": "code",
   "execution_count": 26,
   "id": "537386f9-2529-4149-8497-1823d737e583",
   "metadata": {},
   "outputs": [
    {
     "name": "stdout",
     "output_type": "stream",
     "text": [
      "[3, 4, 5]\n"
     ]
    }
   ],
   "source": [
    "# 1. From [1, 2, 3, 4, 5, 6, 7], print the sublist [3, 4, 5] using slicing.\n",
    "list1 = [1, 2, 3, 4, 5, 6, 7]\n",
    "print(list1[2:5])"
   ]
  },
  {
   "cell_type": "code",
   "execution_count": 50,
   "id": "314ee7a1-d629-46fb-b0fe-5b430b30fa19",
   "metadata": {},
   "outputs": [
    {
     "name": "stdout",
     "output_type": "stream",
     "text": [
      "Reversed list: [7, 6, 5, 4, 3, 2, 1]\n"
     ]
    }
   ],
   "source": [
    "# 2. Reverse a list using slicing.\n",
    "list2 = list1[::-1]\n",
    "print(\"Reversed list:\", list2)"
   ]
  },
  {
   "cell_type": "markdown",
   "id": "905a872f-f876-4a96-a6e2-39a78c0b0f34",
   "metadata": {},
   "source": [
    "## 6. Searching & Counting"
   ]
  },
  {
   "cell_type": "code",
   "execution_count": 41,
   "id": "c7014581-75fe-4097-8722-4e3b1abe5524",
   "metadata": {},
   "outputs": [
    {
     "name": "stdout",
     "output_type": "stream",
     "text": [
      "True\n"
     ]
    }
   ],
   "source": [
    "# 1. Create a list of colors and check if \"blue\" is in it.\n",
    "colors = ['blue', 'green', 'orange', 'pink']\n",
    "\n",
    "print('blue' in colors)"
   ]
  },
  {
   "cell_type": "code",
   "execution_count": 42,
   "id": "a7b193b0-8c09-44fa-9981-fafab7ede7ca",
   "metadata": {},
   "outputs": [
    {
     "data": {
      "text/plain": [
       "3"
      ]
     },
     "execution_count": 42,
     "metadata": {},
     "output_type": "execute_result"
    }
   ],
   "source": [
    "# 2. Count how many times 10 appears in [10, 20, 10, 30, 10].\n",
    "numbers = [10, 20, 10, 30, 10]\n",
    "numbers.count(10)"
   ]
  },
  {
   "cell_type": "markdown",
   "id": "8d5be6b1-57c6-4c09-9e13-664d69524d94",
   "metadata": {},
   "source": [
    "## 7. Sorting"
   ]
  },
  {
   "cell_type": "code",
   "execution_count": 49,
   "id": "3fa9ace3-5ad9-40b3-acd2-00015a311911",
   "metadata": {},
   "outputs": [
    {
     "name": "stdout",
     "output_type": "stream",
     "text": [
      "[1, 1, 3, 4, 5, 9]\n",
      "[9, 5, 4, 3, 1, 1]\n",
      "Ascending (sort): [1, 1, 3, 4, 5, 9]\n",
      "Descending (sort): [9, 5, 4, 3, 1, 1]\n"
     ]
    }
   ],
   "source": [
    "# 1. Sort [3, 1, 4, 1, 5, 9] in ascending and descending order.\n",
    "my_list = [3, 1, 4, 1, 5, 9]\n",
    "\n",
    "#using sorted() : original list remain unchanged\n",
    "sorted_list = sorted(my_list)\n",
    "print(sorted_list)\n",
    "\n",
    "sorted_list_desc = sorted(my_list, reverse=True)\n",
    "print(sorted_list_desc)\n",
    "\n",
    "# Using sort() → changes the list in place\n",
    "my_list.sort()  \n",
    "print(\"Ascending (sort):\", my_list)\n",
    "\n",
    "my_list.sort(reverse=True)\n",
    "print(\"Descending (sort):\", my_list)\n"
   ]
  },
  {
   "cell_type": "code",
   "execution_count": 48,
   "id": "84ef5ffe-0a31-4f0e-bebf-beb9012bfa05",
   "metadata": {},
   "outputs": [
    {
     "name": "stdout",
     "output_type": "stream",
     "text": [
      "['a', 'a', 'e', 'r', 't', 'x']\n"
     ]
    }
   ],
   "source": [
    "# 2. Sort a list of strings alphabetically.\n",
    "alphabets = ['a', 'x', 'r', 't', 'e', 'a']\n",
    "\n",
    "print(sorted(alphabets))"
   ]
  },
  {
   "cell_type": "markdown",
   "id": "6462d207-a379-4df7-b581-9dd1c3cca4a7",
   "metadata": {},
   "source": [
    "## 8. Copying & Clearing"
   ]
  },
  {
   "cell_type": "code",
   "execution_count": 54,
   "id": "d460fda9-8422-43c3-88bb-a21726414fe8",
   "metadata": {},
   "outputs": [
    {
     "name": "stdout",
     "output_type": "stream",
     "text": [
      "Copied list: [10, 20, 30, 40]\n",
      "Original list after clear(): []\n",
      "Copied list remains unchanged: [10, 20, 30, 40]\n"
     ]
    }
   ],
   "source": [
    "# 1. Copy a list using copy() and clear the original list.\n",
    "my_list = [10, 20, 30, 40]\n",
    "\n",
    "# Copy the list\n",
    "copied_list = my_list.copy()\n",
    "print(\"Copied list:\", copied_list)\n",
    "\n",
    "# Clear the original list\n",
    "my_list.clear()\n",
    "print(\"Original list after clear():\", my_list)\n",
    "print(\"Copied list remains unchanged:\", copied_list)\n"
   ]
  },
  {
   "cell_type": "markdown",
   "id": "2c244e58-4208-4250-9045-fa238d2d73fa",
   "metadata": {},
   "source": [
    "# 9. Nested Lists"
   ]
  },
  {
   "cell_type": "code",
   "execution_count": 55,
   "id": "5ae90597-686a-4fe1-8b55-5aa3aff0b3a0",
   "metadata": {},
   "outputs": [
    {
     "name": "stdout",
     "output_type": "stream",
     "text": [
      "6\n"
     ]
    }
   ],
   "source": [
    "# 1. Create a 2D list [[1,2,3],[4,5,6],[7,8,9]] and access element 6.\n",
    "# Create a 2D list\n",
    "matrix = [[1, 2, 3],\n",
    "          [4, 5, 6],\n",
    "          [7, 8, 9]]\n",
    "\n",
    "# Access element 6 → row 1, column 2\n",
    "print(matrix[1][2])  "
   ]
  },
  {
   "cell_type": "code",
   "execution_count": 60,
   "id": "7d747bf7-4d23-4e80-a56f-fb7529219106",
   "metadata": {},
   "outputs": [
    {
     "name": "stdout",
     "output_type": "stream",
     "text": [
      "[[1, 2, 3], [4, 5, 6], [7, 8, 9]]\n"
     ]
    }
   ],
   "source": [
    "print(matrix)"
   ]
  },
  {
   "cell_type": "code",
   "execution_count": 56,
   "id": "3d09e375-54d5-4120-86bd-cfaeaa0b42e2",
   "metadata": {},
   "outputs": [
    {
     "name": "stdout",
     "output_type": "stream",
     "text": [
      "[7, 8, 9]\n"
     ]
    }
   ],
   "source": [
    "print(matrix[2])"
   ]
  },
  {
   "cell_type": "code",
   "execution_count": 57,
   "id": "5c5b9ea4-9ce3-490d-baf1-d7d7eaf7dabc",
   "metadata": {},
   "outputs": [
    {
     "name": "stdout",
     "output_type": "stream",
     "text": [
      "9\n"
     ]
    }
   ],
   "source": [
    "print(matrix[-1][-1])   "
   ]
  },
  {
   "cell_type": "code",
   "execution_count": 58,
   "id": "9ec57785-f367-44ca-b2f1-d0a40fd768d0",
   "metadata": {},
   "outputs": [
    {
     "name": "stdout",
     "output_type": "stream",
     "text": [
      "[1, 2, 3, 4, 5, 6, 7, 8, 9]\n"
     ]
    }
   ],
   "source": [
    "# Flatten the matrix into a single list [1,2,3,4,5,6,7,8,9].\n",
    "flattened_list = []\n",
    "for row in matrix:\n",
    "    for element in row:\n",
    "        flattened_list.append(element)\n",
    "\n",
    "print(flattened_list)"
   ]
  },
  {
   "cell_type": "code",
   "execution_count": 59,
   "id": "6db6c659-932c-46ed-b08e-0e59d074020c",
   "metadata": {},
   "outputs": [
    {
     "name": "stdout",
     "output_type": "stream",
     "text": [
      "[1, 2, 3, 4, 5, 6, 7, 8, 9]\n"
     ]
    }
   ],
   "source": [
    "# another way to flatten using list comprehension\n",
    "flattened = [item for row in matrix for item in row]\n",
    "print(flattened)"
   ]
  },
  {
   "cell_type": "markdown",
   "id": "b2b64a73-f29d-49a6-845f-c718ea59d1bf",
   "metadata": {},
   "source": [
    "## 10. List Comprehension"
   ]
  },
  {
   "cell_type": "raw",
   "id": "1f0d2c69-2227-4411-8826-b342978d8c7f",
   "metadata": {},
   "source": [
    "new_list = [expression for item in iterable if condition]"
   ]
  },
  {
   "cell_type": "code",
   "execution_count": 51,
   "id": "ebebf8e6-61bc-4a65-b9be-89b923d9bd13",
   "metadata": {},
   "outputs": [
    {
     "name": "stdout",
     "output_type": "stream",
     "text": [
      "[5, 10, 25, 40, 50]\n"
     ]
    }
   ],
   "source": [
    "# 1. Create a list of squares of numbers from 1 to 10 using list comprehension.\n",
    "my_list = []\n",
    "for i in range(11):\n",
    "    my_list.append(i)\n",
    "    \n",
    "print(l)\n",
    "\n",
    "squares = [x * x for x in my_list]"
   ]
  },
  {
   "cell_type": "code",
   "execution_count": 53,
   "id": "1bf9c049-0d2d-4e15-8da9-69c47f327ce2",
   "metadata": {},
   "outputs": [
    {
     "name": "stdout",
     "output_type": "stream",
     "text": [
      "[1, 2, 3, 4, 5, 6]\n",
      "[2, 4, 6]\n"
     ]
    }
   ],
   "source": [
    "# 2. From [1,2,3,4,5,6], generate a list of only even numbers using list comprehension. \n",
    "original_list = [1,2,3,4,5,6]\n",
    "print(original_list)\n",
    "\n",
    "new_list = [num for num in original_list if num % 2 == 0]\n",
    "print(new_list)"
   ]
  }
 ],
 "metadata": {
  "kernelspec": {
   "display_name": "Python 3 (ipykernel)",
   "language": "python",
   "name": "python3"
  },
  "language_info": {
   "codemirror_mode": {
    "name": "ipython",
    "version": 3
   },
   "file_extension": ".py",
   "mimetype": "text/x-python",
   "name": "python",
   "nbconvert_exporter": "python",
   "pygments_lexer": "ipython3",
   "version": "3.11.7"
  }
 },
 "nbformat": 4,
 "nbformat_minor": 5
}
