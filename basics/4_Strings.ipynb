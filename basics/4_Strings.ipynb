{
 "cells": [
  {
   "cell_type": "markdown",
   "id": "e6794467-a6a1-42d8-9fd8-925725b09183",
   "metadata": {},
   "source": [
    "# Strings"
   ]
  },
  {
   "cell_type": "code",
   "execution_count": 19,
   "id": "06f20e29-3a1f-45f9-8433-e22a965f8496",
   "metadata": {},
   "outputs": [
    {
     "name": "stdout",
     "output_type": "stream",
     "text": [
      "my_name\n",
      "name\n",
      "\n",
      "This is a  \n",
      "multiline String. \n"
     ]
    }
   ],
   "source": [
    "# 1. Creating strings -  Create a string and print it.\n",
    "name = 'my_name'\n",
    "print(name)\n",
    "\n",
    "name = \"name\"\n",
    "print(name)\n",
    "\n",
    "#multiline string\n",
    "address = \"\"\"\\nThis is a  \n",
    "multiline String. \"\"\"\n",
    "print(address)"
   ]
  },
  {
   "cell_type": "code",
   "execution_count": 18,
   "id": "b9f96751-cbf7-40ba-ac63-3e7c1099bd31",
   "metadata": {},
   "outputs": [
    {
     "name": "stdout",
     "output_type": "stream",
     "text": [
      "Pro\n",
      "ing\n"
     ]
    }
   ],
   "source": [
    "# 2. Indexing & Slicing - From \"Programming\", print \"Pro\" and \"ing\" using slicing.\n",
    "my_string = \"Programming\"\n",
    "\n",
    "print(my_string[0:3])\n",
    "print(my_string[8:11])"
   ]
  },
  {
   "cell_type": "code",
   "execution_count": 22,
   "id": "20e2116b-3264-4101-a25c-ae579d1e8ee1",
   "metadata": {},
   "outputs": [
    {
     "name": "stdout",
     "output_type": "stream",
     "text": [
      "p\n",
      "t\n",
      "n\n"
     ]
    }
   ],
   "source": [
    "# 3. Indexing & Slicing - From \"Python\", print the first, third, and last character.\n",
    "language = \"python\"\n",
    "\n",
    "print(language[0]) #prints first character\n",
    "print(language[2]) #prints third character\n",
    "print(language[-1]) #prints last character or language[5]\n"
   ]
  },
  {
   "cell_type": "code",
   "execution_count": 37,
   "id": "7a25a1f2-2b7b-4526-a739-8ec30b6e385b",
   "metadata": {},
   "outputs": [
    {
     "name": "stdout",
     "output_type": "stream",
     "text": [
      "pto\n"
     ]
    }
   ],
   "source": [
    "# 4. Indexing & Slicing - From \"Python\", print every letter whose index is even\n",
    "print(language[::2]) #(string_name[start:end:step])"
   ]
  },
  {
   "cell_type": "code",
   "execution_count": 88,
   "id": "1a4c42b9-d47d-4193-81d3-1f497b87a845",
   "metadata": {},
   "outputs": [
    {
     "name": "stdin",
     "output_type": "stream",
     "text": [
      "Enter your name: xyzzz\n"
     ]
    },
    {
     "name": "stdout",
     "output_type": "stream",
     "text": [
      "5\n"
     ]
    }
   ],
   "source": [
    "# 5. String Length - Write a program that asks for a name and prints its length.\n",
    "name = input(\"Enter your name:\")\n",
    "print(len(name))  #len() is a built-in function, not a string function"
   ]
  },
  {
   "cell_type": "markdown",
   "id": "ad6d48f8-f096-4a43-b3ec-423700a8332a",
   "metadata": {},
   "source": [
    "## String methods "
   ]
  },
  {
   "cell_type": "markdown",
   "id": "8277fb1e-ef79-4a7f-b487-2940cb9609cc",
   "metadata": {
    "jp-MarkdownHeadingCollapsed": true
   },
   "source": [
    "### Changing Case"
   ]
  },
  {
   "cell_type": "code",
   "execution_count": 60,
   "id": "edfe1b13-67c8-42c0-bd95-35f182464c95",
   "metadata": {},
   "outputs": [
    {
     "name": "stdout",
     "output_type": "stream",
     "text": [
      "Lowercase  \t= \twelcome to python\n",
      "\n",
      "Uppercase  \t= \tWELCOME TO PYTHON\n",
      "\n",
      "Title case  \t= \tWelcome To Python\n",
      "\n",
      "Capitalized \t= \tWelcome to python\n",
      "\n",
      "Swap case  \t= \tWELCOME TO python\n",
      "\n"
     ]
    }
   ],
   "source": [
    "note = \"welcome to PYTHON\"\n",
    "\n",
    "# convert to lowercase\n",
    "print(f\"Lowercase  \\t= \\t{note.lower()}\\n\")\n",
    "\n",
    "# convert to uppercase\n",
    "print(f\"Uppercase  \\t= \\t{note.upper()}\\n\")\n",
    "\n",
    "#convert to title case \n",
    "print(f\"Title case  \\t= \\t{note.title()}\\n\")\n",
    "\n",
    "#capitalize - Capitalizes only the first letter of string.\n",
    "print(f\"Capitalized \\t= \\t{note.capitalize()}\\n\") \n",
    "\n",
    "#swapcase \n",
    "print(f\"Swap case  \\t= \\t{note.swapcase()}\\n\")"
   ]
  },
  {
   "cell_type": "markdown",
   "id": "6b18f3d3-1434-4d36-96a7-27827b3efc4a",
   "metadata": {
    "jp-MarkdownHeadingCollapsed": true
   },
   "source": [
    "### Trimming & Aligning"
   ]
  },
  {
   "cell_type": "code",
   "execution_count": 68,
   "id": "108a425f-d9a0-4f11-923d-2b61048ff197",
   "metadata": {},
   "outputs": [
    {
     "name": "stdout",
     "output_type": "stream",
     "text": [
      "Good   Morning\n",
      "Good   Morning  \n",
      "    Good   Morning\n"
     ]
    }
   ],
   "source": [
    "#Trimming\n",
    "\n",
    "# 1. Remove spaces from \"Good Morning\"  (both start and end)\n",
    "\n",
    "str = \"    Good   Morning  \"\n",
    "print(str.strip())   #The space in between the two words is not removed as it is considered as the part of the string\n",
    "\n",
    "#2. Remove spaces only from left side / start of the string\n",
    "print(str.lstrip())\n",
    "\n",
    "#3. Remove spaces only from right side / end of the string\n",
    "print(str.rstrip())\n"
   ]
  },
  {
   "cell_type": "code",
   "execution_count": 71,
   "id": "78a885d0-2de7-4cc8-b0a6-1ca8b5e5a750",
   "metadata": {},
   "outputs": [
    {
     "name": "stdout",
     "output_type": "stream",
     "text": [
      "*******python*******\n",
      "Hi--------\n",
      "--------Hi\n"
     ]
    }
   ],
   "source": [
    "# Aligning\n",
    "# 1. centre align \"Python\" in width 20, padded with *.\n",
    "print(\"python\".center(20, '*'))\n",
    "\n",
    "# 2. Left-align \"Hi\" in width 10.\n",
    "print(\"Hi\".ljust(10,'-'))\n",
    "\n",
    "# 3. Left-align \"Hi\" in width 10.\n",
    "print(\"Hi\".rjust(10,'-'))"
   ]
  },
  {
   "cell_type": "markdown",
   "id": "0a96619b-142b-4dd5-9a69-08bbe994ae40",
   "metadata": {
    "jp-MarkdownHeadingCollapsed": true
   },
   "source": [
    "### Finding & Replacing"
   ]
  },
  {
   "cell_type": "code",
   "execution_count": 76,
   "id": "465c0ce4-78cd-4a04-9f3f-3d387fd1c9d5",
   "metadata": {},
   "outputs": [
    {
     "name": "stdout",
     "output_type": "stream",
     "text": [
      "6\n",
      "-1\n"
     ]
    }
   ],
   "source": [
    "# 1. Find \"world\" in \"hello world\".\n",
    "my_str = \"hello world\"\n",
    "\n",
    "print(my_str.find(\"world\")) #returns index \n",
    "print(my_str.find(\"Bye\"))   #return -1 if not found"
   ]
  },
  {
   "cell_type": "code",
   "execution_count": 91,
   "id": "2deebf56-6c7a-4a19-ac69-231ddc404394",
   "metadata": {},
   "outputs": [
    {
     "name": "stdout",
     "output_type": "stream",
     "text": [
      "4\n",
      "7\n"
     ]
    }
   ],
   "source": [
    "# 2. rfind()\n",
    "print(my_str.find(\"o\"))  #first occurrence\n",
    "print(my_str.rfind(\"o\")) #last occurrence"
   ]
  },
  {
   "cell_type": "code",
   "execution_count": 79,
   "id": "2ca95b67-e4c9-41e0-9839-7e6c6a26e118",
   "metadata": {},
   "outputs": [
    {
     "name": "stdout",
     "output_type": "stream",
     "text": [
      "0\n"
     ]
    },
    {
     "ename": "ValueError",
     "evalue": "substring not found",
     "output_type": "error",
     "traceback": [
      "\u001b[1;31m---------------------------------------------------------------------------\u001b[0m",
      "\u001b[1;31mValueError\u001b[0m                                Traceback (most recent call last)",
      "Cell \u001b[1;32mIn[79], line 5\u001b[0m\n\u001b[0;32m      2\u001b[0m lang \u001b[38;5;241m=\u001b[39m \u001b[38;5;124m\"\u001b[39m\u001b[38;5;124mJava\u001b[39m\u001b[38;5;124m\"\u001b[39m\n\u001b[0;32m      4\u001b[0m \u001b[38;5;28mprint\u001b[39m(lang\u001b[38;5;241m.\u001b[39mindex(\u001b[38;5;124m\"\u001b[39m\u001b[38;5;124mJ\u001b[39m\u001b[38;5;124m\"\u001b[39m))\n\u001b[1;32m----> 5\u001b[0m \u001b[38;5;28mprint\u001b[39m(lang\u001b[38;5;241m.\u001b[39mindex(\u001b[38;5;124m\"\u001b[39m\u001b[38;5;124mpython\u001b[39m\u001b[38;5;124m\"\u001b[39m))\n",
      "\u001b[1;31mValueError\u001b[0m: substring not found"
     ]
    }
   ],
   "source": [
    "# 3. Try finding \"python\" in \"java\" using index()\n",
    "lang = \"Java\"\n",
    "\n",
    "print(lang.index(\"J\"))\n",
    "print(lang.index(\"python\")) # like find but raise error if not found\n"
   ]
  },
  {
   "cell_type": "code",
   "execution_count": 94,
   "id": "20cf2b32-6db6-4be2-ba71-4b818d7b5d1d",
   "metadata": {},
   "outputs": [
    {
     "name": "stdout",
     "output_type": "stream",
     "text": [
      "1\n",
      "3\n"
     ]
    }
   ],
   "source": [
    "# 4.rindex()\n",
    "print(lang.index(\"a\"))    #first occurrence\n",
    "print(lang.rindex(\"a\"))   #last occurrence"
   ]
  },
  {
   "cell_type": "code",
   "execution_count": 87,
   "id": "82799edb-06f3-405f-88dd-c86f08ba1deb",
   "metadata": {},
   "outputs": [
    {
     "name": "stdout",
     "output_type": "stream",
     "text": [
      "I love Java.\n",
      "I love Python.\n"
     ]
    }
   ],
   "source": [
    "# 5. Replace \"Java\" with \"Python\" in \"I love Java\".\n",
    "# .replace(old, new)\n",
    "\n",
    "str =  \"I love Java.\"\n",
    "\n",
    "print(str.replace(\"JAVA\", \"Python\")) #cannot replace as \"JAVA\" is not found\n",
    "print(str.replace(\"Java\", \"Python\"))"
   ]
  },
  {
   "cell_type": "markdown",
   "id": "c340d31f-50ab-4c91-9721-f4e7f19eeeee",
   "metadata": {},
   "source": [
    "### Splitting & Joining"
   ]
  },
  {
   "cell_type": "code",
   "execution_count": 100,
   "id": "36afe813-da78-4fdd-9fa1-b83436f7eb92",
   "metadata": {},
   "outputs": [
    {
     "name": "stdout",
     "output_type": "stream",
     "text": [
      "['apple,', 'banana,', 'grapes']\n",
      "['apple', ' banana', ' grapes']\n",
      "[['apple', ' banana', ' grapes']]\n"
     ]
    }
   ],
   "source": [
    "# 1. Split \"apple,banana,grape\" into a list.\n",
    "fruits = \"apple, banana, grapes\"\n",
    "\n",
    "fruit_list = []\n",
    "fruit_list.append(fruits.split(\",\"))\n",
    "\n",
    "print(fruits.split())     #does not eliminate semicolon , splits using space as the criteria\n",
    "print(fruits.split(\",\"))  # , is the criteria\n",
    "print(fruit_list)         # returns a nested list"
   ]
  },
  {
   "cell_type": "code",
   "execution_count": 108,
   "id": "cec6507a-17ca-48d0-8386-b3ec83e5690a",
   "metadata": {},
   "outputs": [
    {
     "name": "stdout",
     "output_type": "stream",
     "text": [
      "['apple, banana', ' grapes']\n"
     ]
    }
   ],
   "source": [
    "# 2. rsplit\n",
    "print(fruits.rsplit(\",\", 1)) "
   ]
  },
  {
   "cell_type": "code",
   "execution_count": 101,
   "id": "a78eeb81-17c4-4c3a-8955-3a3f4f238c09",
   "metadata": {},
   "outputs": [
    {
     "name": "stdout",
     "output_type": "stream",
     "text": [
      "['line1', 'line2', 'line3']\n"
     ]
    }
   ],
   "source": [
    "# 3. splitting the lines \n",
    "print(\"line1\\nline2\\nline3\".splitlines())"
   ]
  },
  {
   "cell_type": "code",
   "execution_count": 106,
   "id": "9dc67cc4-7051-445b-9e4a-9b8cb3cc00ad",
   "metadata": {},
   "outputs": [
    {
     "name": "stdout",
     "output_type": "stream",
     "text": [
      "('a', '=', 'b=c')\n"
     ]
    },
    {
     "data": {
      "text/plain": [
       "tuple"
      ]
     },
     "execution_count": 106,
     "metadata": {},
     "output_type": "execute_result"
    }
   ],
   "source": [
    "# 4.partition\n",
    "print(\"a=b=c\".partition(\"=\"))   \n",
    "\n",
    "var = \"a=b=c\".partition(\"=\")\n",
    "type(var)"
   ]
  },
  {
   "cell_type": "code",
   "execution_count": 112,
   "id": "26ed40be-5532-4133-86c4-9db9f236d455",
   "metadata": {},
   "outputs": [
    {
     "name": "stdout",
     "output_type": "stream",
     "text": [
      "('a=b', '=', 'c')\n"
     ]
    }
   ],
   "source": [
    "# 5. rpartition\n",
    "print(\"a=b=c\".rpartition(\"=\"))  "
   ]
  },
  {
   "cell_type": "code",
   "execution_count": 109,
   "id": "f34e9f49-c2b7-4ba4-ac25-097b85ebe728",
   "metadata": {},
   "outputs": [
    {
     "name": "stdout",
     "output_type": "stream",
     "text": [
      "Python-is-fun\n"
     ]
    }
   ],
   "source": [
    "# 6. join\n",
    "print(\"-\".join([\"Python\", \"is\", \"fun\"])) "
   ]
  },
  {
   "cell_type": "markdown",
   "id": "c825822b-78d0-4c57-a078-dd7e6c42a479",
   "metadata": {},
   "source": [
    "### Checking Contents"
   ]
  },
  {
   "cell_type": "code",
   "execution_count": 117,
   "id": "68e49a53-4358-40fa-a0b7-9deff1eb85bd",
   "metadata": {},
   "outputs": [
    {
     "name": "stdout",
     "output_type": "stream",
     "text": [
      "True\n",
      "True\n",
      "True\n",
      "True\n",
      "True\n",
      "True\n",
      "True\n",
      "True\n",
      "True\n",
      "True\n",
      "True\n",
      "True\n",
      "True\n"
     ]
    }
   ],
   "source": [
    "s = \"Python3\"\n",
    "\n",
    "print(s.startswith(\"Py\"))   # True\n",
    "print(s.endswith(\"3\"))      # True\n",
    "\n",
    "print(\"abc123\".isalnum())   # True (alphanumeric)\n",
    "print(\"Python\".isalpha())   # True (alphabets) \n",
    "print(\"12345\".isdigit())    # True \n",
    "print(\"12345\".isdecimal())  # True\n",
    "print(\"²3\".isnumeric())     # True (includes superscripts)\n",
    "print(\"var_name\".isidentifier())  # True (valid variable name)\n",
    "\n",
    "print(\"python\".islower())   # True\n",
    "print(\"PYTHON\".isupper())   # True\n",
    "print(\"Hello World\".istitle()) # True\n",
    "print(\"   \".isspace())      # True\n",
    "print(\"Hello\".isascii())    # True (ASCII only)"
   ]
  },
  {
   "cell_type": "markdown",
   "id": "b223da0b-8883-4fd5-8f1e-79c8f5f2dc9a",
   "metadata": {},
   "source": [
    "### Counting & Measuring"
   ]
  },
  {
   "cell_type": "code",
   "execution_count": 119,
   "id": "828faae5-f0a0-4681-be37-ea07bd9b288d",
   "metadata": {},
   "outputs": [
    {
     "name": "stdout",
     "output_type": "stream",
     "text": [
      "3\n"
     ]
    }
   ],
   "source": [
    "# 1. Counting\n",
    "s = \"banana\"\n",
    "\n",
    "print(s.count(\"a\"))"
   ]
  },
  {
   "cell_type": "code",
   "execution_count": 121,
   "id": "cbf6cf17-b5a2-4fc0-906c-800065dff85f",
   "metadata": {},
   "outputs": [
    {
     "name": "stdout",
     "output_type": "stream",
     "text": [
      "6\n"
     ]
    }
   ],
   "source": [
    "# 2. Measuring\n",
    "print(len(s))"
   ]
  },
  {
   "cell_type": "markdown",
   "id": "e30f6a7a-513a-4918-aeb9-fcc62acedf74",
   "metadata": {},
   "source": [
    "### formatting"
   ]
  },
  {
   "cell_type": "code",
   "execution_count": 115,
   "id": "f4c44a1d-08c1-49ab-b09d-cd5311d6d45e",
   "metadata": {},
   "outputs": [
    {
     "name": "stdout",
     "output_type": "stream",
     "text": [
      "My name is Alice, I am 25 years old.\n",
      "My name is Alice, I am 25 years old.\n",
      "Name: Bob, Age: 30\n",
      "My name is Alice, I am 25 years old.\n"
     ]
    }
   ],
   "source": [
    "name, age = \"Alice\", 25\n",
    "\n",
    "print(\"My name is {}, I am {} years old.\".format(name, age))\n",
    "print(\"My name is {n}, I am {a} years old.\".format(n=name, a=age))\n",
    "\n",
    "data = {\"name\": \"Bob\", \"age\": 30}\n",
    "print(\"Name: {name}, Age: {age}\".format_map(data))\n",
    "\n",
    "print(f\"My name is {name}, I am {age} years old.\")  # f-string\n"
   ]
  },
  {
   "cell_type": "markdown",
   "id": "eb51fc74-8e13-4781-95b5-2617d07b85cd",
   "metadata": {},
   "source": [
    "### Encoding and Translation"
   ]
  },
  {
   "cell_type": "code",
   "execution_count": 125,
   "id": "b2a42300-dd4b-4245-b18a-1bba5c3372cf",
   "metadata": {},
   "outputs": [
    {
     "name": "stdout",
     "output_type": "stream",
     "text": [
      "b'hello'\n"
     ]
    }
   ],
   "source": [
    "s = \"hello\"\n",
    "\n",
    "# 1. encode\n",
    "print(s.encode())   "
   ]
  },
  {
   "cell_type": "code",
   "execution_count": 126,
   "id": "4bfe6bbb-1e13-4e2a-826f-39f9402b91ac",
   "metadata": {},
   "outputs": [
    {
     "name": "stdout",
     "output_type": "stream",
     "text": [
      "h*ll* w*rld\n"
     ]
    }
   ],
   "source": [
    "# 2. Translation - replace vowels with '*'\n",
    "trans = str.maketrans(\"aeiou\", \"*****\")\n",
    "print(\"hello world\".translate(trans))   "
   ]
  },
  {
   "cell_type": "code",
   "execution_count": 133,
   "id": "867b0961-3f53-47e8-945a-77571be259d8",
   "metadata": {},
   "outputs": [
    {
     "name": "stdout",
     "output_type": "stream",
     "text": [
      "Hello   World\n"
     ]
    }
   ],
   "source": [
    "# 3. \n",
    "print(\"Hello\\tWorld\".expandtabs(4))  # 'Hello   World' \n",
    "# default tab size is 8"
   ]
  }
 ],
 "metadata": {
  "kernelspec": {
   "display_name": "Python 3 (ipykernel)",
   "language": "python",
   "name": "python3"
  },
  "language_info": {
   "codemirror_mode": {
    "name": "ipython",
    "version": 3
   },
   "file_extension": ".py",
   "mimetype": "text/x-python",
   "name": "python",
   "nbconvert_exporter": "python",
   "pygments_lexer": "ipython3",
   "version": "3.11.7"
  }
 },
 "nbformat": 4,
 "nbformat_minor": 5
}
